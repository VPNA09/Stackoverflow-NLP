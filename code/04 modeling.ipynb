{
 "cells": [
  {
   "cell_type": "markdown",
   "metadata": {},
   "source": [
    "# Imports"
   ]
  },
  {
   "cell_type": "code",
   "execution_count": 36,
   "metadata": {
    "ExecuteTime": {
     "end_time": "2020-03-13T00:16:44.182293Z",
     "start_time": "2020-03-13T00:16:44.032040Z"
    }
   },
   "outputs": [],
   "source": [
    "import pandas as pd\n",
    "\n",
    "from sklearn.model_selection import train_test_split, GridSearchCV\n",
    "from sklearn.pipeline import Pipeline\n",
    "\n",
    "from sklearn.linear_model import LogisticRegression\n",
    "from sklearn.feature_extraction.text import CountVectorizer, TfidfVectorizer\n",
    "\n",
    "from sklearn.ensemble import RandomForestClassifier, ExtraTreesClassifier\n",
    "\n",
    "# Which stop words do I want to use? -- use native sklearns \n",
    "from sklearn.feature_extraction import stop_words\n",
    "import nltk\n",
    "from nltk.corpus import stopwords\n",
    "\n",
    "np.random.seed(42)"
   ]
  },
  {
   "cell_type": "code",
   "execution_count": 2,
   "metadata": {
    "ExecuteTime": {
     "end_time": "2020-03-12T21:16:32.422013Z",
     "start_time": "2020-03-12T21:16:20.163921Z"
    },
    "scrolled": true
   },
   "outputs": [
    {
     "data": {
      "text/html": [
       "<div>\n",
       "<style scoped>\n",
       "    .dataframe tbody tr th:only-of-type {\n",
       "        vertical-align: middle;\n",
       "    }\n",
       "\n",
       "    .dataframe tbody tr th {\n",
       "        vertical-align: top;\n",
       "    }\n",
       "\n",
       "    .dataframe thead th {\n",
       "        text-align: right;\n",
       "    }\n",
       "</style>\n",
       "<table border=\"1\" class=\"dataframe\">\n",
       "  <thead>\n",
       "    <tr style=\"text-align: right;\">\n",
       "      <th></th>\n",
       "      <th>Id</th>\n",
       "      <th>CreationDate</th>\n",
       "      <th>Title</th>\n",
       "      <th>Body</th>\n",
       "      <th>Tags</th>\n",
       "      <th>ViewCount</th>\n",
       "      <th>AnswerCount</th>\n",
       "      <th>CommentCount</th>\n",
       "      <th>target_tags</th>\n",
       "      <th>overlap_tags</th>\n",
       "      <th>target_class</th>\n",
       "      <th>body_clean</th>\n",
       "    </tr>\n",
       "  </thead>\n",
       "  <tbody>\n",
       "    <tr>\n",
       "      <th>0</th>\n",
       "      <td>53992219</td>\n",
       "      <td>2019-01-01 00:01:55</td>\n",
       "      <td>How to programmatically change style sheet of ...</td>\n",
       "      <td>&lt;p&gt;I have so many buttons on a dialog and I wa...</td>\n",
       "      <td>['c++', 'qt', 'qt5', 'qtstylesheets', 'qpushbu...</td>\n",
       "      <td>775</td>\n",
       "      <td>2</td>\n",
       "      <td>2</td>\n",
       "      <td>{'c++'}</td>\n",
       "      <td>c++</td>\n",
       "      <td>4</td>\n",
       "      <td>i have so many buttons on a dialog and i want ...</td>\n",
       "    </tr>\n",
       "    <tr>\n",
       "      <th>1</th>\n",
       "      <td>53992223</td>\n",
       "      <td>2019-01-01 00:02:37</td>\n",
       "      <td>Unable to print a class list attribute using i...</td>\n",
       "      <td>&lt;p&gt;I am designing a deck class that has &lt;stron...</td>\n",
       "      <td>['python', 'python-3.x', 'list', 'class', 'pri...</td>\n",
       "      <td>40</td>\n",
       "      <td>2</td>\n",
       "      <td>0</td>\n",
       "      <td>{'python-3.x', 'python'}</td>\n",
       "      <td>python-3.x python</td>\n",
       "      <td>5</td>\n",
       "      <td>i am designing a deck class that has init meth...</td>\n",
       "    </tr>\n",
       "    <tr>\n",
       "      <th>2</th>\n",
       "      <td>53992234</td>\n",
       "      <td>2019-01-01 00:05:48</td>\n",
       "      <td>How to rearrange subplots so that one is under...</td>\n",
       "      <td>&lt;p&gt;I am trying to code two plots such that one...</td>\n",
       "      <td>['python', 'matplotlib', 'subplot']</td>\n",
       "      <td>519</td>\n",
       "      <td>1</td>\n",
       "      <td>1</td>\n",
       "      <td>{'python'}</td>\n",
       "      <td>python</td>\n",
       "      <td>5</td>\n",
       "      <td>i am trying to code two plots such that one pl...</td>\n",
       "    </tr>\n",
       "    <tr>\n",
       "      <th>3</th>\n",
       "      <td>53992248</td>\n",
       "      <td>2019-01-01 00:09:24</td>\n",
       "      <td>Function always returns 1</td>\n",
       "      <td>&lt;p&gt;I´m trying to write a simple branch predict...</td>\n",
       "      <td>['c++', 'function']</td>\n",
       "      <td>150</td>\n",
       "      <td>1</td>\n",
       "      <td>21</td>\n",
       "      <td>{'c++'}</td>\n",
       "      <td>c++</td>\n",
       "      <td>4</td>\n",
       "      <td>i m trying to write a simple branch predictor ...</td>\n",
       "    </tr>\n",
       "    <tr>\n",
       "      <th>4</th>\n",
       "      <td>53992252</td>\n",
       "      <td>2019-01-01 00:11:20</td>\n",
       "      <td>possible to speed up this query?</td>\n",
       "      <td>&lt;p&gt;I have the following query which takes a li...</td>\n",
       "      <td>['sql', 'postgresql']</td>\n",
       "      <td>40</td>\n",
       "      <td>1</td>\n",
       "      <td>0</td>\n",
       "      <td>{'sql'}</td>\n",
       "      <td>sql</td>\n",
       "      <td>0</td>\n",
       "      <td>i have the following query which takes a littl...</td>\n",
       "    </tr>\n",
       "  </tbody>\n",
       "</table>\n",
       "</div>"
      ],
      "text/plain": [
       "         Id         CreationDate  \\\n",
       "0  53992219  2019-01-01 00:01:55   \n",
       "1  53992223  2019-01-01 00:02:37   \n",
       "2  53992234  2019-01-01 00:05:48   \n",
       "3  53992248  2019-01-01 00:09:24   \n",
       "4  53992252  2019-01-01 00:11:20   \n",
       "\n",
       "                                               Title  \\\n",
       "0  How to programmatically change style sheet of ...   \n",
       "1  Unable to print a class list attribute using i...   \n",
       "2  How to rearrange subplots so that one is under...   \n",
       "3                          Function always returns 1   \n",
       "4                   possible to speed up this query?   \n",
       "\n",
       "                                                Body  \\\n",
       "0  <p>I have so many buttons on a dialog and I wa...   \n",
       "1  <p>I am designing a deck class that has <stron...   \n",
       "2  <p>I am trying to code two plots such that one...   \n",
       "3  <p>I´m trying to write a simple branch predict...   \n",
       "4  <p>I have the following query which takes a li...   \n",
       "\n",
       "                                                Tags  ViewCount  AnswerCount  \\\n",
       "0  ['c++', 'qt', 'qt5', 'qtstylesheets', 'qpushbu...        775            2   \n",
       "1  ['python', 'python-3.x', 'list', 'class', 'pri...         40            2   \n",
       "2                ['python', 'matplotlib', 'subplot']        519            1   \n",
       "3                                ['c++', 'function']        150            1   \n",
       "4                              ['sql', 'postgresql']         40            1   \n",
       "\n",
       "   CommentCount               target_tags       overlap_tags  target_class  \\\n",
       "0             2                   {'c++'}                c++             4   \n",
       "1             0  {'python-3.x', 'python'}  python-3.x python             5   \n",
       "2             1                {'python'}             python             5   \n",
       "3            21                   {'c++'}                c++             4   \n",
       "4             0                   {'sql'}                sql             0   \n",
       "\n",
       "                                          body_clean  \n",
       "0  i have so many buttons on a dialog and i want ...  \n",
       "1  i am designing a deck class that has init meth...  \n",
       "2  i am trying to code two plots such that one pl...  \n",
       "3  i m trying to write a simple branch predictor ...  \n",
       "4  i have the following query which takes a littl...  "
      ]
     },
     "execution_count": 2,
     "metadata": {},
     "output_type": "execute_result"
    }
   ],
   "source": [
    "df = pd.read_csv('../data/clean_final.csv')\n",
    "df = df.drop(['index'], axis = 1)\n",
    "df.head()"
   ]
  },
  {
   "cell_type": "code",
   "execution_count": 3,
   "metadata": {
    "ExecuteTime": {
     "end_time": "2020-03-12T21:17:04.562884Z",
     "start_time": "2020-03-12T21:17:04.332691Z"
    }
   },
   "outputs": [
    {
     "data": {
      "text/plain": [
       "Id              0\n",
       "CreationDate    0\n",
       "Title           0\n",
       "Body            0\n",
       "Tags            0\n",
       "ViewCount       0\n",
       "AnswerCount     0\n",
       "CommentCount    0\n",
       "target_tags     0\n",
       "overlap_tags    0\n",
       "target_class    0\n",
       "body_clean      1\n",
       "dtype: int64"
      ]
     },
     "execution_count": 3,
     "metadata": {},
     "output_type": "execute_result"
    }
   ],
   "source": [
    "df.isnull().sum()"
   ]
  },
  {
   "cell_type": "code",
   "execution_count": 4,
   "metadata": {
    "ExecuteTime": {
     "end_time": "2020-03-12T21:17:05.126150Z",
     "start_time": "2020-03-12T21:17:05.054648Z"
    }
   },
   "outputs": [
    {
     "data": {
      "text/html": [
       "<div>\n",
       "<style scoped>\n",
       "    .dataframe tbody tr th:only-of-type {\n",
       "        vertical-align: middle;\n",
       "    }\n",
       "\n",
       "    .dataframe tbody tr th {\n",
       "        vertical-align: top;\n",
       "    }\n",
       "\n",
       "    .dataframe thead th {\n",
       "        text-align: right;\n",
       "    }\n",
       "</style>\n",
       "<table border=\"1\" class=\"dataframe\">\n",
       "  <thead>\n",
       "    <tr style=\"text-align: right;\">\n",
       "      <th></th>\n",
       "      <th>Id</th>\n",
       "      <th>CreationDate</th>\n",
       "      <th>Title</th>\n",
       "      <th>Body</th>\n",
       "      <th>Tags</th>\n",
       "      <th>ViewCount</th>\n",
       "      <th>AnswerCount</th>\n",
       "      <th>CommentCount</th>\n",
       "      <th>target_tags</th>\n",
       "      <th>overlap_tags</th>\n",
       "      <th>target_class</th>\n",
       "      <th>body_clean</th>\n",
       "    </tr>\n",
       "  </thead>\n",
       "  <tbody>\n",
       "    <tr>\n",
       "      <th>91170</th>\n",
       "      <td>55234780</td>\n",
       "      <td>2019-03-19 06:21:07</td>\n",
       "      <td>1st data is officeIn and 2nd data is OfficeOut...</td>\n",
       "      <td>&lt;p&gt;&lt;a href=\"https://i.stack.imgur.com/P3SNS.pn...</td>\n",
       "      <td>['mysql', 'sql']</td>\n",
       "      <td>26</td>\n",
       "      <td>1</td>\n",
       "      <td>0</td>\n",
       "      <td>{'sql', 'mysql'}</td>\n",
       "      <td>sql mysql</td>\n",
       "      <td>0</td>\n",
       "      <td>NaN</td>\n",
       "    </tr>\n",
       "  </tbody>\n",
       "</table>\n",
       "</div>"
      ],
      "text/plain": [
       "             Id         CreationDate  \\\n",
       "91170  55234780  2019-03-19 06:21:07   \n",
       "\n",
       "                                                   Title  \\\n",
       "91170  1st data is officeIn and 2nd data is OfficeOut...   \n",
       "\n",
       "                                                    Body              Tags  \\\n",
       "91170  <p><a href=\"https://i.stack.imgur.com/P3SNS.pn...  ['mysql', 'sql']   \n",
       "\n",
       "       ViewCount  AnswerCount  CommentCount       target_tags overlap_tags  \\\n",
       "91170         26            1             0  {'sql', 'mysql'}    sql mysql   \n",
       "\n",
       "       target_class body_clean  \n",
       "91170             0        NaN  "
      ]
     },
     "execution_count": 4,
     "metadata": {},
     "output_type": "execute_result"
    }
   ],
   "source": [
    "df[df['body_clean'].isnull()]"
   ]
  },
  {
   "cell_type": "code",
   "execution_count": 5,
   "metadata": {
    "ExecuteTime": {
     "end_time": "2020-03-12T21:17:05.688144Z",
     "start_time": "2020-03-12T21:17:05.650827Z"
    }
   },
   "outputs": [
    {
     "data": {
      "text/plain": [
       "'<p><a href=\"https://i.stack.imgur.com/P3SNS.png\" rel=\"nofollow noreferrer\"><img src=\"https://i.stack.imgur.com/P3SNS.png\" alt=\"enter image description here\"></a></p>\\n\\n<pre><code>1476    5   2019-03-18 09:35:06.000\\n1487    5   2019-03-18 13:19:53.000\\n1488    5   2019-03-18 13:37:40.000\\n1495    5   2019-03-18 15:09:38.000\\n1497    5   2019-03-18 15:18:26.000\\n1503    5   2019-03-18 17:34:46.000\\n1504    5   2019-03-18 17:48:23.000\\n1511    5   2019-03-18 19:14:51.000\\n</code></pre>\\n'"
      ]
     },
     "execution_count": 5,
     "metadata": {},
     "output_type": "execute_result"
    }
   ],
   "source": [
    "df.loc[91170, 'Body']"
   ]
  },
  {
   "cell_type": "code",
   "execution_count": 6,
   "metadata": {
    "ExecuteTime": {
     "end_time": "2020-03-12T21:17:06.544182Z",
     "start_time": "2020-03-12T21:17:06.236313Z"
    }
   },
   "outputs": [],
   "source": [
    "# drop row with missing value in 'body_clean' (technically any missing values)\n",
    "df = df.dropna()"
   ]
  },
  {
   "cell_type": "code",
   "execution_count": 7,
   "metadata": {
    "ExecuteTime": {
     "end_time": "2020-03-12T21:17:07.281947Z",
     "start_time": "2020-03-12T21:17:07.064480Z"
    }
   },
   "outputs": [
    {
     "data": {
      "text/plain": [
       "Id              0\n",
       "CreationDate    0\n",
       "Title           0\n",
       "Body            0\n",
       "Tags            0\n",
       "ViewCount       0\n",
       "AnswerCount     0\n",
       "CommentCount    0\n",
       "target_tags     0\n",
       "overlap_tags    0\n",
       "target_class    0\n",
       "body_clean      0\n",
       "dtype: int64"
      ]
     },
     "execution_count": 7,
     "metadata": {},
     "output_type": "execute_result"
    }
   ],
   "source": [
    "df.isnull().sum()"
   ]
  },
  {
   "cell_type": "markdown",
   "metadata": {},
   "source": [
    "# Modeling "
   ]
  },
  {
   "cell_type": "markdown",
   "metadata": {},
   "source": [
    "## Model Prep "
   ]
  },
  {
   "cell_type": "code",
   "execution_count": 8,
   "metadata": {
    "ExecuteTime": {
     "end_time": "2020-03-12T21:17:08.806419Z",
     "start_time": "2020-03-12T21:17:08.803448Z"
    }
   },
   "outputs": [],
   "source": [
    "X = df['body_clean']\n",
    "y = df['target_class']"
   ]
  },
  {
   "cell_type": "markdown",
   "metadata": {},
   "source": [
    "Target Tags: \n",
    "- 0 =  SQL\n",
    "- 1 = Scala\n",
    "- 2 = R\n",
    "- 3 = Julia\n",
    "- 4 = C++\n",
    "- 5 = Python"
   ]
  },
  {
   "cell_type": "markdown",
   "metadata": {},
   "source": [
    "### Basline Accuracies "
   ]
  },
  {
   "cell_type": "code",
   "execution_count": 9,
   "metadata": {
    "ExecuteTime": {
     "end_time": "2020-03-12T21:17:11.213016Z",
     "start_time": "2020-03-12T21:17:11.051061Z"
    }
   },
   "outputs": [
    {
     "data": {
      "text/plain": [
       "5    0.552299\n",
       "0    0.211042\n",
       "2    0.110994\n",
       "4    0.103900\n",
       "1    0.019045\n",
       "3    0.002720\n",
       "Name: target_class, dtype: float64"
      ]
     },
     "execution_count": 9,
     "metadata": {},
     "output_type": "execute_result"
    }
   ],
   "source": [
    "y.value_counts(normalize = True)"
   ]
  },
  {
   "cell_type": "code",
   "execution_count": 10,
   "metadata": {
    "ExecuteTime": {
     "end_time": "2020-03-12T21:17:12.142041Z",
     "start_time": "2020-03-12T21:17:11.889026Z"
    }
   },
   "outputs": [],
   "source": [
    "X_train,X_test, y_train, y_test = train_test_split(X,\n",
    "                                                   y,\n",
    "                                                   test_size = 0.25,\n",
    "                                                   stratify = y,\n",
    "                                                   random_state = 42)"
   ]
  },
  {
   "cell_type": "markdown",
   "metadata": {},
   "source": [
    "### CountVectorizer + Logistic Regression: \n",
    "#### Create Pipeline and Gridsearch"
   ]
  },
  {
   "cell_type": "code",
   "execution_count": 11,
   "metadata": {
    "ExecuteTime": {
     "end_time": "2020-03-12T21:17:13.446188Z",
     "start_time": "2020-03-12T21:17:13.442613Z"
    }
   },
   "outputs": [],
   "source": [
    "# CountVectorizer Pipeline:\n",
    "# 1. CountVectorizer Instance (transformer)\n",
    "# 2. LogisticRegression Instance (estimator)\n",
    "\n",
    "max_iterations = 2_000\n",
    "\n",
    "pipe_cvec = Pipeline([\n",
    "    ('cvec',CountVectorizer()),        \n",
    "    ('lr',LogisticRegression(max_iter = max_iterations,           # To help mitigate convergence warnings\n",
    "                             solver = 'lbfgs',                    # turns off future warnings \n",
    "                             multi_class = 'multinomial'))        # mitigates future warnings  \n",
    "])"
   ]
  },
  {
   "cell_type": "code",
   "execution_count": 12,
   "metadata": {
    "ExecuteTime": {
     "end_time": "2020-03-12T21:17:14.199531Z",
     "start_time": "2020-03-12T21:17:14.196531Z"
    }
   },
   "outputs": [],
   "source": [
    "# param grid \n",
    "\n",
    "pipe_cvec_params = {\n",
    "    'cvec__max_features': [400,600],           # was initially [100, 500]  --> increased [400,600]\n",
    "    'cvec__ngram_range': [(1,2)],              # got rid of (1,1) -- only using (1,2) for now \n",
    "    'cvec__stop_words' : ['english']           # can consider adding to stop words dictionary \n",
    "    # can decide if I want to mess with 'max_df=1.0' and 'min_df=1' for CVEC params \n",
    "    \n",
    "}"
   ]
  },
  {
   "cell_type": "code",
   "execution_count": 13,
   "metadata": {
    "ExecuteTime": {
     "end_time": "2020-03-12T21:17:14.944654Z",
     "start_time": "2020-03-12T21:17:14.942154Z"
    }
   },
   "outputs": [],
   "source": [
    "# Instantiate CountVectorizer GridSearchCV\n",
    "gs_cvec = GridSearchCV(pipe_cvec,\n",
    "                       param_grid = pipe_cvec_params,\n",
    "                       cv = 3)"
   ]
  },
  {
   "cell_type": "code",
   "execution_count": 14,
   "metadata": {
    "ExecuteTime": {
     "end_time": "2020-03-12T22:03:40.193228Z",
     "start_time": "2020-03-12T21:17:15.683318Z"
    }
   },
   "outputs": [
    {
     "data": {
      "text/plain": [
       "GridSearchCV(cv=3, error_score='raise-deprecating',\n",
       "       estimator=Pipeline(memory=None,\n",
       "     steps=[('cvec', CountVectorizer(analyzer='word', binary=False, decode_error='strict',\n",
       "        dtype=<class 'numpy.int64'>, encoding='utf-8', input='content',\n",
       "        lowercase=True, max_df=1.0, max_features=None, min_df=1,\n",
       "        ngram_range=(1, 1), preprocessor=None, stop_words=None,\n",
       "        strip...enalty='l2', random_state=None, solver='lbfgs',\n",
       "          tol=0.0001, verbose=0, warm_start=False))]),\n",
       "       fit_params=None, iid='warn', n_jobs=None,\n",
       "       param_grid={'cvec__max_features': [400, 600], 'cvec__ngram_range': [(1, 2)], 'cvec__stop_words': ['english']},\n",
       "       pre_dispatch='2*n_jobs', refit=True, return_train_score='warn',\n",
       "       scoring=None, verbose=0)"
      ]
     },
     "execution_count": 14,
     "metadata": {},
     "output_type": "execute_result"
    }
   ],
   "source": [
    "# Fit GridSearch(CVEC) to training data.\n",
    "\n",
    "gs_cvec.fit(X_train,y_train)"
   ]
  },
  {
   "cell_type": "code",
   "execution_count": 15,
   "metadata": {
    "ExecuteTime": {
     "end_time": "2020-03-12T22:05:30.512069Z",
     "start_time": "2020-03-12T22:05:30.508323Z"
    }
   },
   "outputs": [
    {
     "data": {
      "text/plain": [
       "{'cvec__max_features': 600,\n",
       " 'cvec__ngram_range': (1, 2),\n",
       " 'cvec__stop_words': 'english'}"
      ]
     },
     "execution_count": 15,
     "metadata": {},
     "output_type": "execute_result"
    }
   ],
   "source": [
    "gs_cvec.best_params_"
   ]
  },
  {
   "cell_type": "code",
   "execution_count": 16,
   "metadata": {
    "ExecuteTime": {
     "end_time": "2020-03-12T22:05:31.907321Z",
     "start_time": "2020-03-12T22:05:31.904467Z"
    }
   },
   "outputs": [],
   "source": [
    "# save best model \n",
    "gs_cvec_model = gs_cvec.best_estimator_"
   ]
  },
  {
   "cell_type": "code",
   "execution_count": 17,
   "metadata": {
    "ExecuteTime": {
     "end_time": "2020-03-12T22:06:47.010796Z",
     "start_time": "2020-03-12T22:05:32.968664Z"
    }
   },
   "outputs": [
    {
     "data": {
      "text/plain": [
       "0.8996387511109837"
      ]
     },
     "execution_count": 17,
     "metadata": {},
     "output_type": "execute_result"
    }
   ],
   "source": [
    "# CountVectorize Accuracy on training \n",
    "gs_cvec_model.score(X_train,y_train)"
   ]
  },
  {
   "cell_type": "code",
   "execution_count": 18,
   "metadata": {
    "ExecuteTime": {
     "end_time": "2020-03-12T22:07:20.902307Z",
     "start_time": "2020-03-12T22:06:55.166144Z"
    }
   },
   "outputs": [
    {
     "data": {
      "text/plain": [
       "0.8967608202022982"
      ]
     },
     "execution_count": 18,
     "metadata": {},
     "output_type": "execute_result"
    }
   ],
   "source": [
    "# CountVectorize Accuracy on testing\n",
    "gs_cvec_model.score(X_test,y_test)"
   ]
  },
  {
   "cell_type": "markdown",
   "metadata": {},
   "source": [
    "### TFIDFVectorizer + Logistic Regression: \n",
    "#### Create Pipeline and Gridsearch"
   ]
  },
  {
   "cell_type": "code",
   "execution_count": 24,
   "metadata": {
    "ExecuteTime": {
     "end_time": "2020-03-12T22:46:47.250938Z",
     "start_time": "2020-03-12T22:46:47.247168Z"
    }
   },
   "outputs": [],
   "source": [
    "# TFIDF Vectorizer Pipeline:\n",
    "# 1. TFIDF Instance (transformer)\n",
    "# 2. LogisticRegression Instance (estimator)\n",
    "\n",
    "max_iterations = 2_000\n",
    "\n",
    "pipe_tvec = Pipeline([\n",
    "    ('tvec',TfidfVectorizer()),        \n",
    "    ('lr',LogisticRegression(max_iter = max_iterations,           # To help mitigate convergence warnings\n",
    "                             solver = 'lbfgs',                    # turns off future warnings \n",
    "                             multi_class = 'multinomial'))        # mitigates future warnings  \n",
    "])"
   ]
  },
  {
   "cell_type": "code",
   "execution_count": 25,
   "metadata": {
    "ExecuteTime": {
     "end_time": "2020-03-12T22:46:48.376178Z",
     "start_time": "2020-03-12T22:46:48.372957Z"
    }
   },
   "outputs": [],
   "source": [
    "# TFIDF param grid \n",
    "\n",
    "pipe_tvec_params = {\n",
    "    'tvec__max_features': [400,600],           # was initially [100, 500]  --> increased [400,600]\n",
    "    'tvec__ngram_range': [(1,2)],              # got rid of (1,1) -- only using (1,2) for now \n",
    "    'tvec__stop_words' : ['english']           # can consider adding to stop words dictionary \n",
    "    # can decide if I want to mess with 'max_df=1.0' and 'min_df=1' for CVEC params \n",
    "    \n",
    "}"
   ]
  },
  {
   "cell_type": "code",
   "execution_count": 26,
   "metadata": {
    "ExecuteTime": {
     "end_time": "2020-03-12T22:46:49.625741Z",
     "start_time": "2020-03-12T22:46:49.622740Z"
    }
   },
   "outputs": [],
   "source": [
    "# Instantiate CountVectorizer GridSearchCV\n",
    "gs_tvec = GridSearchCV(pipe_tvec,\n",
    "                       param_grid = pipe_tvec_params,\n",
    "                       cv = 3)"
   ]
  },
  {
   "cell_type": "code",
   "execution_count": 27,
   "metadata": {
    "ExecuteTime": {
     "end_time": "2020-03-12T23:14:52.844263Z",
     "start_time": "2020-03-12T22:47:09.886281Z"
    }
   },
   "outputs": [
    {
     "data": {
      "text/plain": [
       "GridSearchCV(cv=3, error_score='raise-deprecating',\n",
       "       estimator=Pipeline(memory=None,\n",
       "     steps=[('tvec', TfidfVectorizer(analyzer='word', binary=False, decode_error='strict',\n",
       "        dtype=<class 'numpy.float64'>, encoding='utf-8', input='content',\n",
       "        lowercase=True, max_df=1.0, max_features=None, min_df=1,\n",
       "        ngram_range=(1, 1), norm='l2', preprocessor=None, smooth_idf=True,\n",
       "...enalty='l2', random_state=None, solver='lbfgs',\n",
       "          tol=0.0001, verbose=0, warm_start=False))]),\n",
       "       fit_params=None, iid='warn', n_jobs=None,\n",
       "       param_grid={'tvec__max_features': [400, 600], 'tvec__ngram_range': [(1, 2)], 'tvec__stop_words': ['english']},\n",
       "       pre_dispatch='2*n_jobs', refit=True, return_train_score='warn',\n",
       "       scoring=None, verbose=0)"
      ]
     },
     "execution_count": 27,
     "metadata": {},
     "output_type": "execute_result"
    }
   ],
   "source": [
    "# Fit GridSearch(TVEC) to training data.\n",
    "\n",
    "gs_tvec.fit(X_train,y_train)"
   ]
  },
  {
   "cell_type": "code",
   "execution_count": 28,
   "metadata": {
    "ExecuteTime": {
     "end_time": "2020-03-12T23:15:06.035786Z",
     "start_time": "2020-03-12T23:15:06.031100Z"
    }
   },
   "outputs": [
    {
     "data": {
      "text/plain": [
       "{'tvec__max_features': 600,\n",
       " 'tvec__ngram_range': (1, 2),\n",
       " 'tvec__stop_words': 'english'}"
      ]
     },
     "execution_count": 28,
     "metadata": {},
     "output_type": "execute_result"
    }
   ],
   "source": [
    "gs_tvec.best_params_"
   ]
  },
  {
   "cell_type": "code",
   "execution_count": 29,
   "metadata": {
    "ExecuteTime": {
     "end_time": "2020-03-12T23:15:08.211283Z",
     "start_time": "2020-03-12T23:15:08.208642Z"
    }
   },
   "outputs": [],
   "source": [
    "# save best model \n",
    "gs_tvec_model = gs_tvec.best_estimator_"
   ]
  },
  {
   "cell_type": "code",
   "execution_count": 30,
   "metadata": {
    "ExecuteTime": {
     "end_time": "2020-03-12T23:16:34.587079Z",
     "start_time": "2020-03-12T23:15:10.040255Z"
    }
   },
   "outputs": [
    {
     "data": {
      "text/plain": [
       "0.9085696264227758"
      ]
     },
     "execution_count": 30,
     "metadata": {},
     "output_type": "execute_result"
    }
   ],
   "source": [
    "# TFIDF Accuracy on training \n",
    "gs_tvec_model.score(X_train,y_train)"
   ]
  },
  {
   "cell_type": "code",
   "execution_count": 32,
   "metadata": {
    "ExecuteTime": {
     "end_time": "2020-03-12T23:18:31.021045Z",
     "start_time": "2020-03-12T23:18:06.064946Z"
    }
   },
   "outputs": [
    {
     "data": {
      "text/plain": [
       "0.9071681689947018"
      ]
     },
     "execution_count": 32,
     "metadata": {},
     "output_type": "execute_result"
    }
   ],
   "source": [
    "# TFIDF Accuracy on testing\n",
    "gs_tvec_model.score(X_test,y_test)"
   ]
  },
  {
   "cell_type": "markdown",
   "metadata": {},
   "source": [
    "### TFIDFVectorizer + Decision Trees: \n",
    "#### Create Pipeline and Gridsearch"
   ]
  },
  {
   "cell_type": "code",
   "execution_count": null,
   "metadata": {},
   "outputs": [],
   "source": [
    "# TFIDF Vectorizer Pipeline:\n",
    "# 1. TFIDF Instance (transformer)\n",
    "# 2. Decision Trees Instance (estimator)\n",
    "\n",
    "max_iterations = 2_000\n",
    "\n",
    "pipe_tvec = Pipeline([\n",
    "    ('tvec',TfidfVectorizer()),        \n",
    "    ('rf',RandomForestClassifier(max_iter = max_iterations,           # To help mitigate convergence warnings\n",
    "                             solver = 'lbfgs',                    # turns off future warnings \n",
    "                             multi_class = 'multinomial'))        # mitigates future warnings  \n",
    "])"
   ]
  },
  {
   "cell_type": "code",
   "execution_count": null,
   "metadata": {},
   "outputs": [],
   "source": []
  },
  {
   "cell_type": "code",
   "execution_count": null,
   "metadata": {},
   "outputs": [],
   "source": []
  },
  {
   "cell_type": "code",
   "execution_count": null,
   "metadata": {},
   "outputs": [],
   "source": []
  },
  {
   "cell_type": "code",
   "execution_count": null,
   "metadata": {},
   "outputs": [],
   "source": []
  },
  {
   "cell_type": "code",
   "execution_count": null,
   "metadata": {},
   "outputs": [],
   "source": []
  },
  {
   "cell_type": "code",
   "execution_count": null,
   "metadata": {},
   "outputs": [],
   "source": []
  }
 ],
 "metadata": {
  "kernelspec": {
   "display_name": "Python 3",
   "language": "python",
   "name": "python3"
  },
  "language_info": {
   "codemirror_mode": {
    "name": "ipython",
    "version": 3
   },
   "file_extension": ".py",
   "mimetype": "text/x-python",
   "name": "python",
   "nbconvert_exporter": "python",
   "pygments_lexer": "ipython3",
   "version": "3.7.1"
  },
  "toc": {
   "base_numbering": 1,
   "nav_menu": {},
   "number_sections": true,
   "sideBar": true,
   "skip_h1_title": false,
   "title_cell": "Table of Contents",
   "title_sidebar": "Contents",
   "toc_cell": false,
   "toc_position": {},
   "toc_section_display": true,
   "toc_window_display": false
  },
  "varInspector": {
   "cols": {
    "lenName": 16,
    "lenType": 16,
    "lenVar": 40
   },
   "kernels_config": {
    "python": {
     "delete_cmd_postfix": "",
     "delete_cmd_prefix": "del ",
     "library": "var_list.py",
     "varRefreshCmd": "print(var_dic_list())"
    },
    "r": {
     "delete_cmd_postfix": ") ",
     "delete_cmd_prefix": "rm(",
     "library": "var_list.r",
     "varRefreshCmd": "cat(var_dic_list()) "
    }
   },
   "types_to_exclude": [
    "module",
    "function",
    "builtin_function_or_method",
    "instance",
    "_Feature"
   ],
   "window_display": false
  }
 },
 "nbformat": 4,
 "nbformat_minor": 2
}
