{
 "cells": [
  {
   "cell_type": "markdown",
   "metadata": {},
   "source": [
    "# Imports"
   ]
  },
  {
   "cell_type": "code",
   "execution_count": 1,
   "metadata": {
    "ExecuteTime": {
     "end_time": "2020-03-14T15:47:00.554168Z",
     "start_time": "2020-03-14T15:46:59.291489Z"
    }
   },
   "outputs": [],
   "source": [
    "import pandas as pd\n",
    "import numpy as np\n",
    "import matplotlib.pyplot as plt\n",
    "%matplotlib inline\n",
    "\n",
    "import seaborn as sns\n",
    "from datetime import datetime\n",
    "\n",
    "import regex as re\n",
    "from bs4 import BeautifulSoup "
   ]
  },
  {
   "cell_type": "markdown",
   "metadata": {},
   "source": [
    "# Data Cleaning: \n",
    "1. Language tags \n",
    "    - Target Tags: \n",
    "        - SQL (Target Class: 0)\n",
    "        - Scala (Target Class: 1)\n",
    "        - R (Target Class: 2)\n",
    "        - Julia (Target Class: 3)\n",
    "        - C++ (Target Class: 4)\n",
    "        - Python (Target Class: 5)\n",
    "    - Remove tags that won't be used for modeling (the 6 above) \n",
    "2. Body & Title (will I use Title in modeling?) \n",
    "    - Clean up body and titles:\n",
    "        - remove HTML tags & numbers \n",
    "3. MISC Cleaning\n",
    "    - Reset Index\n",
    "    - CreationDate column --> Datetimeformat"
   ]
  },
  {
   "cell_type": "markdown",
   "metadata": {},
   "source": [
    "#### To continue with this notebook you will need to have weekly_combined2019.csv file. [link](https://drive.google.com/open?id=1OPgd2J14mfQkCpvhz9O8qFbql0FUpDaf)"
   ]
  },
  {
   "cell_type": "code",
   "execution_count": 2,
   "metadata": {
    "ExecuteTime": {
     "end_time": "2020-03-14T15:47:33.609451Z",
     "start_time": "2020-03-14T15:47:03.960951Z"
    }
   },
   "outputs": [],
   "source": [
    "df = pd.read_csv('../data/weekly_combined2019.csv')"
   ]
  },
  {
   "cell_type": "code",
   "execution_count": 3,
   "metadata": {
    "ExecuteTime": {
     "end_time": "2020-03-14T15:47:41.336762Z",
     "start_time": "2020-03-14T15:47:41.323762Z"
    }
   },
   "outputs": [
    {
     "data": {
      "text/html": [
       "<div>\n",
       "<style scoped>\n",
       "    .dataframe tbody tr th:only-of-type {\n",
       "        vertical-align: middle;\n",
       "    }\n",
       "\n",
       "    .dataframe tbody tr th {\n",
       "        vertical-align: top;\n",
       "    }\n",
       "\n",
       "    .dataframe thead th {\n",
       "        text-align: right;\n",
       "    }\n",
       "</style>\n",
       "<table border=\"1\" class=\"dataframe\">\n",
       "  <thead>\n",
       "    <tr style=\"text-align: right;\">\n",
       "      <th></th>\n",
       "      <th>Id</th>\n",
       "      <th>CreationDate</th>\n",
       "      <th>Title</th>\n",
       "      <th>Body</th>\n",
       "      <th>Tags</th>\n",
       "      <th>ViewCount</th>\n",
       "      <th>AnswerCount</th>\n",
       "      <th>CommentCount</th>\n",
       "    </tr>\n",
       "  </thead>\n",
       "  <tbody>\n",
       "    <tr>\n",
       "      <th>0</th>\n",
       "      <td>53992215</td>\n",
       "      <td>2019-01-01 00:00:04</td>\n",
       "      <td>Using a ScheduledExecutorService to run a task...</td>\n",
       "      <td>&lt;p&gt;I am working on a program that will read da...</td>\n",
       "      <td>&lt;java&gt;&lt;executorservice&gt;&lt;java-threads&gt;</td>\n",
       "      <td>73</td>\n",
       "      <td>1</td>\n",
       "      <td>3</td>\n",
       "    </tr>\n",
       "    <tr>\n",
       "      <th>1</th>\n",
       "      <td>53992219</td>\n",
       "      <td>2019-01-01 00:01:55</td>\n",
       "      <td>How to programmatically change style sheet of ...</td>\n",
       "      <td>&lt;p&gt;I have so many buttons on a dialog and I wa...</td>\n",
       "      <td>&lt;c++&gt;&lt;qt&gt;&lt;qt5&gt;&lt;qtstylesheets&gt;&lt;qpushbutton&gt;</td>\n",
       "      <td>775</td>\n",
       "      <td>2</td>\n",
       "      <td>2</td>\n",
       "    </tr>\n",
       "    <tr>\n",
       "      <th>2</th>\n",
       "      <td>53992220</td>\n",
       "      <td>2019-01-01 00:02:08</td>\n",
       "      <td>Trying to put website into Maintenance Mode (3...</td>\n",
       "      <td>&lt;p&gt;I'm trying to put my webpage into Maintenan...</td>\n",
       "      <td>&lt;.htaccess&gt;</td>\n",
       "      <td>364</td>\n",
       "      <td>2</td>\n",
       "      <td>13</td>\n",
       "    </tr>\n",
       "    <tr>\n",
       "      <th>3</th>\n",
       "      <td>53992221</td>\n",
       "      <td>2019-01-01 00:02:27</td>\n",
       "      <td>Node.js Lambda Async return Undefined</td>\n",
       "      <td>&lt;p&gt;Simple call to ec2 Describing Security grou...</td>\n",
       "      <td>&lt;node.js&gt;&lt;lambda&gt;</td>\n",
       "      <td>423</td>\n",
       "      <td>3</td>\n",
       "      <td>3</td>\n",
       "    </tr>\n",
       "    <tr>\n",
       "      <th>4</th>\n",
       "      <td>53992223</td>\n",
       "      <td>2019-01-01 00:02:37</td>\n",
       "      <td>Unable to print a class list attribute using i...</td>\n",
       "      <td>&lt;p&gt;I am designing a deck class that has &lt;stron...</td>\n",
       "      <td>&lt;python&gt;&lt;python-3.x&gt;&lt;list&gt;&lt;class&gt;&lt;printing&gt;</td>\n",
       "      <td>40</td>\n",
       "      <td>2</td>\n",
       "      <td>0</td>\n",
       "    </tr>\n",
       "  </tbody>\n",
       "</table>\n",
       "</div>"
      ],
      "text/plain": [
       "         Id         CreationDate  \\\n",
       "0  53992215  2019-01-01 00:00:04   \n",
       "1  53992219  2019-01-01 00:01:55   \n",
       "2  53992220  2019-01-01 00:02:08   \n",
       "3  53992221  2019-01-01 00:02:27   \n",
       "4  53992223  2019-01-01 00:02:37   \n",
       "\n",
       "                                               Title  \\\n",
       "0  Using a ScheduledExecutorService to run a task...   \n",
       "1  How to programmatically change style sheet of ...   \n",
       "2  Trying to put website into Maintenance Mode (3...   \n",
       "3              Node.js Lambda Async return Undefined   \n",
       "4  Unable to print a class list attribute using i...   \n",
       "\n",
       "                                                Body  \\\n",
       "0  <p>I am working on a program that will read da...   \n",
       "1  <p>I have so many buttons on a dialog and I wa...   \n",
       "2  <p>I'm trying to put my webpage into Maintenan...   \n",
       "3  <p>Simple call to ec2 Describing Security grou...   \n",
       "4  <p>I am designing a deck class that has <stron...   \n",
       "\n",
       "                                          Tags  ViewCount  AnswerCount  \\\n",
       "0        <java><executorservice><java-threads>         73            1   \n",
       "1   <c++><qt><qt5><qtstylesheets><qpushbutton>        775            2   \n",
       "2                                  <.htaccess>        364            2   \n",
       "3                            <node.js><lambda>        423            3   \n",
       "4  <python><python-3.x><list><class><printing>         40            2   \n",
       "\n",
       "   CommentCount  \n",
       "0             3  \n",
       "1             2  \n",
       "2            13  \n",
       "3             3  \n",
       "4             0  "
      ]
     },
     "execution_count": 3,
     "metadata": {},
     "output_type": "execute_result"
    }
   ],
   "source": [
    "df.head()"
   ]
  },
  {
   "cell_type": "markdown",
   "metadata": {},
   "source": [
    "## Language Tags "
   ]
  },
  {
   "cell_type": "markdown",
   "metadata": {},
   "source": [
    "### Clean up tags"
   ]
  },
  {
   "cell_type": "code",
   "execution_count": 4,
   "metadata": {
    "ExecuteTime": {
     "end_time": "2020-03-14T15:47:46.138937Z",
     "start_time": "2020-03-14T15:47:46.134644Z"
    }
   },
   "outputs": [],
   "source": [
    "def tag_replace_split(tag):\n",
    "    '''\n",
    "    function to get rid of characters ('><, <, >') from tag column and replace with either space, or nothing \n",
    "    then put that new tag into list to be able to parse more easily for modeling  \n",
    "\n",
    "    '''\n",
    "    tag = tag.replace('><', ' ')\n",
    "    tag = tag.replace('<', '')\n",
    "    tag = tag.replace('>', '')\n",
    "    tag = tag.split()\n",
    "    \n",
    "    return tag "
   ]
  },
  {
   "cell_type": "code",
   "execution_count": 5,
   "metadata": {
    "ExecuteTime": {
     "end_time": "2020-03-14T15:47:52.284015Z",
     "start_time": "2020-03-14T15:47:47.969303Z"
    }
   },
   "outputs": [],
   "source": [
    "# Use \"tag_replace_split\" function to clean up original tags column  \n",
    "df['Tags'] = df['Tags'].map(lambda x: tag_replace_split(x))"
   ]
  },
  {
   "cell_type": "code",
   "execution_count": 6,
   "metadata": {
    "ExecuteTime": {
     "end_time": "2020-03-14T15:47:53.809475Z",
     "start_time": "2020-03-14T15:47:53.797882Z"
    }
   },
   "outputs": [
    {
     "data": {
      "text/html": [
       "<div>\n",
       "<style scoped>\n",
       "    .dataframe tbody tr th:only-of-type {\n",
       "        vertical-align: middle;\n",
       "    }\n",
       "\n",
       "    .dataframe tbody tr th {\n",
       "        vertical-align: top;\n",
       "    }\n",
       "\n",
       "    .dataframe thead th {\n",
       "        text-align: right;\n",
       "    }\n",
       "</style>\n",
       "<table border=\"1\" class=\"dataframe\">\n",
       "  <thead>\n",
       "    <tr style=\"text-align: right;\">\n",
       "      <th></th>\n",
       "      <th>Id</th>\n",
       "      <th>CreationDate</th>\n",
       "      <th>Title</th>\n",
       "      <th>Body</th>\n",
       "      <th>Tags</th>\n",
       "      <th>ViewCount</th>\n",
       "      <th>AnswerCount</th>\n",
       "      <th>CommentCount</th>\n",
       "    </tr>\n",
       "  </thead>\n",
       "  <tbody>\n",
       "    <tr>\n",
       "      <th>0</th>\n",
       "      <td>53992215</td>\n",
       "      <td>2019-01-01 00:00:04</td>\n",
       "      <td>Using a ScheduledExecutorService to run a task...</td>\n",
       "      <td>&lt;p&gt;I am working on a program that will read da...</td>\n",
       "      <td>[java, executorservice, java-threads]</td>\n",
       "      <td>73</td>\n",
       "      <td>1</td>\n",
       "      <td>3</td>\n",
       "    </tr>\n",
       "    <tr>\n",
       "      <th>1</th>\n",
       "      <td>53992219</td>\n",
       "      <td>2019-01-01 00:01:55</td>\n",
       "      <td>How to programmatically change style sheet of ...</td>\n",
       "      <td>&lt;p&gt;I have so many buttons on a dialog and I wa...</td>\n",
       "      <td>[c++, qt, qt5, qtstylesheets, qpushbutton]</td>\n",
       "      <td>775</td>\n",
       "      <td>2</td>\n",
       "      <td>2</td>\n",
       "    </tr>\n",
       "    <tr>\n",
       "      <th>2</th>\n",
       "      <td>53992220</td>\n",
       "      <td>2019-01-01 00:02:08</td>\n",
       "      <td>Trying to put website into Maintenance Mode (3...</td>\n",
       "      <td>&lt;p&gt;I'm trying to put my webpage into Maintenan...</td>\n",
       "      <td>[.htaccess]</td>\n",
       "      <td>364</td>\n",
       "      <td>2</td>\n",
       "      <td>13</td>\n",
       "    </tr>\n",
       "    <tr>\n",
       "      <th>3</th>\n",
       "      <td>53992221</td>\n",
       "      <td>2019-01-01 00:02:27</td>\n",
       "      <td>Node.js Lambda Async return Undefined</td>\n",
       "      <td>&lt;p&gt;Simple call to ec2 Describing Security grou...</td>\n",
       "      <td>[node.js, lambda]</td>\n",
       "      <td>423</td>\n",
       "      <td>3</td>\n",
       "      <td>3</td>\n",
       "    </tr>\n",
       "    <tr>\n",
       "      <th>4</th>\n",
       "      <td>53992223</td>\n",
       "      <td>2019-01-01 00:02:37</td>\n",
       "      <td>Unable to print a class list attribute using i...</td>\n",
       "      <td>&lt;p&gt;I am designing a deck class that has &lt;stron...</td>\n",
       "      <td>[python, python-3.x, list, class, printing]</td>\n",
       "      <td>40</td>\n",
       "      <td>2</td>\n",
       "      <td>0</td>\n",
       "    </tr>\n",
       "  </tbody>\n",
       "</table>\n",
       "</div>"
      ],
      "text/plain": [
       "         Id         CreationDate  \\\n",
       "0  53992215  2019-01-01 00:00:04   \n",
       "1  53992219  2019-01-01 00:01:55   \n",
       "2  53992220  2019-01-01 00:02:08   \n",
       "3  53992221  2019-01-01 00:02:27   \n",
       "4  53992223  2019-01-01 00:02:37   \n",
       "\n",
       "                                               Title  \\\n",
       "0  Using a ScheduledExecutorService to run a task...   \n",
       "1  How to programmatically change style sheet of ...   \n",
       "2  Trying to put website into Maintenance Mode (3...   \n",
       "3              Node.js Lambda Async return Undefined   \n",
       "4  Unable to print a class list attribute using i...   \n",
       "\n",
       "                                                Body  \\\n",
       "0  <p>I am working on a program that will read da...   \n",
       "1  <p>I have so many buttons on a dialog and I wa...   \n",
       "2  <p>I'm trying to put my webpage into Maintenan...   \n",
       "3  <p>Simple call to ec2 Describing Security grou...   \n",
       "4  <p>I am designing a deck class that has <stron...   \n",
       "\n",
       "                                          Tags  ViewCount  AnswerCount  \\\n",
       "0        [java, executorservice, java-threads]         73            1   \n",
       "1   [c++, qt, qt5, qtstylesheets, qpushbutton]        775            2   \n",
       "2                                  [.htaccess]        364            2   \n",
       "3                            [node.js, lambda]        423            3   \n",
       "4  [python, python-3.x, list, class, printing]         40            2   \n",
       "\n",
       "   CommentCount  \n",
       "0             3  \n",
       "1             2  \n",
       "2            13  \n",
       "3             3  \n",
       "4             0  "
      ]
     },
     "execution_count": 6,
     "metadata": {},
     "output_type": "execute_result"
    }
   ],
   "source": [
    "df.head()"
   ]
  },
  {
   "cell_type": "markdown",
   "metadata": {},
   "source": [
    "### Categorize Langauge Tags\n",
    "- categorizing and drop unnecesary rows with non-target tags"
   ]
  },
  {
   "cell_type": "markdown",
   "metadata": {},
   "source": [
    "#### Language Tag Sets"
   ]
  },
  {
   "cell_type": "code",
   "execution_count": 7,
   "metadata": {
    "ExecuteTime": {
     "end_time": "2020-03-14T15:48:00.499197Z",
     "start_time": "2020-03-14T15:48:00.492692Z"
    }
   },
   "outputs": [],
   "source": [
    "# Individual tag sets for each language I'm targeting \n",
    "# created target sets\n",
    "\n",
    "# SQL (target class: 0)\n",
    "sql_set = {'sql','bigquery-standard-sql','sqlparameters', 'sqlparameter', 'web-sql', 'sqlite3','sqlite', \n",
    "          'sql2016', 'sql-server-2016', 'sql-execution-plan','spark-sql','sql-order-by','sql-join',  \n",
    "          'sql-syntax','sql-statement','sql-query','mysql-query','orderby','sql-server','mysql'} \n",
    "\n",
    "# Scala (taget class: 1)\n",
    "scala_set = {'scala', 'scala-implicits', 'scala-generics'} \n",
    "\n",
    "# R (target class: 2)\n",
    "r_set = {'rstats', 'r', 'r-language', 'r-faq'}\n",
    "\n",
    "# Julia (target: 3)\n",
    "julia_set = {'julia-lang', 'julia', 'julialang'}\n",
    "\n",
    "# C++ (target: 4)\n",
    "cplus_set = {'c++', 'c++17', 'visual-c++'}\n",
    "\n",
    "# Python (target: 5)\n",
    "py_set = {'python', 'python3', 'python-3.7', 'python-3.x', 'pytorch', 'python-list', 'py3', 'ipython-notebook', \n",
    "          'python3', 'python-3.5.2' , 'python-2.7', 'python-3', 'python-bigquery', 'pythonic', 'py'}\n",
    "\n",
    "# includes all language tags \n",
    "# union of all sets \n",
    "master_set = (sql_set|scala_set|r_set|julia_set|cplus_set|py_set)\n",
    "\n",
    "# else : -1 \n",
    "\n",
    "all_sets = [sql_set, scala_set, r_set, julia_set, cplus_set, py_set]"
   ]
  },
  {
   "cell_type": "code",
   "execution_count": 8,
   "metadata": {
    "ExecuteTime": {
     "end_time": "2020-03-14T15:48:07.962083Z",
     "start_time": "2020-03-14T15:48:04.774785Z"
    }
   },
   "outputs": [],
   "source": [
    "# look through each row of tags and see if there's an intersection with tags and master set of languages \n",
    "# has to be a set to use .intersection \n",
    "df['target_tags'] = df['Tags'].apply(lambda tags: set(tags).intersection(master_set))"
   ]
  },
  {
   "cell_type": "code",
   "execution_count": 9,
   "metadata": {
    "ExecuteTime": {
     "end_time": "2020-03-14T15:48:08.745962Z",
     "start_time": "2020-03-14T15:48:08.733128Z"
    }
   },
   "outputs": [
    {
     "data": {
      "text/html": [
       "<div>\n",
       "<style scoped>\n",
       "    .dataframe tbody tr th:only-of-type {\n",
       "        vertical-align: middle;\n",
       "    }\n",
       "\n",
       "    .dataframe tbody tr th {\n",
       "        vertical-align: top;\n",
       "    }\n",
       "\n",
       "    .dataframe thead th {\n",
       "        text-align: right;\n",
       "    }\n",
       "</style>\n",
       "<table border=\"1\" class=\"dataframe\">\n",
       "  <thead>\n",
       "    <tr style=\"text-align: right;\">\n",
       "      <th></th>\n",
       "      <th>Id</th>\n",
       "      <th>CreationDate</th>\n",
       "      <th>Title</th>\n",
       "      <th>Body</th>\n",
       "      <th>Tags</th>\n",
       "      <th>ViewCount</th>\n",
       "      <th>AnswerCount</th>\n",
       "      <th>CommentCount</th>\n",
       "      <th>target_tags</th>\n",
       "    </tr>\n",
       "  </thead>\n",
       "  <tbody>\n",
       "    <tr>\n",
       "      <th>0</th>\n",
       "      <td>53992215</td>\n",
       "      <td>2019-01-01 00:00:04</td>\n",
       "      <td>Using a ScheduledExecutorService to run a task...</td>\n",
       "      <td>&lt;p&gt;I am working on a program that will read da...</td>\n",
       "      <td>[java, executorservice, java-threads]</td>\n",
       "      <td>73</td>\n",
       "      <td>1</td>\n",
       "      <td>3</td>\n",
       "      <td>{}</td>\n",
       "    </tr>\n",
       "    <tr>\n",
       "      <th>1</th>\n",
       "      <td>53992219</td>\n",
       "      <td>2019-01-01 00:01:55</td>\n",
       "      <td>How to programmatically change style sheet of ...</td>\n",
       "      <td>&lt;p&gt;I have so many buttons on a dialog and I wa...</td>\n",
       "      <td>[c++, qt, qt5, qtstylesheets, qpushbutton]</td>\n",
       "      <td>775</td>\n",
       "      <td>2</td>\n",
       "      <td>2</td>\n",
       "      <td>{c++}</td>\n",
       "    </tr>\n",
       "    <tr>\n",
       "      <th>2</th>\n",
       "      <td>53992220</td>\n",
       "      <td>2019-01-01 00:02:08</td>\n",
       "      <td>Trying to put website into Maintenance Mode (3...</td>\n",
       "      <td>&lt;p&gt;I'm trying to put my webpage into Maintenan...</td>\n",
       "      <td>[.htaccess]</td>\n",
       "      <td>364</td>\n",
       "      <td>2</td>\n",
       "      <td>13</td>\n",
       "      <td>{}</td>\n",
       "    </tr>\n",
       "    <tr>\n",
       "      <th>3</th>\n",
       "      <td>53992221</td>\n",
       "      <td>2019-01-01 00:02:27</td>\n",
       "      <td>Node.js Lambda Async return Undefined</td>\n",
       "      <td>&lt;p&gt;Simple call to ec2 Describing Security grou...</td>\n",
       "      <td>[node.js, lambda]</td>\n",
       "      <td>423</td>\n",
       "      <td>3</td>\n",
       "      <td>3</td>\n",
       "      <td>{}</td>\n",
       "    </tr>\n",
       "    <tr>\n",
       "      <th>4</th>\n",
       "      <td>53992223</td>\n",
       "      <td>2019-01-01 00:02:37</td>\n",
       "      <td>Unable to print a class list attribute using i...</td>\n",
       "      <td>&lt;p&gt;I am designing a deck class that has &lt;stron...</td>\n",
       "      <td>[python, python-3.x, list, class, printing]</td>\n",
       "      <td>40</td>\n",
       "      <td>2</td>\n",
       "      <td>0</td>\n",
       "      <td>{python, python-3.x}</td>\n",
       "    </tr>\n",
       "  </tbody>\n",
       "</table>\n",
       "</div>"
      ],
      "text/plain": [
       "         Id         CreationDate  \\\n",
       "0  53992215  2019-01-01 00:00:04   \n",
       "1  53992219  2019-01-01 00:01:55   \n",
       "2  53992220  2019-01-01 00:02:08   \n",
       "3  53992221  2019-01-01 00:02:27   \n",
       "4  53992223  2019-01-01 00:02:37   \n",
       "\n",
       "                                               Title  \\\n",
       "0  Using a ScheduledExecutorService to run a task...   \n",
       "1  How to programmatically change style sheet of ...   \n",
       "2  Trying to put website into Maintenance Mode (3...   \n",
       "3              Node.js Lambda Async return Undefined   \n",
       "4  Unable to print a class list attribute using i...   \n",
       "\n",
       "                                                Body  \\\n",
       "0  <p>I am working on a program that will read da...   \n",
       "1  <p>I have so many buttons on a dialog and I wa...   \n",
       "2  <p>I'm trying to put my webpage into Maintenan...   \n",
       "3  <p>Simple call to ec2 Describing Security grou...   \n",
       "4  <p>I am designing a deck class that has <stron...   \n",
       "\n",
       "                                          Tags  ViewCount  AnswerCount  \\\n",
       "0        [java, executorservice, java-threads]         73            1   \n",
       "1   [c++, qt, qt5, qtstylesheets, qpushbutton]        775            2   \n",
       "2                                  [.htaccess]        364            2   \n",
       "3                            [node.js, lambda]        423            3   \n",
       "4  [python, python-3.x, list, class, printing]         40            2   \n",
       "\n",
       "   CommentCount           target_tags  \n",
       "0             3                    {}  \n",
       "1             2                 {c++}  \n",
       "2            13                    {}  \n",
       "3             3                    {}  \n",
       "4             0  {python, python-3.x}  "
      ]
     },
     "execution_count": 9,
     "metadata": {},
     "output_type": "execute_result"
    }
   ],
   "source": [
    "df.head()"
   ]
  },
  {
   "cell_type": "code",
   "execution_count": 10,
   "metadata": {
    "ExecuteTime": {
     "end_time": "2020-03-14T15:48:10.792342Z",
     "start_time": "2020-03-14T15:48:10.788330Z"
    }
   },
   "outputs": [
    {
     "data": {
      "text/plain": [
       "(1878570, 9)"
      ]
     },
     "execution_count": 10,
     "metadata": {},
     "output_type": "execute_result"
    }
   ],
   "source": [
    "# Original \n",
    "df.shape"
   ]
  },
  {
   "cell_type": "code",
   "execution_count": 11,
   "metadata": {
    "ExecuteTime": {
     "end_time": "2020-03-14T15:48:12.977252Z",
     "start_time": "2020-03-14T15:48:11.447602Z"
    }
   },
   "outputs": [],
   "source": [
    "# drop rows that have empty sets for target_tags \n",
    "df.drop(df[df['target_tags'] == set({})].index, inplace = True)"
   ]
  },
  {
   "cell_type": "code",
   "execution_count": 12,
   "metadata": {
    "ExecuteTime": {
     "end_time": "2020-03-14T15:48:17.168178Z",
     "start_time": "2020-03-14T15:48:17.163809Z"
    }
   },
   "outputs": [
    {
     "data": {
      "text/plain": [
       "(465055, 9)"
      ]
     },
     "execution_count": 12,
     "metadata": {},
     "output_type": "execute_result"
    }
   ],
   "source": [
    "# New df with only target languages from sets created \n",
    "# loss about 75% of data from original\n",
    "df.shape"
   ]
  },
  {
   "cell_type": "code",
   "execution_count": 2,
   "metadata": {
    "ExecuteTime": {
     "end_time": "2020-03-16T17:09:35.461459Z",
     "start_time": "2020-03-16T17:09:35.457245Z"
    }
   },
   "outputs": [
    {
     "data": {
      "text/plain": [
       "75.24420170661726"
      ]
     },
     "execution_count": 2,
     "metadata": {},
     "output_type": "execute_result"
    }
   ],
   "source": [
    "# difference between old and new / old \n",
    "((1878570-465055)/1878570)*100"
   ]
  },
  {
   "cell_type": "markdown",
   "metadata": {},
   "source": [
    "#### Overlapping Target Classes"
   ]
  },
  {
   "cell_type": "code",
   "execution_count": 14,
   "metadata": {
    "ExecuteTime": {
     "end_time": "2020-03-14T15:48:21.681831Z",
     "start_time": "2020-03-14T15:48:21.396160Z"
    }
   },
   "outputs": [],
   "source": [
    "# use this column to check and see which languages are overlapping b/c can't use .unique on list \n",
    "df['overlap_tags'] = df['target_tags'].map(lambda tag: ' '.join(tag))"
   ]
  },
  {
   "cell_type": "code",
   "execution_count": 15,
   "metadata": {
    "ExecuteTime": {
     "end_time": "2020-03-14T15:48:22.075879Z",
     "start_time": "2020-03-14T15:48:21.987187Z"
    }
   },
   "outputs": [
    {
     "data": {
      "text/plain": [
       "array(['c++', 'python python-3.x', 'python', 'sql', 'r', 'sqlite',\n",
       "       'sql-server', 'mysql', 'python-3.x', 'scala', 'mysql sql',\n",
       "       'mysql python python-3.x', 'sql-server sql', 'python python-2.7',\n",
       "       'pytorch', 'mysql sql python', 'sqlite python', 'pytorch python',\n",
       "       'python-2.7', 'c++ visual-c++', 'mysql python', 'sql python',\n",
       "       'c++17 c++', 'mysql c++', 'c++ python',\n",
       "       'python python-3.x python-2.7', 'sqlite sql', 'visual-c++',\n",
       "       'sqlite c++ sql', 'mysql sql-server sql', 'mysql sql-order-by',\n",
       "       'sql sql-server-2016', 'julia', 'mysql sql sql-order-by',\n",
       "       'sql-server sql-server-2016', 'sqlite python-3.x',\n",
       "       'mysql python python-2.7', 'sql-server sql sql-server-2016',\n",
       "       'sqlite sql-server', 'sql-execution-plan sql-server sql',\n",
       "       'sqlite python-3.x python', 'sql-server python',\n",
       "       'sql-order-by sql', 'sql-server python-3.x', 'pytorch python-2.7',\n",
       "       'c++ sql', 'sql-server-2016', 'sql r', 'pytorch python-3.x python',\n",
       "       'sql-order-by', 'sqlite c++', 'python-3.x python-2.7',\n",
       "       'c++17 c++ visual-c++', 'sql-server sql r', 'sql-order-by r',\n",
       "       'sql python-3.x', 'python r', 'pytorch python-3.x',\n",
       "       'python-3.7 python', 'c++ python-2.7', 'mysql python-3.x',\n",
       "       'sql-server r', 'mysql sql-server python', 'mysql sql-server',\n",
       "       'sql-order-by sql-server', 'sql bigquery-standard-sql',\n",
       "       'sql-order-by sql-server sql', 'sql-server sql python', 'mysql r',\n",
       "       'c++ sql-server sql', 'sqlite sql python', 'c++ python-3.x',\n",
       "       'c++17', 'c++ r', 'python sql-server sql python-3.x',\n",
       "       'mysql python-2.7', 'sql-execution-plan',\n",
       "       'sql-order-by sqlite sql', 'mysql sqlite', 'scala python-3.x',\n",
       "       'scala sql', 'python c++ python-3.x', 'sqlite python python-2.7',\n",
       "       'python-3.7 python python-3.x', 'python-3.7 python python-2.7',\n",
       "       'sqlite r python', 'scala python', 'python-3.7', 'mysql scala',\n",
       "       'c++ python python-2.7', 'python-3.7 pytorch', 'pytorch c++',\n",
       "       'sqlite r', 'python python-3.x sql r', 'python sql python-3.x',\n",
       "       'mysql sql-server sql-server-2016', 'python-3.7 pytorch python',\n",
       "       'c++ sql-server', 'c++ julia', 'sql visual-c++',\n",
       "       'bigquery-standard-sql', 'python sql-server python-3.x',\n",
       "       'c++ python visual-c++', 'sql-server c++', 'julia python-3.x',\n",
       "       'mysql python sql python-3.x', 'sqlite python-2.7', 'julia python',\n",
       "       'sql-execution-plan sql-server', 'python-3.7 python-3.x',\n",
       "       'r python-3.x', 'sql python python-2.7', 'mysql sqlite sql',\n",
       "       'python sql r', 'python visual-c++', 'sqlite sql-server sql',\n",
       "       'sqlite sql python-3.x python', 'pytorch c++ python',\n",
       "       'sql-order-by sqlite', 'mysql python python-3.x python-2.7',\n",
       "       'sql-server visual-c++', 'python python-3.x r', 'mysql sql r',\n",
       "       'mysql scala python', 'r sql-server-2016', 'julia r',\n",
       "       'sqlite sql python-3.x', 'mysql sqlite python',\n",
       "       'python-3.7 python-2.7', 'sqlite web-sql',\n",
       "       'python python-3.x visual-c++', 'sqlite julia',\n",
       "       'mysql sqlparameter', 'python sql-server-2016',\n",
       "       'python-3.7 c++ python', 'sqlite sql r',\n",
       "       'mysql sql python python-2.7', 'pytorch julia python',\n",
       "       'mysql sql-execution-plan', 'c++17 python c++ python-3.x',\n",
       "       'mysql sqlite sql-server',\n",
       "       'python-2.7 mysql python-3.x sql python',\n",
       "       'mysql sqlite sql python', 'c++ python-3.x python-2.7',\n",
       "       'python-3.7 sql', 'scala c++', 'scala sql-server sql',\n",
       "       'python-2.7 sqlite python-3.x python', 'web-sql',\n",
       "       'scala sql-server', 'python sql-server r',\n",
       "       'sql-server sql python-3.x', 'mysql sql python-3.x',\n",
       "       'mysql c++ sql-server sql', 'sql-execution-plan sql',\n",
       "       'sql-server python-3.x python-2.7', 'python-3.x r',\n",
       "       'sql python-2.7', 'mysql visual-c++',\n",
       "       'python-2.7 pytorch python-3.x python', 'sql-server sql c++',\n",
       "       'scala sqlite', 'python-3.7 sqlite', 'mysql scala sql',\n",
       "       'mysql python-3.7', 'sql sqlparameter', 'c++17 visual-c++',\n",
       "       'python-3.x visual-c++', 'sqlite c++ visual-c++', 'mysql c++ sql',\n",
       "       'sql-server sql bigquery-standard-sql', 'r python-2.7',\n",
       "       'sql-server sqlparameter', 'scala r', 'mysql python-3.7 python',\n",
       "       'python-3.7 python python-3.x python-2.7',\n",
       "       'sqlite sql python python-2.7', 'pytorch python python-2.7',\n",
       "       'sqlite c++ sql-server visual-c++', 'c++ python-3.x visual-c++',\n",
       "       'sql web-sql', 'scala python python-3.x',\n",
       "       'sql-execution-plan sql-server-2016', 'scala sql python',\n",
       "       'sql-order-by bigquery-standard-sql',\n",
       "       'mysql sqlite python-3.x python', 'python python-3.x r python-2.7',\n",
       "       'python-bigquery python', 'python-bigquery', 'mysql sql-server r',\n",
       "       'sql-execution-plan sql-server sql-server-2016',\n",
       "       'python-3.x sql-server-2016', 'c++ sql-server visual-c++',\n",
       "       'sqlite sql-server python', 'r-faq r',\n",
       "       'python-bigquery python-3.x', 'mysql python-bigquery sql',\n",
       "       'mysql sql-server bigquery-standard-sql', 'c++17 c++ python',\n",
       "       'python-bigquery python-2.7', 'mysql sql-server sql-order-by',\n",
       "       'sql-server sql sqlparameter', 'sql-server python python-2.7',\n",
       "       'sqlite c++ python', 'python julia python-3.x',\n",
       "       'mysql sql-server sql python', 'sql-server python-2.7',\n",
       "       'mysql bigquery-standard-sql', 'sqlparameter', 'python-3.7 c++',\n",
       "       'scala sql python-3.x', 'c++ r visual-c++',\n",
       "       'python-bigquery sql python', 'mysql sql bigquery-standard-sql',\n",
       "       'python-3.7 pytorch python-3.x python',\n",
       "       'sqlite python-3.x python-2.7',\n",
       "       'python-bigquery python-3.x bigquery-standard-sql',\n",
       "       'sqlite visual-c++', 'python-bigquery bigquery-standard-sql',\n",
       "       'sql-server sql python-2.7', 'python-3.7 visual-c++',\n",
       "       'mysql scala python-3.x', 'sql-server sql visual-c++',\n",
       "       'mysql sql-order-by python-3.x', 'sql-order-by scala',\n",
       "       'sqlite sql-server sql python', 'sqlite sql-server sql r',\n",
       "       'sql-order-by python', 'sqlite julia sql',\n",
       "       'mysql sql-execution-plan sql', 'python sql python-3.x python-2.7',\n",
       "       'scala sql-server python-3.x', 'mysql python-3.x python-2.7',\n",
       "       'mysql c++ sql python'], dtype=object)"
      ]
     },
     "execution_count": 15,
     "metadata": {},
     "output_type": "execute_result"
    }
   ],
   "source": [
    "# overlapping languagues: \n",
    "# Fair amount, will need to address this. \n",
    "# r & python \n",
    "# sql & python \n",
    "# r & sql\n",
    "# c ++ & sql \n",
    "# 'python-3.x scala sql-server'\n",
    "# 'python-3.x python-2.7 c++'\n",
    "# 'python-3.x python r sql'\n",
    "\n",
    "df['overlap_tags'].unique()"
   ]
  },
  {
   "cell_type": "code",
   "execution_count": 16,
   "metadata": {
    "ExecuteTime": {
     "end_time": "2020-03-14T15:48:25.824560Z",
     "start_time": "2020-03-14T15:48:25.819485Z"
    }
   },
   "outputs": [],
   "source": [
    "# If have time will come back and create functions to check for overlapping classes \n",
    "def check_2class(tags, class1, class2):\n",
    "    '''\n",
    "    make a function that would take a post's tags, and check \n",
    "    if the tags are in class1 and class2.\n",
    "    \n",
    "    If so, return the rows that satisfy that condition.\n",
    "    \n",
    "    (Then you can drop those rows --> do this outside the function)\n",
    "    '''\n",
    "    pass\n",
    "\n",
    "def check_3class(tags, class1, class2, class3):\n",
    "    pass\n",
    "\n",
    "def check_4class(tags, class1, class2, class3, class4):\n",
    "    pass\n",
    "\n",
    "def check_5class(tags, class1, class2, class3, class4, class5):\n",
    "    pass\n",
    "\n",
    "def check_6class(tags, class1, class2, class3, class4, class5, class6):\n",
    "    pass"
   ]
  },
  {
   "cell_type": "code",
   "execution_count": 17,
   "metadata": {
    "ExecuteTime": {
     "end_time": "2020-03-14T15:48:27.099275Z",
     "start_time": "2020-03-14T15:48:27.084412Z"
    }
   },
   "outputs": [
    {
     "data": {
      "text/html": [
       "<div>\n",
       "<style scoped>\n",
       "    .dataframe tbody tr th:only-of-type {\n",
       "        vertical-align: middle;\n",
       "    }\n",
       "\n",
       "    .dataframe tbody tr th {\n",
       "        vertical-align: top;\n",
       "    }\n",
       "\n",
       "    .dataframe thead th {\n",
       "        text-align: right;\n",
       "    }\n",
       "</style>\n",
       "<table border=\"1\" class=\"dataframe\">\n",
       "  <thead>\n",
       "    <tr style=\"text-align: right;\">\n",
       "      <th></th>\n",
       "      <th>Id</th>\n",
       "      <th>CreationDate</th>\n",
       "      <th>Title</th>\n",
       "      <th>Body</th>\n",
       "      <th>Tags</th>\n",
       "      <th>ViewCount</th>\n",
       "      <th>AnswerCount</th>\n",
       "      <th>CommentCount</th>\n",
       "      <th>target_tags</th>\n",
       "      <th>overlap_tags</th>\n",
       "    </tr>\n",
       "  </thead>\n",
       "  <tbody>\n",
       "    <tr>\n",
       "      <th>1</th>\n",
       "      <td>53992219</td>\n",
       "      <td>2019-01-01 00:01:55</td>\n",
       "      <td>How to programmatically change style sheet of ...</td>\n",
       "      <td>&lt;p&gt;I have so many buttons on a dialog and I wa...</td>\n",
       "      <td>[c++, qt, qt5, qtstylesheets, qpushbutton]</td>\n",
       "      <td>775</td>\n",
       "      <td>2</td>\n",
       "      <td>2</td>\n",
       "      <td>{c++}</td>\n",
       "      <td>c++</td>\n",
       "    </tr>\n",
       "    <tr>\n",
       "      <th>4</th>\n",
       "      <td>53992223</td>\n",
       "      <td>2019-01-01 00:02:37</td>\n",
       "      <td>Unable to print a class list attribute using i...</td>\n",
       "      <td>&lt;p&gt;I am designing a deck class that has &lt;stron...</td>\n",
       "      <td>[python, python-3.x, list, class, printing]</td>\n",
       "      <td>40</td>\n",
       "      <td>2</td>\n",
       "      <td>0</td>\n",
       "      <td>{python, python-3.x}</td>\n",
       "      <td>python python-3.x</td>\n",
       "    </tr>\n",
       "    <tr>\n",
       "      <th>8</th>\n",
       "      <td>53992234</td>\n",
       "      <td>2019-01-01 00:05:48</td>\n",
       "      <td>How to rearrange subplots so that one is under...</td>\n",
       "      <td>&lt;p&gt;I am trying to code two plots such that one...</td>\n",
       "      <td>[python, matplotlib, subplot]</td>\n",
       "      <td>519</td>\n",
       "      <td>1</td>\n",
       "      <td>1</td>\n",
       "      <td>{python}</td>\n",
       "      <td>python</td>\n",
       "    </tr>\n",
       "    <tr>\n",
       "      <th>10</th>\n",
       "      <td>53992248</td>\n",
       "      <td>2019-01-01 00:09:24</td>\n",
       "      <td>Function always returns 1</td>\n",
       "      <td>&lt;p&gt;I´m trying to write a simple branch predict...</td>\n",
       "      <td>[c++, function]</td>\n",
       "      <td>150</td>\n",
       "      <td>1</td>\n",
       "      <td>21</td>\n",
       "      <td>{c++}</td>\n",
       "      <td>c++</td>\n",
       "    </tr>\n",
       "    <tr>\n",
       "      <th>11</th>\n",
       "      <td>53992252</td>\n",
       "      <td>2019-01-01 00:11:20</td>\n",
       "      <td>possible to speed up this query?</td>\n",
       "      <td>&lt;p&gt;I have the following query which takes a li...</td>\n",
       "      <td>[sql, postgresql]</td>\n",
       "      <td>40</td>\n",
       "      <td>1</td>\n",
       "      <td>0</td>\n",
       "      <td>{sql}</td>\n",
       "      <td>sql</td>\n",
       "    </tr>\n",
       "  </tbody>\n",
       "</table>\n",
       "</div>"
      ],
      "text/plain": [
       "          Id         CreationDate  \\\n",
       "1   53992219  2019-01-01 00:01:55   \n",
       "4   53992223  2019-01-01 00:02:37   \n",
       "8   53992234  2019-01-01 00:05:48   \n",
       "10  53992248  2019-01-01 00:09:24   \n",
       "11  53992252  2019-01-01 00:11:20   \n",
       "\n",
       "                                                Title  \\\n",
       "1   How to programmatically change style sheet of ...   \n",
       "4   Unable to print a class list attribute using i...   \n",
       "8   How to rearrange subplots so that one is under...   \n",
       "10                          Function always returns 1   \n",
       "11                   possible to speed up this query?   \n",
       "\n",
       "                                                 Body  \\\n",
       "1   <p>I have so many buttons on a dialog and I wa...   \n",
       "4   <p>I am designing a deck class that has <stron...   \n",
       "8   <p>I am trying to code two plots such that one...   \n",
       "10  <p>I´m trying to write a simple branch predict...   \n",
       "11  <p>I have the following query which takes a li...   \n",
       "\n",
       "                                           Tags  ViewCount  AnswerCount  \\\n",
       "1    [c++, qt, qt5, qtstylesheets, qpushbutton]        775            2   \n",
       "4   [python, python-3.x, list, class, printing]         40            2   \n",
       "8                 [python, matplotlib, subplot]        519            1   \n",
       "10                              [c++, function]        150            1   \n",
       "11                            [sql, postgresql]         40            1   \n",
       "\n",
       "    CommentCount           target_tags       overlap_tags  \n",
       "1              2                 {c++}                c++  \n",
       "4              0  {python, python-3.x}  python python-3.x  \n",
       "8              1              {python}             python  \n",
       "10            21                 {c++}                c++  \n",
       "11             0                 {sql}                sql  "
      ]
     },
     "execution_count": 17,
     "metadata": {},
     "output_type": "execute_result"
    }
   ],
   "source": [
    "df.head()"
   ]
  },
  {
   "cell_type": "markdown",
   "metadata": {},
   "source": [
    "#### Create Target Classes\n",
    "\n",
    "- 0 = SQL  \n",
    "- 1 = Scala  \n",
    "- 2 = R \n",
    "- 3 = Julia  \n",
    "- 4 = C++  \n",
    "- 5 = Python "
   ]
  },
  {
   "cell_type": "code",
   "execution_count": 18,
   "metadata": {
    "ExecuteTime": {
     "end_time": "2020-03-14T15:48:30.640575Z",
     "start_time": "2020-03-14T15:48:30.635133Z"
    }
   },
   "outputs": [],
   "source": [
    "def assign_target(tags):\n",
    "    \"\"\"\n",
    "    Function to create target classes for my tags \n",
    "    \n",
    "    *Limitation*: uses first tag to assign the target. \n",
    "    If there are multiple langauges in the tags like SQL and Python, \n",
    "    will pick SQL since appears first. \n",
    "    \n",
    "    \"\"\"\n",
    "    for target_class, target_set in enumerate(all_sets):\n",
    "        for tag in tags.split():\n",
    "            if tag in target_set:\n",
    "                return target_class\n",
    "            else:\n",
    "                continue\n",
    "    return -1"
   ]
  },
  {
   "cell_type": "code",
   "execution_count": 19,
   "metadata": {
    "ExecuteTime": {
     "end_time": "2020-03-14T15:48:33.209545Z",
     "start_time": "2020-03-14T15:48:32.421248Z"
    }
   },
   "outputs": [
    {
     "data": {
      "text/html": [
       "<div>\n",
       "<style scoped>\n",
       "    .dataframe tbody tr th:only-of-type {\n",
       "        vertical-align: middle;\n",
       "    }\n",
       "\n",
       "    .dataframe tbody tr th {\n",
       "        vertical-align: top;\n",
       "    }\n",
       "\n",
       "    .dataframe thead th {\n",
       "        text-align: right;\n",
       "    }\n",
       "</style>\n",
       "<table border=\"1\" class=\"dataframe\">\n",
       "  <thead>\n",
       "    <tr style=\"text-align: right;\">\n",
       "      <th></th>\n",
       "      <th>Id</th>\n",
       "      <th>CreationDate</th>\n",
       "      <th>Title</th>\n",
       "      <th>Body</th>\n",
       "      <th>Tags</th>\n",
       "      <th>ViewCount</th>\n",
       "      <th>AnswerCount</th>\n",
       "      <th>CommentCount</th>\n",
       "      <th>target_tags</th>\n",
       "      <th>overlap_tags</th>\n",
       "      <th>target_class</th>\n",
       "    </tr>\n",
       "  </thead>\n",
       "  <tbody>\n",
       "    <tr>\n",
       "      <th>1</th>\n",
       "      <td>53992219</td>\n",
       "      <td>2019-01-01 00:01:55</td>\n",
       "      <td>How to programmatically change style sheet of ...</td>\n",
       "      <td>&lt;p&gt;I have so many buttons on a dialog and I wa...</td>\n",
       "      <td>[c++, qt, qt5, qtstylesheets, qpushbutton]</td>\n",
       "      <td>775</td>\n",
       "      <td>2</td>\n",
       "      <td>2</td>\n",
       "      <td>{c++}</td>\n",
       "      <td>c++</td>\n",
       "      <td>4</td>\n",
       "    </tr>\n",
       "    <tr>\n",
       "      <th>4</th>\n",
       "      <td>53992223</td>\n",
       "      <td>2019-01-01 00:02:37</td>\n",
       "      <td>Unable to print a class list attribute using i...</td>\n",
       "      <td>&lt;p&gt;I am designing a deck class that has &lt;stron...</td>\n",
       "      <td>[python, python-3.x, list, class, printing]</td>\n",
       "      <td>40</td>\n",
       "      <td>2</td>\n",
       "      <td>0</td>\n",
       "      <td>{python, python-3.x}</td>\n",
       "      <td>python python-3.x</td>\n",
       "      <td>5</td>\n",
       "    </tr>\n",
       "    <tr>\n",
       "      <th>8</th>\n",
       "      <td>53992234</td>\n",
       "      <td>2019-01-01 00:05:48</td>\n",
       "      <td>How to rearrange subplots so that one is under...</td>\n",
       "      <td>&lt;p&gt;I am trying to code two plots such that one...</td>\n",
       "      <td>[python, matplotlib, subplot]</td>\n",
       "      <td>519</td>\n",
       "      <td>1</td>\n",
       "      <td>1</td>\n",
       "      <td>{python}</td>\n",
       "      <td>python</td>\n",
       "      <td>5</td>\n",
       "    </tr>\n",
       "    <tr>\n",
       "      <th>10</th>\n",
       "      <td>53992248</td>\n",
       "      <td>2019-01-01 00:09:24</td>\n",
       "      <td>Function always returns 1</td>\n",
       "      <td>&lt;p&gt;I´m trying to write a simple branch predict...</td>\n",
       "      <td>[c++, function]</td>\n",
       "      <td>150</td>\n",
       "      <td>1</td>\n",
       "      <td>21</td>\n",
       "      <td>{c++}</td>\n",
       "      <td>c++</td>\n",
       "      <td>4</td>\n",
       "    </tr>\n",
       "    <tr>\n",
       "      <th>11</th>\n",
       "      <td>53992252</td>\n",
       "      <td>2019-01-01 00:11:20</td>\n",
       "      <td>possible to speed up this query?</td>\n",
       "      <td>&lt;p&gt;I have the following query which takes a li...</td>\n",
       "      <td>[sql, postgresql]</td>\n",
       "      <td>40</td>\n",
       "      <td>1</td>\n",
       "      <td>0</td>\n",
       "      <td>{sql}</td>\n",
       "      <td>sql</td>\n",
       "      <td>0</td>\n",
       "    </tr>\n",
       "  </tbody>\n",
       "</table>\n",
       "</div>"
      ],
      "text/plain": [
       "          Id         CreationDate  \\\n",
       "1   53992219  2019-01-01 00:01:55   \n",
       "4   53992223  2019-01-01 00:02:37   \n",
       "8   53992234  2019-01-01 00:05:48   \n",
       "10  53992248  2019-01-01 00:09:24   \n",
       "11  53992252  2019-01-01 00:11:20   \n",
       "\n",
       "                                                Title  \\\n",
       "1   How to programmatically change style sheet of ...   \n",
       "4   Unable to print a class list attribute using i...   \n",
       "8   How to rearrange subplots so that one is under...   \n",
       "10                          Function always returns 1   \n",
       "11                   possible to speed up this query?   \n",
       "\n",
       "                                                 Body  \\\n",
       "1   <p>I have so many buttons on a dialog and I wa...   \n",
       "4   <p>I am designing a deck class that has <stron...   \n",
       "8   <p>I am trying to code two plots such that one...   \n",
       "10  <p>I´m trying to write a simple branch predict...   \n",
       "11  <p>I have the following query which takes a li...   \n",
       "\n",
       "                                           Tags  ViewCount  AnswerCount  \\\n",
       "1    [c++, qt, qt5, qtstylesheets, qpushbutton]        775            2   \n",
       "4   [python, python-3.x, list, class, printing]         40            2   \n",
       "8                 [python, matplotlib, subplot]        519            1   \n",
       "10                              [c++, function]        150            1   \n",
       "11                            [sql, postgresql]         40            1   \n",
       "\n",
       "    CommentCount           target_tags       overlap_tags  target_class  \n",
       "1              2                 {c++}                c++             4  \n",
       "4              0  {python, python-3.x}  python python-3.x             5  \n",
       "8              1              {python}             python             5  \n",
       "10            21                 {c++}                c++             4  \n",
       "11             0                 {sql}                sql             0  "
      ]
     },
     "execution_count": 19,
     "metadata": {},
     "output_type": "execute_result"
    }
   ],
   "source": [
    "df['target_class'] =  df['overlap_tags'].map(assign_target)\n",
    "df.head()"
   ]
  },
  {
   "cell_type": "code",
   "execution_count": 20,
   "metadata": {
    "ExecuteTime": {
     "end_time": "2020-03-14T15:48:39.003563Z",
     "start_time": "2020-03-14T15:48:38.995304Z"
    }
   },
   "outputs": [
    {
     "data": {
      "text/plain": [
       "array([4, 5, 0, 2, 1, 3])"
      ]
     },
     "execution_count": 20,
     "metadata": {},
     "output_type": "execute_result"
    }
   ],
   "source": [
    "# no -1, so there aren't any extra classes \n",
    "df['target_class'].unique()"
   ]
  },
  {
   "cell_type": "markdown",
   "metadata": {},
   "source": [
    "#### Target Class Baseline "
   ]
  },
  {
   "cell_type": "code",
   "execution_count": 21,
   "metadata": {
    "ExecuteTime": {
     "end_time": "2020-03-14T15:48:42.464607Z",
     "start_time": "2020-03-14T15:48:42.258482Z"
    }
   },
   "outputs": [
    {
     "data": {
      "text/plain": [
       "5    0.552298\n",
       "0    0.211044\n",
       "2    0.110993\n",
       "4    0.103900\n",
       "1    0.019045\n",
       "3    0.002720\n",
       "Name: target_class, dtype: float64"
      ]
     },
     "execution_count": 21,
     "metadata": {},
     "output_type": "execute_result"
    }
   ],
   "source": [
    "df['target_class'].value_counts(normalize = True)"
   ]
  },
  {
   "cell_type": "markdown",
   "metadata": {},
   "source": [
    "## Body Cleanup\n",
    "    - future iterations of the project, will consider adding titles as well. "
   ]
  },
  {
   "cell_type": "code",
   "execution_count": 22,
   "metadata": {
    "ExecuteTime": {
     "end_time": "2020-03-14T15:49:25.891057Z",
     "start_time": "2020-03-14T15:49:25.886963Z"
    }
   },
   "outputs": [],
   "source": [
    "def body_cleanup(raw_body):\n",
    "    '''\n",
    "    Function to convert original body to a string of words: \n",
    "    - remove HTML artifacts & numbers\n",
    "    - convert to lowercase then join as one string\n",
    "    '''\n",
    "    \n",
    "    # Remove HTML artifacts using BeautifulSoup \n",
    "    body_text = BeautifulSoup(raw_body).get_text()\n",
    "    \n",
    "    # Remove non-letters (returns only letters) -- Regex \n",
    "    letters_only = re.sub(\"[^a-zA-Z]\", \" \", body_text)\n",
    "    \n",
    "    # Convert to lower case, split into individual words (tokenize)\n",
    "    words = letters_only.lower().split()\n",
    "    \n",
    "    # Join the words back into one string separated by space, and return the result.\n",
    "    return(\" \".join(words))"
   ]
  },
  {
   "cell_type": "code",
   "execution_count": 23,
   "metadata": {
    "ExecuteTime": {
     "end_time": "2020-03-14T15:55:02.412186Z",
     "start_time": "2020-03-14T15:49:32.896482Z"
    }
   },
   "outputs": [],
   "source": [
    "# Execution time: ~5m 56s \n",
    "df['body_clean'] = df['Body'].map(lambda x: body_cleanup(x))"
   ]
  },
  {
   "cell_type": "code",
   "execution_count": 24,
   "metadata": {
    "ExecuteTime": {
     "end_time": "2020-03-14T15:57:14.090583Z",
     "start_time": "2020-03-14T15:57:14.074904Z"
    }
   },
   "outputs": [
    {
     "data": {
      "text/html": [
       "<div>\n",
       "<style scoped>\n",
       "    .dataframe tbody tr th:only-of-type {\n",
       "        vertical-align: middle;\n",
       "    }\n",
       "\n",
       "    .dataframe tbody tr th {\n",
       "        vertical-align: top;\n",
       "    }\n",
       "\n",
       "    .dataframe thead th {\n",
       "        text-align: right;\n",
       "    }\n",
       "</style>\n",
       "<table border=\"1\" class=\"dataframe\">\n",
       "  <thead>\n",
       "    <tr style=\"text-align: right;\">\n",
       "      <th></th>\n",
       "      <th>Id</th>\n",
       "      <th>CreationDate</th>\n",
       "      <th>Title</th>\n",
       "      <th>Body</th>\n",
       "      <th>Tags</th>\n",
       "      <th>ViewCount</th>\n",
       "      <th>AnswerCount</th>\n",
       "      <th>CommentCount</th>\n",
       "      <th>target_tags</th>\n",
       "      <th>overlap_tags</th>\n",
       "      <th>target_class</th>\n",
       "      <th>body_clean</th>\n",
       "    </tr>\n",
       "  </thead>\n",
       "  <tbody>\n",
       "    <tr>\n",
       "      <th>1</th>\n",
       "      <td>53992219</td>\n",
       "      <td>2019-01-01 00:01:55</td>\n",
       "      <td>How to programmatically change style sheet of ...</td>\n",
       "      <td>&lt;p&gt;I have so many buttons on a dialog and I wa...</td>\n",
       "      <td>[c++, qt, qt5, qtstylesheets, qpushbutton]</td>\n",
       "      <td>775</td>\n",
       "      <td>2</td>\n",
       "      <td>2</td>\n",
       "      <td>{c++}</td>\n",
       "      <td>c++</td>\n",
       "      <td>4</td>\n",
       "      <td>i have so many buttons on a dialog and i want ...</td>\n",
       "    </tr>\n",
       "    <tr>\n",
       "      <th>4</th>\n",
       "      <td>53992223</td>\n",
       "      <td>2019-01-01 00:02:37</td>\n",
       "      <td>Unable to print a class list attribute using i...</td>\n",
       "      <td>&lt;p&gt;I am designing a deck class that has &lt;stron...</td>\n",
       "      <td>[python, python-3.x, list, class, printing]</td>\n",
       "      <td>40</td>\n",
       "      <td>2</td>\n",
       "      <td>0</td>\n",
       "      <td>{python, python-3.x}</td>\n",
       "      <td>python python-3.x</td>\n",
       "      <td>5</td>\n",
       "      <td>i am designing a deck class that has init meth...</td>\n",
       "    </tr>\n",
       "    <tr>\n",
       "      <th>8</th>\n",
       "      <td>53992234</td>\n",
       "      <td>2019-01-01 00:05:48</td>\n",
       "      <td>How to rearrange subplots so that one is under...</td>\n",
       "      <td>&lt;p&gt;I am trying to code two plots such that one...</td>\n",
       "      <td>[python, matplotlib, subplot]</td>\n",
       "      <td>519</td>\n",
       "      <td>1</td>\n",
       "      <td>1</td>\n",
       "      <td>{python}</td>\n",
       "      <td>python</td>\n",
       "      <td>5</td>\n",
       "      <td>i am trying to code two plots such that one pl...</td>\n",
       "    </tr>\n",
       "    <tr>\n",
       "      <th>10</th>\n",
       "      <td>53992248</td>\n",
       "      <td>2019-01-01 00:09:24</td>\n",
       "      <td>Function always returns 1</td>\n",
       "      <td>&lt;p&gt;I´m trying to write a simple branch predict...</td>\n",
       "      <td>[c++, function]</td>\n",
       "      <td>150</td>\n",
       "      <td>1</td>\n",
       "      <td>21</td>\n",
       "      <td>{c++}</td>\n",
       "      <td>c++</td>\n",
       "      <td>4</td>\n",
       "      <td>i m trying to write a simple branch predictor ...</td>\n",
       "    </tr>\n",
       "    <tr>\n",
       "      <th>11</th>\n",
       "      <td>53992252</td>\n",
       "      <td>2019-01-01 00:11:20</td>\n",
       "      <td>possible to speed up this query?</td>\n",
       "      <td>&lt;p&gt;I have the following query which takes a li...</td>\n",
       "      <td>[sql, postgresql]</td>\n",
       "      <td>40</td>\n",
       "      <td>1</td>\n",
       "      <td>0</td>\n",
       "      <td>{sql}</td>\n",
       "      <td>sql</td>\n",
       "      <td>0</td>\n",
       "      <td>i have the following query which takes a littl...</td>\n",
       "    </tr>\n",
       "  </tbody>\n",
       "</table>\n",
       "</div>"
      ],
      "text/plain": [
       "          Id         CreationDate  \\\n",
       "1   53992219  2019-01-01 00:01:55   \n",
       "4   53992223  2019-01-01 00:02:37   \n",
       "8   53992234  2019-01-01 00:05:48   \n",
       "10  53992248  2019-01-01 00:09:24   \n",
       "11  53992252  2019-01-01 00:11:20   \n",
       "\n",
       "                                                Title  \\\n",
       "1   How to programmatically change style sheet of ...   \n",
       "4   Unable to print a class list attribute using i...   \n",
       "8   How to rearrange subplots so that one is under...   \n",
       "10                          Function always returns 1   \n",
       "11                   possible to speed up this query?   \n",
       "\n",
       "                                                 Body  \\\n",
       "1   <p>I have so many buttons on a dialog and I wa...   \n",
       "4   <p>I am designing a deck class that has <stron...   \n",
       "8   <p>I am trying to code two plots such that one...   \n",
       "10  <p>I´m trying to write a simple branch predict...   \n",
       "11  <p>I have the following query which takes a li...   \n",
       "\n",
       "                                           Tags  ViewCount  AnswerCount  \\\n",
       "1    [c++, qt, qt5, qtstylesheets, qpushbutton]        775            2   \n",
       "4   [python, python-3.x, list, class, printing]         40            2   \n",
       "8                 [python, matplotlib, subplot]        519            1   \n",
       "10                              [c++, function]        150            1   \n",
       "11                            [sql, postgresql]         40            1   \n",
       "\n",
       "    CommentCount           target_tags       overlap_tags  target_class  \\\n",
       "1              2                 {c++}                c++             4   \n",
       "4              0  {python, python-3.x}  python python-3.x             5   \n",
       "8              1              {python}             python             5   \n",
       "10            21                 {c++}                c++             4   \n",
       "11             0                 {sql}                sql             0   \n",
       "\n",
       "                                           body_clean  \n",
       "1   i have so many buttons on a dialog and i want ...  \n",
       "4   i am designing a deck class that has init meth...  \n",
       "8   i am trying to code two plots such that one pl...  \n",
       "10  i m trying to write a simple branch predictor ...  \n",
       "11  i have the following query which takes a littl...  "
      ]
     },
     "execution_count": 24,
     "metadata": {},
     "output_type": "execute_result"
    }
   ],
   "source": [
    "df.head()"
   ]
  },
  {
   "cell_type": "markdown",
   "metadata": {},
   "source": [
    "## MISC Cleaning "
   ]
  },
  {
   "cell_type": "markdown",
   "metadata": {},
   "source": [
    "### Reset Index"
   ]
  },
  {
   "cell_type": "code",
   "execution_count": 25,
   "metadata": {
    "ExecuteTime": {
     "end_time": "2020-03-14T15:57:24.038831Z",
     "start_time": "2020-03-14T15:57:24.033464Z"
    }
   },
   "outputs": [],
   "source": [
    "df.reset_index(inplace = True)"
   ]
  },
  {
   "cell_type": "code",
   "execution_count": 28,
   "metadata": {
    "ExecuteTime": {
     "end_time": "2020-03-14T15:59:00.799129Z",
     "start_time": "2020-03-14T15:59:00.784074Z"
    }
   },
   "outputs": [
    {
     "data": {
      "text/html": [
       "<div>\n",
       "<style scoped>\n",
       "    .dataframe tbody tr th:only-of-type {\n",
       "        vertical-align: middle;\n",
       "    }\n",
       "\n",
       "    .dataframe tbody tr th {\n",
       "        vertical-align: top;\n",
       "    }\n",
       "\n",
       "    .dataframe thead th {\n",
       "        text-align: right;\n",
       "    }\n",
       "</style>\n",
       "<table border=\"1\" class=\"dataframe\">\n",
       "  <thead>\n",
       "    <tr style=\"text-align: right;\">\n",
       "      <th></th>\n",
       "      <th>index</th>\n",
       "      <th>Id</th>\n",
       "      <th>CreationDate</th>\n",
       "      <th>Title</th>\n",
       "      <th>Body</th>\n",
       "      <th>Tags</th>\n",
       "      <th>ViewCount</th>\n",
       "      <th>AnswerCount</th>\n",
       "      <th>CommentCount</th>\n",
       "      <th>target_tags</th>\n",
       "      <th>overlap_tags</th>\n",
       "      <th>target_class</th>\n",
       "      <th>body_clean</th>\n",
       "    </tr>\n",
       "  </thead>\n",
       "  <tbody>\n",
       "    <tr>\n",
       "      <th>0</th>\n",
       "      <td>1</td>\n",
       "      <td>53992219</td>\n",
       "      <td>2019-01-01 00:01:55</td>\n",
       "      <td>How to programmatically change style sheet of ...</td>\n",
       "      <td>&lt;p&gt;I have so many buttons on a dialog and I wa...</td>\n",
       "      <td>[c++, qt, qt5, qtstylesheets, qpushbutton]</td>\n",
       "      <td>775</td>\n",
       "      <td>2</td>\n",
       "      <td>2</td>\n",
       "      <td>{c++}</td>\n",
       "      <td>c++</td>\n",
       "      <td>4</td>\n",
       "      <td>i have so many buttons on a dialog and i want ...</td>\n",
       "    </tr>\n",
       "    <tr>\n",
       "      <th>1</th>\n",
       "      <td>4</td>\n",
       "      <td>53992223</td>\n",
       "      <td>2019-01-01 00:02:37</td>\n",
       "      <td>Unable to print a class list attribute using i...</td>\n",
       "      <td>&lt;p&gt;I am designing a deck class that has &lt;stron...</td>\n",
       "      <td>[python, python-3.x, list, class, printing]</td>\n",
       "      <td>40</td>\n",
       "      <td>2</td>\n",
       "      <td>0</td>\n",
       "      <td>{python, python-3.x}</td>\n",
       "      <td>python python-3.x</td>\n",
       "      <td>5</td>\n",
       "      <td>i am designing a deck class that has init meth...</td>\n",
       "    </tr>\n",
       "    <tr>\n",
       "      <th>2</th>\n",
       "      <td>8</td>\n",
       "      <td>53992234</td>\n",
       "      <td>2019-01-01 00:05:48</td>\n",
       "      <td>How to rearrange subplots so that one is under...</td>\n",
       "      <td>&lt;p&gt;I am trying to code two plots such that one...</td>\n",
       "      <td>[python, matplotlib, subplot]</td>\n",
       "      <td>519</td>\n",
       "      <td>1</td>\n",
       "      <td>1</td>\n",
       "      <td>{python}</td>\n",
       "      <td>python</td>\n",
       "      <td>5</td>\n",
       "      <td>i am trying to code two plots such that one pl...</td>\n",
       "    </tr>\n",
       "    <tr>\n",
       "      <th>3</th>\n",
       "      <td>10</td>\n",
       "      <td>53992248</td>\n",
       "      <td>2019-01-01 00:09:24</td>\n",
       "      <td>Function always returns 1</td>\n",
       "      <td>&lt;p&gt;I´m trying to write a simple branch predict...</td>\n",
       "      <td>[c++, function]</td>\n",
       "      <td>150</td>\n",
       "      <td>1</td>\n",
       "      <td>21</td>\n",
       "      <td>{c++}</td>\n",
       "      <td>c++</td>\n",
       "      <td>4</td>\n",
       "      <td>i m trying to write a simple branch predictor ...</td>\n",
       "    </tr>\n",
       "    <tr>\n",
       "      <th>4</th>\n",
       "      <td>11</td>\n",
       "      <td>53992252</td>\n",
       "      <td>2019-01-01 00:11:20</td>\n",
       "      <td>possible to speed up this query?</td>\n",
       "      <td>&lt;p&gt;I have the following query which takes a li...</td>\n",
       "      <td>[sql, postgresql]</td>\n",
       "      <td>40</td>\n",
       "      <td>1</td>\n",
       "      <td>0</td>\n",
       "      <td>{sql}</td>\n",
       "      <td>sql</td>\n",
       "      <td>0</td>\n",
       "      <td>i have the following query which takes a littl...</td>\n",
       "    </tr>\n",
       "  </tbody>\n",
       "</table>\n",
       "</div>"
      ],
      "text/plain": [
       "   index        Id         CreationDate  \\\n",
       "0      1  53992219  2019-01-01 00:01:55   \n",
       "1      4  53992223  2019-01-01 00:02:37   \n",
       "2      8  53992234  2019-01-01 00:05:48   \n",
       "3     10  53992248  2019-01-01 00:09:24   \n",
       "4     11  53992252  2019-01-01 00:11:20   \n",
       "\n",
       "                                               Title  \\\n",
       "0  How to programmatically change style sheet of ...   \n",
       "1  Unable to print a class list attribute using i...   \n",
       "2  How to rearrange subplots so that one is under...   \n",
       "3                          Function always returns 1   \n",
       "4                   possible to speed up this query?   \n",
       "\n",
       "                                                Body  \\\n",
       "0  <p>I have so many buttons on a dialog and I wa...   \n",
       "1  <p>I am designing a deck class that has <stron...   \n",
       "2  <p>I am trying to code two plots such that one...   \n",
       "3  <p>I´m trying to write a simple branch predict...   \n",
       "4  <p>I have the following query which takes a li...   \n",
       "\n",
       "                                          Tags  ViewCount  AnswerCount  \\\n",
       "0   [c++, qt, qt5, qtstylesheets, qpushbutton]        775            2   \n",
       "1  [python, python-3.x, list, class, printing]         40            2   \n",
       "2                [python, matplotlib, subplot]        519            1   \n",
       "3                              [c++, function]        150            1   \n",
       "4                            [sql, postgresql]         40            1   \n",
       "\n",
       "   CommentCount           target_tags       overlap_tags  target_class  \\\n",
       "0             2                 {c++}                c++             4   \n",
       "1             0  {python, python-3.x}  python python-3.x             5   \n",
       "2             1              {python}             python             5   \n",
       "3            21                 {c++}                c++             4   \n",
       "4             0                 {sql}                sql             0   \n",
       "\n",
       "                                          body_clean  \n",
       "0  i have so many buttons on a dialog and i want ...  \n",
       "1  i am designing a deck class that has init meth...  \n",
       "2  i am trying to code two plots such that one pl...  \n",
       "3  i m trying to write a simple branch predictor ...  \n",
       "4  i have the following query which takes a littl...  "
      ]
     },
     "execution_count": 28,
     "metadata": {},
     "output_type": "execute_result"
    }
   ],
   "source": [
    "df.head()"
   ]
  },
  {
   "cell_type": "code",
   "execution_count": 29,
   "metadata": {
    "ExecuteTime": {
     "end_time": "2020-03-14T15:59:09.873750Z",
     "start_time": "2020-03-14T15:59:09.720360Z"
    }
   },
   "outputs": [],
   "source": [
    "# Drop 'index' column (b/c I reset index above)\n",
    "df = df.drop(['index'], axis = 1)"
   ]
  },
  {
   "cell_type": "markdown",
   "metadata": {},
   "source": [
    "### Check for nulls"
   ]
  },
  {
   "cell_type": "code",
   "execution_count": 31,
   "metadata": {
    "ExecuteTime": {
     "end_time": "2020-03-14T15:59:34.655747Z",
     "start_time": "2020-03-14T15:59:34.309443Z"
    }
   },
   "outputs": [
    {
     "data": {
      "text/plain": [
       "Id              0\n",
       "CreationDate    0\n",
       "Title           0\n",
       "Body            0\n",
       "Tags            0\n",
       "ViewCount       0\n",
       "AnswerCount     0\n",
       "CommentCount    0\n",
       "target_tags     0\n",
       "overlap_tags    0\n",
       "target_class    0\n",
       "body_clean      0\n",
       "dtype: int64"
      ]
     },
     "execution_count": 31,
     "metadata": {},
     "output_type": "execute_result"
    }
   ],
   "source": [
    "df.isnull().sum()"
   ]
  },
  {
   "cell_type": "code",
   "execution_count": 40,
   "metadata": {
    "ExecuteTime": {
     "end_time": "2020-03-14T16:04:36.441787Z",
     "start_time": "2020-03-14T16:04:36.428091Z"
    }
   },
   "outputs": [
    {
     "data": {
      "text/html": [
       "<div>\n",
       "<style scoped>\n",
       "    .dataframe tbody tr th:only-of-type {\n",
       "        vertical-align: middle;\n",
       "    }\n",
       "\n",
       "    .dataframe tbody tr th {\n",
       "        vertical-align: top;\n",
       "    }\n",
       "\n",
       "    .dataframe thead th {\n",
       "        text-align: right;\n",
       "    }\n",
       "</style>\n",
       "<table border=\"1\" class=\"dataframe\">\n",
       "  <thead>\n",
       "    <tr style=\"text-align: right;\">\n",
       "      <th></th>\n",
       "      <th>Id</th>\n",
       "      <th>CreationDate</th>\n",
       "      <th>Title</th>\n",
       "      <th>Body</th>\n",
       "      <th>Tags</th>\n",
       "      <th>ViewCount</th>\n",
       "      <th>AnswerCount</th>\n",
       "      <th>CommentCount</th>\n",
       "      <th>target_tags</th>\n",
       "      <th>overlap_tags</th>\n",
       "      <th>target_class</th>\n",
       "      <th>body_clean</th>\n",
       "    </tr>\n",
       "  </thead>\n",
       "  <tbody>\n",
       "    <tr>\n",
       "      <th>91170</th>\n",
       "      <td>55234780</td>\n",
       "      <td>2019-03-19 06:21:07</td>\n",
       "      <td>1st data is officeIn and 2nd data is OfficeOut...</td>\n",
       "      <td>&lt;p&gt;&lt;a href=\"https://i.stack.imgur.com/P3SNS.pn...</td>\n",
       "      <td>[mysql, sql]</td>\n",
       "      <td>26</td>\n",
       "      <td>1</td>\n",
       "      <td>0</td>\n",
       "      <td>{mysql, sql}</td>\n",
       "      <td>mysql sql</td>\n",
       "      <td>0</td>\n",
       "      <td></td>\n",
       "    </tr>\n",
       "  </tbody>\n",
       "</table>\n",
       "</div>"
      ],
      "text/plain": [
       "             Id        CreationDate  \\\n",
       "91170  55234780 2019-03-19 06:21:07   \n",
       "\n",
       "                                                   Title  \\\n",
       "91170  1st data is officeIn and 2nd data is OfficeOut...   \n",
       "\n",
       "                                                    Body          Tags  \\\n",
       "91170  <p><a href=\"https://i.stack.imgur.com/P3SNS.pn...  [mysql, sql]   \n",
       "\n",
       "       ViewCount  AnswerCount  CommentCount   target_tags overlap_tags  \\\n",
       "91170         26            1             0  {mysql, sql}    mysql sql   \n",
       "\n",
       "       target_class body_clean  \n",
       "91170             0             "
      ]
     },
     "execution_count": 40,
     "metadata": {},
     "output_type": "execute_result"
    }
   ],
   "source": [
    "# In EDA notebook, find null, because body_clean is empty\n",
    "# in above cleaning function, need to add: Nan if empty -- can fix for next iteration of project \n",
    "# df[df['Id'] == 55234780]"
   ]
  },
  {
   "cell_type": "markdown",
   "metadata": {},
   "source": [
    "### Check Dtypes"
   ]
  },
  {
   "cell_type": "code",
   "execution_count": 34,
   "metadata": {
    "ExecuteTime": {
     "end_time": "2020-03-14T16:01:17.374717Z",
     "start_time": "2020-03-14T16:01:17.369253Z"
    }
   },
   "outputs": [
    {
     "data": {
      "text/plain": [
       "Id               int64\n",
       "CreationDate    object\n",
       "Title           object\n",
       "Body            object\n",
       "Tags            object\n",
       "ViewCount        int64\n",
       "AnswerCount      int64\n",
       "CommentCount     int64\n",
       "target_tags     object\n",
       "overlap_tags    object\n",
       "target_class     int64\n",
       "body_clean      object\n",
       "dtype: object"
      ]
     },
     "execution_count": 34,
     "metadata": {},
     "output_type": "execute_result"
    }
   ],
   "source": [
    "df.dtypes"
   ]
  },
  {
   "cell_type": "markdown",
   "metadata": {},
   "source": [
    "#### Datetime formatt "
   ]
  },
  {
   "cell_type": "code",
   "execution_count": 35,
   "metadata": {
    "ExecuteTime": {
     "end_time": "2020-03-14T16:01:27.680986Z",
     "start_time": "2020-03-14T16:01:27.513826Z"
    }
   },
   "outputs": [],
   "source": [
    "df['CreationDate']= pd.to_datetime(df['CreationDate']) "
   ]
  },
  {
   "cell_type": "markdown",
   "metadata": {},
   "source": [
    "# Save as clean_final.csv"
   ]
  },
  {
   "cell_type": "code",
   "execution_count": 36,
   "metadata": {
    "ExecuteTime": {
     "end_time": "2020-03-14T16:02:09.142032Z",
     "start_time": "2020-03-14T16:01:35.933591Z"
    }
   },
   "outputs": [],
   "source": [
    "df.to_csv('../data/clean_final.csv', index=False)"
   ]
  }
 ],
 "metadata": {
  "kernelspec": {
   "display_name": "Python 3",
   "language": "python",
   "name": "python3"
  },
  "language_info": {
   "codemirror_mode": {
    "name": "ipython",
    "version": 3
   },
   "file_extension": ".py",
   "mimetype": "text/x-python",
   "name": "python",
   "nbconvert_exporter": "python",
   "pygments_lexer": "ipython3",
   "version": "3.7.1"
  },
  "toc": {
   "base_numbering": 1,
   "nav_menu": {},
   "number_sections": true,
   "sideBar": true,
   "skip_h1_title": false,
   "title_cell": "Table of Contents",
   "title_sidebar": "Contents",
   "toc_cell": false,
   "toc_position": {
    "height": "calc(100% - 180px)",
    "left": "10px",
    "top": "150px",
    "width": "192.798px"
   },
   "toc_section_display": true,
   "toc_window_display": false
  },
  "varInspector": {
   "cols": {
    "lenName": 16,
    "lenType": 16,
    "lenVar": 40
   },
   "kernels_config": {
    "python": {
     "delete_cmd_postfix": "",
     "delete_cmd_prefix": "del ",
     "library": "var_list.py",
     "varRefreshCmd": "print(var_dic_list())"
    },
    "r": {
     "delete_cmd_postfix": ") ",
     "delete_cmd_prefix": "rm(",
     "library": "var_list.r",
     "varRefreshCmd": "cat(var_dic_list()) "
    }
   },
   "types_to_exclude": [
    "module",
    "function",
    "builtin_function_or_method",
    "instance",
    "_Feature"
   ],
   "window_display": false
  }
 },
 "nbformat": 4,
 "nbformat_minor": 2
}
