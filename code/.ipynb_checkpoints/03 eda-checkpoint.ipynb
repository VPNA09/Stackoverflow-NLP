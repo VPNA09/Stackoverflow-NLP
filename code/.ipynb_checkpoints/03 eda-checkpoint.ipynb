{
 "cells": [
  {
   "cell_type": "markdown",
   "metadata": {},
   "source": [
    "# Imports"
   ]
  },
  {
   "cell_type": "code",
   "execution_count": 2,
   "metadata": {
    "ExecuteTime": {
     "end_time": "2020-03-11T17:37:53.574411Z",
     "start_time": "2020-03-11T17:37:52.601333Z"
    }
   },
   "outputs": [],
   "source": [
    "import pandas as pd\n",
    "import numpy as np\n",
    "import matplotlib.pyplot as plt\n",
    "%matplotlib inline\n",
    "\n",
    "import seaborn as sns\n",
    "from datetime import datetime"
   ]
  },
  {
   "cell_type": "code",
   "execution_count": 3,
   "metadata": {
    "ExecuteTime": {
     "end_time": "2020-03-11T17:38:07.855780Z",
     "start_time": "2020-03-11T17:37:55.681046Z"
    }
   },
   "outputs": [],
   "source": [
    "df = pd.read_csv('../data/clean_final.csv')"
   ]
  },
  {
   "cell_type": "code",
   "execution_count": 4,
   "metadata": {
    "ExecuteTime": {
     "end_time": "2020-03-11T17:38:09.154595Z",
     "start_time": "2020-03-11T17:38:09.137781Z"
    }
   },
   "outputs": [
    {
     "data": {
      "text/html": [
       "<div>\n",
       "<style scoped>\n",
       "    .dataframe tbody tr th:only-of-type {\n",
       "        vertical-align: middle;\n",
       "    }\n",
       "\n",
       "    .dataframe tbody tr th {\n",
       "        vertical-align: top;\n",
       "    }\n",
       "\n",
       "    .dataframe thead th {\n",
       "        text-align: right;\n",
       "    }\n",
       "</style>\n",
       "<table border=\"1\" class=\"dataframe\">\n",
       "  <thead>\n",
       "    <tr style=\"text-align: right;\">\n",
       "      <th></th>\n",
       "      <th>index</th>\n",
       "      <th>Id</th>\n",
       "      <th>CreationDate</th>\n",
       "      <th>Title</th>\n",
       "      <th>Body</th>\n",
       "      <th>Tags</th>\n",
       "      <th>ViewCount</th>\n",
       "      <th>AnswerCount</th>\n",
       "      <th>CommentCount</th>\n",
       "      <th>target_tags</th>\n",
       "      <th>overlap_tags</th>\n",
       "      <th>target_class</th>\n",
       "      <th>body_clean</th>\n",
       "    </tr>\n",
       "  </thead>\n",
       "  <tbody>\n",
       "    <tr>\n",
       "      <th>0</th>\n",
       "      <td>1</td>\n",
       "      <td>53992219</td>\n",
       "      <td>2019-01-01 00:01:55</td>\n",
       "      <td>How to programmatically change style sheet of ...</td>\n",
       "      <td>&lt;p&gt;I have so many buttons on a dialog and I wa...</td>\n",
       "      <td>['c++', 'qt', 'qt5', 'qtstylesheets', 'qpushbu...</td>\n",
       "      <td>775</td>\n",
       "      <td>2</td>\n",
       "      <td>2</td>\n",
       "      <td>{'c++'}</td>\n",
       "      <td>c++</td>\n",
       "      <td>4</td>\n",
       "      <td>i have so many buttons on a dialog and i want ...</td>\n",
       "    </tr>\n",
       "    <tr>\n",
       "      <th>1</th>\n",
       "      <td>4</td>\n",
       "      <td>53992223</td>\n",
       "      <td>2019-01-01 00:02:37</td>\n",
       "      <td>Unable to print a class list attribute using i...</td>\n",
       "      <td>&lt;p&gt;I am designing a deck class that has &lt;stron...</td>\n",
       "      <td>['python', 'python-3.x', 'list', 'class', 'pri...</td>\n",
       "      <td>40</td>\n",
       "      <td>2</td>\n",
       "      <td>0</td>\n",
       "      <td>{'python-3.x', 'python'}</td>\n",
       "      <td>python-3.x python</td>\n",
       "      <td>5</td>\n",
       "      <td>i am designing a deck class that has init meth...</td>\n",
       "    </tr>\n",
       "    <tr>\n",
       "      <th>2</th>\n",
       "      <td>8</td>\n",
       "      <td>53992234</td>\n",
       "      <td>2019-01-01 00:05:48</td>\n",
       "      <td>How to rearrange subplots so that one is under...</td>\n",
       "      <td>&lt;p&gt;I am trying to code two plots such that one...</td>\n",
       "      <td>['python', 'matplotlib', 'subplot']</td>\n",
       "      <td>519</td>\n",
       "      <td>1</td>\n",
       "      <td>1</td>\n",
       "      <td>{'python'}</td>\n",
       "      <td>python</td>\n",
       "      <td>5</td>\n",
       "      <td>i am trying to code two plots such that one pl...</td>\n",
       "    </tr>\n",
       "    <tr>\n",
       "      <th>3</th>\n",
       "      <td>10</td>\n",
       "      <td>53992248</td>\n",
       "      <td>2019-01-01 00:09:24</td>\n",
       "      <td>Function always returns 1</td>\n",
       "      <td>&lt;p&gt;I´m trying to write a simple branch predict...</td>\n",
       "      <td>['c++', 'function']</td>\n",
       "      <td>150</td>\n",
       "      <td>1</td>\n",
       "      <td>21</td>\n",
       "      <td>{'c++'}</td>\n",
       "      <td>c++</td>\n",
       "      <td>4</td>\n",
       "      <td>i m trying to write a simple branch predictor ...</td>\n",
       "    </tr>\n",
       "    <tr>\n",
       "      <th>4</th>\n",
       "      <td>11</td>\n",
       "      <td>53992252</td>\n",
       "      <td>2019-01-01 00:11:20</td>\n",
       "      <td>possible to speed up this query?</td>\n",
       "      <td>&lt;p&gt;I have the following query which takes a li...</td>\n",
       "      <td>['sql', 'postgresql']</td>\n",
       "      <td>40</td>\n",
       "      <td>1</td>\n",
       "      <td>0</td>\n",
       "      <td>{'sql'}</td>\n",
       "      <td>sql</td>\n",
       "      <td>0</td>\n",
       "      <td>i have the following query which takes a littl...</td>\n",
       "    </tr>\n",
       "  </tbody>\n",
       "</table>\n",
       "</div>"
      ],
      "text/plain": [
       "   index        Id         CreationDate  \\\n",
       "0      1  53992219  2019-01-01 00:01:55   \n",
       "1      4  53992223  2019-01-01 00:02:37   \n",
       "2      8  53992234  2019-01-01 00:05:48   \n",
       "3     10  53992248  2019-01-01 00:09:24   \n",
       "4     11  53992252  2019-01-01 00:11:20   \n",
       "\n",
       "                                               Title  \\\n",
       "0  How to programmatically change style sheet of ...   \n",
       "1  Unable to print a class list attribute using i...   \n",
       "2  How to rearrange subplots so that one is under...   \n",
       "3                          Function always returns 1   \n",
       "4                   possible to speed up this query?   \n",
       "\n",
       "                                                Body  \\\n",
       "0  <p>I have so many buttons on a dialog and I wa...   \n",
       "1  <p>I am designing a deck class that has <stron...   \n",
       "2  <p>I am trying to code two plots such that one...   \n",
       "3  <p>I´m trying to write a simple branch predict...   \n",
       "4  <p>I have the following query which takes a li...   \n",
       "\n",
       "                                                Tags  ViewCount  AnswerCount  \\\n",
       "0  ['c++', 'qt', 'qt5', 'qtstylesheets', 'qpushbu...        775            2   \n",
       "1  ['python', 'python-3.x', 'list', 'class', 'pri...         40            2   \n",
       "2                ['python', 'matplotlib', 'subplot']        519            1   \n",
       "3                                ['c++', 'function']        150            1   \n",
       "4                              ['sql', 'postgresql']         40            1   \n",
       "\n",
       "   CommentCount               target_tags       overlap_tags  target_class  \\\n",
       "0             2                   {'c++'}                c++             4   \n",
       "1             0  {'python-3.x', 'python'}  python-3.x python             5   \n",
       "2             1                {'python'}             python             5   \n",
       "3            21                   {'c++'}                c++             4   \n",
       "4             0                   {'sql'}                sql             0   \n",
       "\n",
       "                                          body_clean  \n",
       "0  i have so many buttons on a dialog and i want ...  \n",
       "1  i am designing a deck class that has init meth...  \n",
       "2  i am trying to code two plots such that one pl...  \n",
       "3  i m trying to write a simple branch predictor ...  \n",
       "4  i have the following query which takes a littl...  "
      ]
     },
     "execution_count": 4,
     "metadata": {},
     "output_type": "execute_result"
    }
   ],
   "source": [
    "df.head()"
   ]
  },
  {
   "cell_type": "code",
   "execution_count": 16,
   "metadata": {
    "ExecuteTime": {
     "end_time": "2020-03-11T17:42:12.409069Z",
     "start_time": "2020-03-11T17:42:12.335773Z"
    }
   },
   "outputs": [],
   "source": [
    "# Drop random and unnecesary'index' labeled column \n",
    "df = df.drop(['index'], axis = 1)"
   ]
  },
  {
   "cell_type": "code",
   "execution_count": 17,
   "metadata": {
    "ExecuteTime": {
     "end_time": "2020-03-11T17:42:14.291009Z",
     "start_time": "2020-03-11T17:42:14.277908Z"
    }
   },
   "outputs": [
    {
     "data": {
      "text/html": [
       "<div>\n",
       "<style scoped>\n",
       "    .dataframe tbody tr th:only-of-type {\n",
       "        vertical-align: middle;\n",
       "    }\n",
       "\n",
       "    .dataframe tbody tr th {\n",
       "        vertical-align: top;\n",
       "    }\n",
       "\n",
       "    .dataframe thead th {\n",
       "        text-align: right;\n",
       "    }\n",
       "</style>\n",
       "<table border=\"1\" class=\"dataframe\">\n",
       "  <thead>\n",
       "    <tr style=\"text-align: right;\">\n",
       "      <th></th>\n",
       "      <th>Id</th>\n",
       "      <th>CreationDate</th>\n",
       "      <th>Title</th>\n",
       "      <th>Body</th>\n",
       "      <th>Tags</th>\n",
       "      <th>ViewCount</th>\n",
       "      <th>AnswerCount</th>\n",
       "      <th>CommentCount</th>\n",
       "      <th>target_tags</th>\n",
       "      <th>overlap_tags</th>\n",
       "      <th>target_class</th>\n",
       "      <th>body_clean</th>\n",
       "    </tr>\n",
       "  </thead>\n",
       "  <tbody>\n",
       "    <tr>\n",
       "      <th>0</th>\n",
       "      <td>53992219</td>\n",
       "      <td>2019-01-01 00:01:55</td>\n",
       "      <td>How to programmatically change style sheet of ...</td>\n",
       "      <td>&lt;p&gt;I have so many buttons on a dialog and I wa...</td>\n",
       "      <td>['c++', 'qt', 'qt5', 'qtstylesheets', 'qpushbu...</td>\n",
       "      <td>775</td>\n",
       "      <td>2</td>\n",
       "      <td>2</td>\n",
       "      <td>{'c++'}</td>\n",
       "      <td>c++</td>\n",
       "      <td>4</td>\n",
       "      <td>i have so many buttons on a dialog and i want ...</td>\n",
       "    </tr>\n",
       "    <tr>\n",
       "      <th>1</th>\n",
       "      <td>53992223</td>\n",
       "      <td>2019-01-01 00:02:37</td>\n",
       "      <td>Unable to print a class list attribute using i...</td>\n",
       "      <td>&lt;p&gt;I am designing a deck class that has &lt;stron...</td>\n",
       "      <td>['python', 'python-3.x', 'list', 'class', 'pri...</td>\n",
       "      <td>40</td>\n",
       "      <td>2</td>\n",
       "      <td>0</td>\n",
       "      <td>{'python-3.x', 'python'}</td>\n",
       "      <td>python-3.x python</td>\n",
       "      <td>5</td>\n",
       "      <td>i am designing a deck class that has init meth...</td>\n",
       "    </tr>\n",
       "    <tr>\n",
       "      <th>2</th>\n",
       "      <td>53992234</td>\n",
       "      <td>2019-01-01 00:05:48</td>\n",
       "      <td>How to rearrange subplots so that one is under...</td>\n",
       "      <td>&lt;p&gt;I am trying to code two plots such that one...</td>\n",
       "      <td>['python', 'matplotlib', 'subplot']</td>\n",
       "      <td>519</td>\n",
       "      <td>1</td>\n",
       "      <td>1</td>\n",
       "      <td>{'python'}</td>\n",
       "      <td>python</td>\n",
       "      <td>5</td>\n",
       "      <td>i am trying to code two plots such that one pl...</td>\n",
       "    </tr>\n",
       "    <tr>\n",
       "      <th>3</th>\n",
       "      <td>53992248</td>\n",
       "      <td>2019-01-01 00:09:24</td>\n",
       "      <td>Function always returns 1</td>\n",
       "      <td>&lt;p&gt;I´m trying to write a simple branch predict...</td>\n",
       "      <td>['c++', 'function']</td>\n",
       "      <td>150</td>\n",
       "      <td>1</td>\n",
       "      <td>21</td>\n",
       "      <td>{'c++'}</td>\n",
       "      <td>c++</td>\n",
       "      <td>4</td>\n",
       "      <td>i m trying to write a simple branch predictor ...</td>\n",
       "    </tr>\n",
       "    <tr>\n",
       "      <th>4</th>\n",
       "      <td>53992252</td>\n",
       "      <td>2019-01-01 00:11:20</td>\n",
       "      <td>possible to speed up this query?</td>\n",
       "      <td>&lt;p&gt;I have the following query which takes a li...</td>\n",
       "      <td>['sql', 'postgresql']</td>\n",
       "      <td>40</td>\n",
       "      <td>1</td>\n",
       "      <td>0</td>\n",
       "      <td>{'sql'}</td>\n",
       "      <td>sql</td>\n",
       "      <td>0</td>\n",
       "      <td>i have the following query which takes a littl...</td>\n",
       "    </tr>\n",
       "  </tbody>\n",
       "</table>\n",
       "</div>"
      ],
      "text/plain": [
       "         Id         CreationDate  \\\n",
       "0  53992219  2019-01-01 00:01:55   \n",
       "1  53992223  2019-01-01 00:02:37   \n",
       "2  53992234  2019-01-01 00:05:48   \n",
       "3  53992248  2019-01-01 00:09:24   \n",
       "4  53992252  2019-01-01 00:11:20   \n",
       "\n",
       "                                               Title  \\\n",
       "0  How to programmatically change style sheet of ...   \n",
       "1  Unable to print a class list attribute using i...   \n",
       "2  How to rearrange subplots so that one is under...   \n",
       "3                          Function always returns 1   \n",
       "4                   possible to speed up this query?   \n",
       "\n",
       "                                                Body  \\\n",
       "0  <p>I have so many buttons on a dialog and I wa...   \n",
       "1  <p>I am designing a deck class that has <stron...   \n",
       "2  <p>I am trying to code two plots such that one...   \n",
       "3  <p>I´m trying to write a simple branch predict...   \n",
       "4  <p>I have the following query which takes a li...   \n",
       "\n",
       "                                                Tags  ViewCount  AnswerCount  \\\n",
       "0  ['c++', 'qt', 'qt5', 'qtstylesheets', 'qpushbu...        775            2   \n",
       "1  ['python', 'python-3.x', 'list', 'class', 'pri...         40            2   \n",
       "2                ['python', 'matplotlib', 'subplot']        519            1   \n",
       "3                                ['c++', 'function']        150            1   \n",
       "4                              ['sql', 'postgresql']         40            1   \n",
       "\n",
       "   CommentCount               target_tags       overlap_tags  target_class  \\\n",
       "0             2                   {'c++'}                c++             4   \n",
       "1             0  {'python-3.x', 'python'}  python-3.x python             5   \n",
       "2             1                {'python'}             python             5   \n",
       "3            21                   {'c++'}                c++             4   \n",
       "4             0                   {'sql'}                sql             0   \n",
       "\n",
       "                                          body_clean  \n",
       "0  i have so many buttons on a dialog and i want ...  \n",
       "1  i am designing a deck class that has init meth...  \n",
       "2  i am trying to code two plots such that one pl...  \n",
       "3  i m trying to write a simple branch predictor ...  \n",
       "4  i have the following query which takes a littl...  "
      ]
     },
     "execution_count": 17,
     "metadata": {},
     "output_type": "execute_result"
    }
   ],
   "source": [
    "df.head()"
   ]
  },
  {
   "cell_type": "markdown",
   "metadata": {},
   "source": [
    "# Exploratory Data Analysis (EDA)\n",
    "\n",
    "- ngram bar graphs (most & least used words, bigrams)\n",
    "    - Most used in python, sql etc \n",
    "- if word appears in more than 80%\n",
    "    - vectorizer parameters\n",
    "        - max_df()\n",
    "- create % weekly graph showing frequency of questions for each language (use datetime and index )\n",
    "- \n"
   ]
  },
  {
   "cell_type": "markdown",
   "metadata": {},
   "source": [
    "## One"
   ]
  },
  {
   "cell_type": "markdown",
   "metadata": {},
   "source": [
    "## Two "
   ]
  },
  {
   "cell_type": "code",
   "execution_count": null,
   "metadata": {},
   "outputs": [],
   "source": []
  }
 ],
 "metadata": {
  "kernelspec": {
   "display_name": "Python 3",
   "language": "python",
   "name": "python3"
  },
  "language_info": {
   "codemirror_mode": {
    "name": "ipython",
    "version": 3
   },
   "file_extension": ".py",
   "mimetype": "text/x-python",
   "name": "python",
   "nbconvert_exporter": "python",
   "pygments_lexer": "ipython3",
   "version": "3.7.1"
  },
  "toc": {
   "base_numbering": 1,
   "nav_menu": {},
   "number_sections": true,
   "sideBar": true,
   "skip_h1_title": false,
   "title_cell": "Table of Contents",
   "title_sidebar": "Contents",
   "toc_cell": false,
   "toc_position": {},
   "toc_section_display": true,
   "toc_window_display": false
  },
  "varInspector": {
   "cols": {
    "lenName": 16,
    "lenType": 16,
    "lenVar": 40
   },
   "kernels_config": {
    "python": {
     "delete_cmd_postfix": "",
     "delete_cmd_prefix": "del ",
     "library": "var_list.py",
     "varRefreshCmd": "print(var_dic_list())"
    },
    "r": {
     "delete_cmd_postfix": ") ",
     "delete_cmd_prefix": "rm(",
     "library": "var_list.r",
     "varRefreshCmd": "cat(var_dic_list()) "
    }
   },
   "types_to_exclude": [
    "module",
    "function",
    "builtin_function_or_method",
    "instance",
    "_Feature"
   ],
   "window_display": false
  }
 },
 "nbformat": 4,
 "nbformat_minor": 2
}
