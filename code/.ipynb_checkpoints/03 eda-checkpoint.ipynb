{
 "cells": [
  {
   "cell_type": "markdown",
   "metadata": {},
   "source": [
    "# Imports"
   ]
  },
  {
   "cell_type": "code",
   "execution_count": 1,
   "metadata": {
    "ExecuteTime": {
     "end_time": "2020-03-13T00:25:01.769643Z",
     "start_time": "2020-03-13T00:25:00.757565Z"
    }
   },
   "outputs": [],
   "source": [
    "import pandas as pd\n",
    "import numpy as np\n",
    "import matplotlib.pyplot as plt\n",
    "%matplotlib inline\n",
    "\n",
    "import seaborn as sns\n",
    "from wordcloud import WordCloud\n",
    "\n",
    "from sklearn.model_selection import train_test_split\n",
    "from sklearn.feature_extraction.text import CountVectorizer, TfidfVectorizer\n"
   ]
  },
  {
   "cell_type": "code",
   "execution_count": 2,
   "metadata": {
    "ExecuteTime": {
     "end_time": "2020-03-13T00:25:13.870876Z",
     "start_time": "2020-03-13T00:25:02.386572Z"
    }
   },
   "outputs": [],
   "source": [
    "df = pd.read_csv('../data/clean_final.csv')"
   ]
  },
  {
   "cell_type": "code",
   "execution_count": 3,
   "metadata": {
    "ExecuteTime": {
     "end_time": "2020-03-13T00:25:13.923808Z",
     "start_time": "2020-03-13T00:25:13.906837Z"
    }
   },
   "outputs": [
    {
     "data": {
      "text/html": [
       "<div>\n",
       "<style scoped>\n",
       "    .dataframe tbody tr th:only-of-type {\n",
       "        vertical-align: middle;\n",
       "    }\n",
       "\n",
       "    .dataframe tbody tr th {\n",
       "        vertical-align: top;\n",
       "    }\n",
       "\n",
       "    .dataframe thead th {\n",
       "        text-align: right;\n",
       "    }\n",
       "</style>\n",
       "<table border=\"1\" class=\"dataframe\">\n",
       "  <thead>\n",
       "    <tr style=\"text-align: right;\">\n",
       "      <th></th>\n",
       "      <th>index</th>\n",
       "      <th>Id</th>\n",
       "      <th>CreationDate</th>\n",
       "      <th>Title</th>\n",
       "      <th>Body</th>\n",
       "      <th>Tags</th>\n",
       "      <th>ViewCount</th>\n",
       "      <th>AnswerCount</th>\n",
       "      <th>CommentCount</th>\n",
       "      <th>target_tags</th>\n",
       "      <th>overlap_tags</th>\n",
       "      <th>target_class</th>\n",
       "      <th>body_clean</th>\n",
       "    </tr>\n",
       "  </thead>\n",
       "  <tbody>\n",
       "    <tr>\n",
       "      <th>0</th>\n",
       "      <td>1</td>\n",
       "      <td>53992219</td>\n",
       "      <td>2019-01-01 00:01:55</td>\n",
       "      <td>How to programmatically change style sheet of ...</td>\n",
       "      <td>&lt;p&gt;I have so many buttons on a dialog and I wa...</td>\n",
       "      <td>['c++', 'qt', 'qt5', 'qtstylesheets', 'qpushbu...</td>\n",
       "      <td>775</td>\n",
       "      <td>2</td>\n",
       "      <td>2</td>\n",
       "      <td>{'c++'}</td>\n",
       "      <td>c++</td>\n",
       "      <td>4</td>\n",
       "      <td>i have so many buttons on a dialog and i want ...</td>\n",
       "    </tr>\n",
       "    <tr>\n",
       "      <th>1</th>\n",
       "      <td>4</td>\n",
       "      <td>53992223</td>\n",
       "      <td>2019-01-01 00:02:37</td>\n",
       "      <td>Unable to print a class list attribute using i...</td>\n",
       "      <td>&lt;p&gt;I am designing a deck class that has &lt;stron...</td>\n",
       "      <td>['python', 'python-3.x', 'list', 'class', 'pri...</td>\n",
       "      <td>40</td>\n",
       "      <td>2</td>\n",
       "      <td>0</td>\n",
       "      <td>{'python-3.x', 'python'}</td>\n",
       "      <td>python-3.x python</td>\n",
       "      <td>5</td>\n",
       "      <td>i am designing a deck class that has init meth...</td>\n",
       "    </tr>\n",
       "    <tr>\n",
       "      <th>2</th>\n",
       "      <td>8</td>\n",
       "      <td>53992234</td>\n",
       "      <td>2019-01-01 00:05:48</td>\n",
       "      <td>How to rearrange subplots so that one is under...</td>\n",
       "      <td>&lt;p&gt;I am trying to code two plots such that one...</td>\n",
       "      <td>['python', 'matplotlib', 'subplot']</td>\n",
       "      <td>519</td>\n",
       "      <td>1</td>\n",
       "      <td>1</td>\n",
       "      <td>{'python'}</td>\n",
       "      <td>python</td>\n",
       "      <td>5</td>\n",
       "      <td>i am trying to code two plots such that one pl...</td>\n",
       "    </tr>\n",
       "    <tr>\n",
       "      <th>3</th>\n",
       "      <td>10</td>\n",
       "      <td>53992248</td>\n",
       "      <td>2019-01-01 00:09:24</td>\n",
       "      <td>Function always returns 1</td>\n",
       "      <td>&lt;p&gt;I´m trying to write a simple branch predict...</td>\n",
       "      <td>['c++', 'function']</td>\n",
       "      <td>150</td>\n",
       "      <td>1</td>\n",
       "      <td>21</td>\n",
       "      <td>{'c++'}</td>\n",
       "      <td>c++</td>\n",
       "      <td>4</td>\n",
       "      <td>i m trying to write a simple branch predictor ...</td>\n",
       "    </tr>\n",
       "    <tr>\n",
       "      <th>4</th>\n",
       "      <td>11</td>\n",
       "      <td>53992252</td>\n",
       "      <td>2019-01-01 00:11:20</td>\n",
       "      <td>possible to speed up this query?</td>\n",
       "      <td>&lt;p&gt;I have the following query which takes a li...</td>\n",
       "      <td>['sql', 'postgresql']</td>\n",
       "      <td>40</td>\n",
       "      <td>1</td>\n",
       "      <td>0</td>\n",
       "      <td>{'sql'}</td>\n",
       "      <td>sql</td>\n",
       "      <td>0</td>\n",
       "      <td>i have the following query which takes a littl...</td>\n",
       "    </tr>\n",
       "  </tbody>\n",
       "</table>\n",
       "</div>"
      ],
      "text/plain": [
       "   index        Id         CreationDate  \\\n",
       "0      1  53992219  2019-01-01 00:01:55   \n",
       "1      4  53992223  2019-01-01 00:02:37   \n",
       "2      8  53992234  2019-01-01 00:05:48   \n",
       "3     10  53992248  2019-01-01 00:09:24   \n",
       "4     11  53992252  2019-01-01 00:11:20   \n",
       "\n",
       "                                               Title  \\\n",
       "0  How to programmatically change style sheet of ...   \n",
       "1  Unable to print a class list attribute using i...   \n",
       "2  How to rearrange subplots so that one is under...   \n",
       "3                          Function always returns 1   \n",
       "4                   possible to speed up this query?   \n",
       "\n",
       "                                                Body  \\\n",
       "0  <p>I have so many buttons on a dialog and I wa...   \n",
       "1  <p>I am designing a deck class that has <stron...   \n",
       "2  <p>I am trying to code two plots such that one...   \n",
       "3  <p>I´m trying to write a simple branch predict...   \n",
       "4  <p>I have the following query which takes a li...   \n",
       "\n",
       "                                                Tags  ViewCount  AnswerCount  \\\n",
       "0  ['c++', 'qt', 'qt5', 'qtstylesheets', 'qpushbu...        775            2   \n",
       "1  ['python', 'python-3.x', 'list', 'class', 'pri...         40            2   \n",
       "2                ['python', 'matplotlib', 'subplot']        519            1   \n",
       "3                                ['c++', 'function']        150            1   \n",
       "4                              ['sql', 'postgresql']         40            1   \n",
       "\n",
       "   CommentCount               target_tags       overlap_tags  target_class  \\\n",
       "0             2                   {'c++'}                c++             4   \n",
       "1             0  {'python-3.x', 'python'}  python-3.x python             5   \n",
       "2             1                {'python'}             python             5   \n",
       "3            21                   {'c++'}                c++             4   \n",
       "4             0                   {'sql'}                sql             0   \n",
       "\n",
       "                                          body_clean  \n",
       "0  i have so many buttons on a dialog and i want ...  \n",
       "1  i am designing a deck class that has init meth...  \n",
       "2  i am trying to code two plots such that one pl...  \n",
       "3  i m trying to write a simple branch predictor ...  \n",
       "4  i have the following query which takes a littl...  "
      ]
     },
     "execution_count": 3,
     "metadata": {},
     "output_type": "execute_result"
    }
   ],
   "source": [
    "df.head()"
   ]
  },
  {
   "cell_type": "code",
   "execution_count": 4,
   "metadata": {
    "ExecuteTime": {
     "end_time": "2020-03-13T00:25:15.587277Z",
     "start_time": "2020-03-13T00:25:15.506873Z"
    }
   },
   "outputs": [],
   "source": [
    "# Drop random and unnecesary'index' labeled column \n",
    "df = df.drop(['index'], axis = 1)"
   ]
  },
  {
   "cell_type": "code",
   "execution_count": 5,
   "metadata": {
    "ExecuteTime": {
     "end_time": "2020-03-13T00:25:15.866777Z",
     "start_time": "2020-03-13T00:25:15.853811Z"
    }
   },
   "outputs": [
    {
     "data": {
      "text/html": [
       "<div>\n",
       "<style scoped>\n",
       "    .dataframe tbody tr th:only-of-type {\n",
       "        vertical-align: middle;\n",
       "    }\n",
       "\n",
       "    .dataframe tbody tr th {\n",
       "        vertical-align: top;\n",
       "    }\n",
       "\n",
       "    .dataframe thead th {\n",
       "        text-align: right;\n",
       "    }\n",
       "</style>\n",
       "<table border=\"1\" class=\"dataframe\">\n",
       "  <thead>\n",
       "    <tr style=\"text-align: right;\">\n",
       "      <th></th>\n",
       "      <th>Id</th>\n",
       "      <th>CreationDate</th>\n",
       "      <th>Title</th>\n",
       "      <th>Body</th>\n",
       "      <th>Tags</th>\n",
       "      <th>ViewCount</th>\n",
       "      <th>AnswerCount</th>\n",
       "      <th>CommentCount</th>\n",
       "      <th>target_tags</th>\n",
       "      <th>overlap_tags</th>\n",
       "      <th>target_class</th>\n",
       "      <th>body_clean</th>\n",
       "    </tr>\n",
       "  </thead>\n",
       "  <tbody>\n",
       "    <tr>\n",
       "      <th>0</th>\n",
       "      <td>53992219</td>\n",
       "      <td>2019-01-01 00:01:55</td>\n",
       "      <td>How to programmatically change style sheet of ...</td>\n",
       "      <td>&lt;p&gt;I have so many buttons on a dialog and I wa...</td>\n",
       "      <td>['c++', 'qt', 'qt5', 'qtstylesheets', 'qpushbu...</td>\n",
       "      <td>775</td>\n",
       "      <td>2</td>\n",
       "      <td>2</td>\n",
       "      <td>{'c++'}</td>\n",
       "      <td>c++</td>\n",
       "      <td>4</td>\n",
       "      <td>i have so many buttons on a dialog and i want ...</td>\n",
       "    </tr>\n",
       "    <tr>\n",
       "      <th>1</th>\n",
       "      <td>53992223</td>\n",
       "      <td>2019-01-01 00:02:37</td>\n",
       "      <td>Unable to print a class list attribute using i...</td>\n",
       "      <td>&lt;p&gt;I am designing a deck class that has &lt;stron...</td>\n",
       "      <td>['python', 'python-3.x', 'list', 'class', 'pri...</td>\n",
       "      <td>40</td>\n",
       "      <td>2</td>\n",
       "      <td>0</td>\n",
       "      <td>{'python-3.x', 'python'}</td>\n",
       "      <td>python-3.x python</td>\n",
       "      <td>5</td>\n",
       "      <td>i am designing a deck class that has init meth...</td>\n",
       "    </tr>\n",
       "    <tr>\n",
       "      <th>2</th>\n",
       "      <td>53992234</td>\n",
       "      <td>2019-01-01 00:05:48</td>\n",
       "      <td>How to rearrange subplots so that one is under...</td>\n",
       "      <td>&lt;p&gt;I am trying to code two plots such that one...</td>\n",
       "      <td>['python', 'matplotlib', 'subplot']</td>\n",
       "      <td>519</td>\n",
       "      <td>1</td>\n",
       "      <td>1</td>\n",
       "      <td>{'python'}</td>\n",
       "      <td>python</td>\n",
       "      <td>5</td>\n",
       "      <td>i am trying to code two plots such that one pl...</td>\n",
       "    </tr>\n",
       "    <tr>\n",
       "      <th>3</th>\n",
       "      <td>53992248</td>\n",
       "      <td>2019-01-01 00:09:24</td>\n",
       "      <td>Function always returns 1</td>\n",
       "      <td>&lt;p&gt;I´m trying to write a simple branch predict...</td>\n",
       "      <td>['c++', 'function']</td>\n",
       "      <td>150</td>\n",
       "      <td>1</td>\n",
       "      <td>21</td>\n",
       "      <td>{'c++'}</td>\n",
       "      <td>c++</td>\n",
       "      <td>4</td>\n",
       "      <td>i m trying to write a simple branch predictor ...</td>\n",
       "    </tr>\n",
       "    <tr>\n",
       "      <th>4</th>\n",
       "      <td>53992252</td>\n",
       "      <td>2019-01-01 00:11:20</td>\n",
       "      <td>possible to speed up this query?</td>\n",
       "      <td>&lt;p&gt;I have the following query which takes a li...</td>\n",
       "      <td>['sql', 'postgresql']</td>\n",
       "      <td>40</td>\n",
       "      <td>1</td>\n",
       "      <td>0</td>\n",
       "      <td>{'sql'}</td>\n",
       "      <td>sql</td>\n",
       "      <td>0</td>\n",
       "      <td>i have the following query which takes a littl...</td>\n",
       "    </tr>\n",
       "  </tbody>\n",
       "</table>\n",
       "</div>"
      ],
      "text/plain": [
       "         Id         CreationDate  \\\n",
       "0  53992219  2019-01-01 00:01:55   \n",
       "1  53992223  2019-01-01 00:02:37   \n",
       "2  53992234  2019-01-01 00:05:48   \n",
       "3  53992248  2019-01-01 00:09:24   \n",
       "4  53992252  2019-01-01 00:11:20   \n",
       "\n",
       "                                               Title  \\\n",
       "0  How to programmatically change style sheet of ...   \n",
       "1  Unable to print a class list attribute using i...   \n",
       "2  How to rearrange subplots so that one is under...   \n",
       "3                          Function always returns 1   \n",
       "4                   possible to speed up this query?   \n",
       "\n",
       "                                                Body  \\\n",
       "0  <p>I have so many buttons on a dialog and I wa...   \n",
       "1  <p>I am designing a deck class that has <stron...   \n",
       "2  <p>I am trying to code two plots such that one...   \n",
       "3  <p>I´m trying to write a simple branch predict...   \n",
       "4  <p>I have the following query which takes a li...   \n",
       "\n",
       "                                                Tags  ViewCount  AnswerCount  \\\n",
       "0  ['c++', 'qt', 'qt5', 'qtstylesheets', 'qpushbu...        775            2   \n",
       "1  ['python', 'python-3.x', 'list', 'class', 'pri...         40            2   \n",
       "2                ['python', 'matplotlib', 'subplot']        519            1   \n",
       "3                                ['c++', 'function']        150            1   \n",
       "4                              ['sql', 'postgresql']         40            1   \n",
       "\n",
       "   CommentCount               target_tags       overlap_tags  target_class  \\\n",
       "0             2                   {'c++'}                c++             4   \n",
       "1             0  {'python-3.x', 'python'}  python-3.x python             5   \n",
       "2             1                {'python'}             python             5   \n",
       "3            21                   {'c++'}                c++             4   \n",
       "4             0                   {'sql'}                sql             0   \n",
       "\n",
       "                                          body_clean  \n",
       "0  i have so many buttons on a dialog and i want ...  \n",
       "1  i am designing a deck class that has init meth...  \n",
       "2  i am trying to code two plots such that one pl...  \n",
       "3  i m trying to write a simple branch predictor ...  \n",
       "4  i have the following query which takes a littl...  "
      ]
     },
     "execution_count": 5,
     "metadata": {},
     "output_type": "execute_result"
    }
   ],
   "source": [
    "df.head()"
   ]
  },
  {
   "cell_type": "code",
   "execution_count": 6,
   "metadata": {
    "ExecuteTime": {
     "end_time": "2020-03-13T00:25:16.182040Z",
     "start_time": "2020-03-13T00:25:16.036859Z"
    }
   },
   "outputs": [],
   "source": [
    "df['CreationDate']= pd.to_datetime(df['CreationDate'])"
   ]
  },
  {
   "cell_type": "code",
   "execution_count": 7,
   "metadata": {
    "ExecuteTime": {
     "end_time": "2020-03-13T00:25:16.427131Z",
     "start_time": "2020-03-13T00:25:16.214092Z"
    }
   },
   "outputs": [
    {
     "data": {
      "text/plain": [
       "Id              0\n",
       "CreationDate    0\n",
       "Title           0\n",
       "Body            0\n",
       "Tags            0\n",
       "ViewCount       0\n",
       "AnswerCount     0\n",
       "CommentCount    0\n",
       "target_tags     0\n",
       "overlap_tags    0\n",
       "target_class    0\n",
       "body_clean      1\n",
       "dtype: int64"
      ]
     },
     "execution_count": 7,
     "metadata": {},
     "output_type": "execute_result"
    }
   ],
   "source": [
    "# Check for nulls \n",
    "df.isnull().sum()"
   ]
  },
  {
   "cell_type": "code",
   "execution_count": 8,
   "metadata": {
    "ExecuteTime": {
     "end_time": "2020-03-13T00:25:16.537893Z",
     "start_time": "2020-03-13T00:25:16.458967Z"
    }
   },
   "outputs": [
    {
     "data": {
      "text/html": [
       "<div>\n",
       "<style scoped>\n",
       "    .dataframe tbody tr th:only-of-type {\n",
       "        vertical-align: middle;\n",
       "    }\n",
       "\n",
       "    .dataframe tbody tr th {\n",
       "        vertical-align: top;\n",
       "    }\n",
       "\n",
       "    .dataframe thead th {\n",
       "        text-align: right;\n",
       "    }\n",
       "</style>\n",
       "<table border=\"1\" class=\"dataframe\">\n",
       "  <thead>\n",
       "    <tr style=\"text-align: right;\">\n",
       "      <th></th>\n",
       "      <th>Id</th>\n",
       "      <th>CreationDate</th>\n",
       "      <th>Title</th>\n",
       "      <th>Body</th>\n",
       "      <th>Tags</th>\n",
       "      <th>ViewCount</th>\n",
       "      <th>AnswerCount</th>\n",
       "      <th>CommentCount</th>\n",
       "      <th>target_tags</th>\n",
       "      <th>overlap_tags</th>\n",
       "      <th>target_class</th>\n",
       "      <th>body_clean</th>\n",
       "    </tr>\n",
       "  </thead>\n",
       "  <tbody>\n",
       "    <tr>\n",
       "      <th>91170</th>\n",
       "      <td>55234780</td>\n",
       "      <td>2019-03-19 06:21:07</td>\n",
       "      <td>1st data is officeIn and 2nd data is OfficeOut...</td>\n",
       "      <td>&lt;p&gt;&lt;a href=\"https://i.stack.imgur.com/P3SNS.pn...</td>\n",
       "      <td>['mysql', 'sql']</td>\n",
       "      <td>26</td>\n",
       "      <td>1</td>\n",
       "      <td>0</td>\n",
       "      <td>{'sql', 'mysql'}</td>\n",
       "      <td>sql mysql</td>\n",
       "      <td>0</td>\n",
       "      <td>NaN</td>\n",
       "    </tr>\n",
       "  </tbody>\n",
       "</table>\n",
       "</div>"
      ],
      "text/plain": [
       "             Id        CreationDate  \\\n",
       "91170  55234780 2019-03-19 06:21:07   \n",
       "\n",
       "                                                   Title  \\\n",
       "91170  1st data is officeIn and 2nd data is OfficeOut...   \n",
       "\n",
       "                                                    Body              Tags  \\\n",
       "91170  <p><a href=\"https://i.stack.imgur.com/P3SNS.pn...  ['mysql', 'sql']   \n",
       "\n",
       "       ViewCount  AnswerCount  CommentCount       target_tags overlap_tags  \\\n",
       "91170         26            1             0  {'sql', 'mysql'}    sql mysql   \n",
       "\n",
       "       target_class body_clean  \n",
       "91170             0        NaN  "
      ]
     },
     "execution_count": 8,
     "metadata": {},
     "output_type": "execute_result"
    }
   ],
   "source": [
    "df[df['body_clean'].isnull()]"
   ]
  },
  {
   "cell_type": "code",
   "execution_count": 9,
   "metadata": {
    "ExecuteTime": {
     "end_time": "2020-03-13T00:25:16.606062Z",
     "start_time": "2020-03-13T00:25:16.571384Z"
    }
   },
   "outputs": [
    {
     "data": {
      "text/plain": [
       "'<p><a href=\"https://i.stack.imgur.com/P3SNS.png\" rel=\"nofollow noreferrer\"><img src=\"https://i.stack.imgur.com/P3SNS.png\" alt=\"enter image description here\"></a></p>\\n\\n<pre><code>1476    5   2019-03-18 09:35:06.000\\n1487    5   2019-03-18 13:19:53.000\\n1488    5   2019-03-18 13:37:40.000\\n1495    5   2019-03-18 15:09:38.000\\n1497    5   2019-03-18 15:18:26.000\\n1503    5   2019-03-18 17:34:46.000\\n1504    5   2019-03-18 17:48:23.000\\n1511    5   2019-03-18 19:14:51.000\\n</code></pre>\\n'"
      ]
     },
     "execution_count": 9,
     "metadata": {},
     "output_type": "execute_result"
    }
   ],
   "source": [
    "df.loc[91170, 'Body']"
   ]
  },
  {
   "cell_type": "code",
   "execution_count": 10,
   "metadata": {
    "ExecuteTime": {
     "end_time": "2020-03-13T00:25:16.990149Z",
     "start_time": "2020-03-13T00:25:16.644420Z"
    }
   },
   "outputs": [],
   "source": [
    "# drop row with any missing value\n",
    "df = df.dropna()"
   ]
  },
  {
   "cell_type": "code",
   "execution_count": 11,
   "metadata": {
    "ExecuteTime": {
     "end_time": "2020-03-13T00:25:18.001576Z",
     "start_time": "2020-03-13T00:25:17.793479Z"
    }
   },
   "outputs": [
    {
     "data": {
      "text/plain": [
       "Id              0\n",
       "CreationDate    0\n",
       "Title           0\n",
       "Body            0\n",
       "Tags            0\n",
       "ViewCount       0\n",
       "AnswerCount     0\n",
       "CommentCount    0\n",
       "target_tags     0\n",
       "overlap_tags    0\n",
       "target_class    0\n",
       "body_clean      0\n",
       "dtype: int64"
      ]
     },
     "execution_count": 11,
     "metadata": {},
     "output_type": "execute_result"
    }
   ],
   "source": [
    "df.isnull().sum()"
   ]
  },
  {
   "cell_type": "markdown",
   "metadata": {},
   "source": [
    "# Exploratory Data Analysis (EDA)\n",
    "\n",
    "- ngram bar graphs (most & least used words, bigrams)\n",
    "    - Most used in python, sql etc \n",
    "- if word appears in more than 80%\n",
    "    - vectorizer parameters\n",
    "        - max_df()\n",
    "- create % weekly graph showing frequency of questions for each language (use datetime and index )\n",
    "- average length of words in question \n"
   ]
  },
  {
   "cell_type": "markdown",
   "metadata": {},
   "source": [
    "## One"
   ]
  },
  {
   "cell_type": "code",
   "execution_count": null,
   "metadata": {
    "ExecuteTime": {
     "end_time": "2020-03-12T23:39:52.038167Z",
     "start_time": "2020-03-12T23:39:51.985931Z"
    }
   },
   "outputs": [],
   "source": [
    "# can't put creatingdate as index, which makes sense... \n",
    "df['CreationDate'].nunique()"
   ]
  },
  {
   "cell_type": "code",
   "execution_count": null,
   "metadata": {
    "ExecuteTime": {
     "end_time": "2020-03-12T23:39:52.513582Z",
     "start_time": "2020-03-12T23:39:52.509915Z"
    }
   },
   "outputs": [],
   "source": [
    "df.shape"
   ]
  },
  {
   "cell_type": "code",
   "execution_count": null,
   "metadata": {
    "ExecuteTime": {
     "end_time": "2020-03-12T21:31:47.933495Z",
     "start_time": "2020-03-12T21:31:47.930477Z"
    }
   },
   "outputs": [],
   "source": [
    "df2 = df"
   ]
  },
  {
   "cell_type": "code",
   "execution_count": null,
   "metadata": {
    "ExecuteTime": {
     "end_time": "2020-03-12T21:34:35.154207Z",
     "start_time": "2020-03-12T21:34:35.144561Z"
    }
   },
   "outputs": [],
   "source": [
    "(df2)"
   ]
  },
  {
   "cell_type": "code",
   "execution_count": null,
   "metadata": {
    "ExecuteTime": {
     "end_time": "2020-03-12T23:06:44.831460Z",
     "start_time": "2020-03-12T23:06:44.828167Z"
    }
   },
   "outputs": [],
   "source": [
    "def check_length(df, col):\n",
    "    '''\n",
    "    function to create seperate column in dataframe that says how many words are in \n",
    "    each Stack Overflow question \n",
    "    '''\n",
    "    for i in range(len(df)):\n",
    "        length_{i} = len(df.loc[{i},{col}])\n",
    "        return df"
   ]
  },
  {
   "cell_type": "code",
   "execution_count": null,
   "metadata": {
    "ExecuteTime": {
     "end_time": "2020-03-12T23:00:06.243267Z",
     "start_time": "2020-03-12T23:00:06.239432Z"
    }
   },
   "outputs": [],
   "source": [
    "len(df)"
   ]
  },
  {
   "cell_type": "code",
   "execution_count": null,
   "metadata": {
    "ExecuteTime": {
     "end_time": "2020-03-12T23:07:18.744175Z",
     "start_time": "2020-03-12T23:07:18.721122Z"
    }
   },
   "outputs": [],
   "source": [
    "check_length(df2, 'body_clean')"
   ]
  },
  {
   "cell_type": "code",
   "execution_count": null,
   "metadata": {
    "ExecuteTime": {
     "end_time": "2020-03-12T22:57:55.934210Z",
     "start_time": "2020-03-12T22:54:06.695Z"
    }
   },
   "outputs": [],
   "source": [
    "df['body_length'] = df['body_clean'].map(lambda x: len(df.loc[x,'body_clean']))"
   ]
  },
  {
   "cell_type": "code",
   "execution_count": null,
   "metadata": {
    "ExecuteTime": {
     "end_time": "2020-03-12T22:58:02.014181Z",
     "start_time": "2020-03-12T22:58:02.010740Z"
    }
   },
   "outputs": [],
   "source": [
    "len(df.loc[1,'body_clean'])"
   ]
  },
  {
   "cell_type": "code",
   "execution_count": null,
   "metadata": {
    "ExecuteTime": {
     "end_time": "2020-03-12T23:13:41.258908Z",
     "start_time": "2020-03-12T23:13:41.228096Z"
    }
   },
   "outputs": [],
   "source": [
    "df2['cbody_length'] = df2['body_clean'].map(lambda i: len(df2.loc[i,'body_clean']) for i in range(len(df2)))"
   ]
  },
  {
   "cell_type": "code",
   "execution_count": null,
   "metadata": {
    "ExecuteTime": {
     "end_time": "2020-03-12T23:56:40.262909Z",
     "start_time": "2020-03-12T23:56:40.225129Z"
    }
   },
   "outputs": [],
   "source": [
    "# Length of question for index position 1 \n",
    "len(df.loc[1,'body_clean'])"
   ]
  },
  {
   "cell_type": "code",
   "execution_count": 12,
   "metadata": {
    "ExecuteTime": {
     "end_time": "2020-03-13T00:25:23.111636Z",
     "start_time": "2020-03-13T00:25:23.108483Z"
    }
   },
   "outputs": [],
   "source": [
    "X = df['body_clean']\n",
    "y = df['target_class']"
   ]
  },
  {
   "cell_type": "code",
   "execution_count": null,
   "metadata": {
    "ExecuteTime": {
     "start_time": "2020-03-13T00:25:29.961Z"
    }
   },
   "outputs": [],
   "source": [
    "cvec = CountVectorizer(stop_words='english', \n",
    "                       max_df = 0.9,  \n",
    "                       min_df = 10)\n",
    "\n",
    "# Sparse Matrix\n",
    "sparse_cv = cvec.fit_transform(X)"
   ]
  },
  {
   "cell_type": "code",
   "execution_count": null,
   "metadata": {
    "ExecuteTime": {
     "end_time": "2020-03-13T00:05:50.896996Z",
     "start_time": "2020-03-13T00:05:50.837418Z"
    }
   },
   "outputs": [],
   "source": [
    "# 95982\n",
    "len(cvec.get_feature_names())"
   ]
  },
  {
   "cell_type": "code",
   "execution_count": null,
   "metadata": {
    "ExecuteTime": {
     "end_time": "2020-03-13T00:10:07.995482Z",
     "start_time": "2020-03-13T00:10:07.987624Z"
    }
   },
   "outputs": [],
   "source": [
    "# CVEC Dataframe\n",
    "cvec_df = pd.DataFrame(sparse_cv.toarray(), columns=cvec.get_feature_names())"
   ]
  },
  {
   "cell_type": "code",
   "execution_count": null,
   "metadata": {
    "ExecuteTime": {
     "end_time": "2020-03-13T00:10:05.096006Z",
     "start_time": "2020-03-13T00:10:05.037905Z"
    }
   },
   "outputs": [],
   "source": [
    "cvec_df.columns"
   ]
  },
  {
   "cell_type": "markdown",
   "metadata": {},
   "source": [
    "## Two "
   ]
  },
  {
   "cell_type": "code",
   "execution_count": null,
   "metadata": {},
   "outputs": [],
   "source": []
  }
 ],
 "metadata": {
  "kernelspec": {
   "display_name": "Python 3",
   "language": "python",
   "name": "python3"
  },
  "language_info": {
   "codemirror_mode": {
    "name": "ipython",
    "version": 3
   },
   "file_extension": ".py",
   "mimetype": "text/x-python",
   "name": "python",
   "nbconvert_exporter": "python",
   "pygments_lexer": "ipython3",
   "version": "3.7.1"
  },
  "toc": {
   "base_numbering": 1,
   "nav_menu": {},
   "number_sections": true,
   "sideBar": true,
   "skip_h1_title": false,
   "title_cell": "Table of Contents",
   "title_sidebar": "Contents",
   "toc_cell": false,
   "toc_position": {},
   "toc_section_display": true,
   "toc_window_display": false
  },
  "varInspector": {
   "cols": {
    "lenName": 16,
    "lenType": 16,
    "lenVar": 40
   },
   "kernels_config": {
    "python": {
     "delete_cmd_postfix": "",
     "delete_cmd_prefix": "del ",
     "library": "var_list.py",
     "varRefreshCmd": "print(var_dic_list())"
    },
    "r": {
     "delete_cmd_postfix": ") ",
     "delete_cmd_prefix": "rm(",
     "library": "var_list.r",
     "varRefreshCmd": "cat(var_dic_list()) "
    }
   },
   "types_to_exclude": [
    "module",
    "function",
    "builtin_function_or_method",
    "instance",
    "_Feature"
   ],
   "window_display": false
  }
 },
 "nbformat": 4,
 "nbformat_minor": 2
}
