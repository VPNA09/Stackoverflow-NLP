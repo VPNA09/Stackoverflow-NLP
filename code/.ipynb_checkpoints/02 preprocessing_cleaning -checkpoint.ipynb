{
 "cells": [
  {
   "cell_type": "markdown",
   "metadata": {},
   "source": [
    "# Imports"
   ]
  },
  {
   "cell_type": "code",
   "execution_count": 1,
   "metadata": {
    "ExecuteTime": {
     "end_time": "2020-03-11T01:47:42.210859Z",
     "start_time": "2020-03-11T01:47:41.047811Z"
    }
   },
   "outputs": [],
   "source": [
    "import pandas as pd\n",
    "import numpy as np\n",
    "import matplotlib.pyplot as plt\n",
    "%matplotlib inline\n",
    "\n",
    "import seaborn as sns\n",
    "from datetime import datetime\n",
    "\n",
    "import regex as re\n",
    "from bs4 import BeautifulSoup "
   ]
  },
  {
   "cell_type": "markdown",
   "metadata": {},
   "source": [
    "# Data Cleaning: \n",
    "1. Language tags \n",
    "    - Target Tags: \n",
    "        - SQL (Target Class: 0)\n",
    "        - Scala (Target Class: 1)\n",
    "        - R (Target Class: 2)\n",
    "        - Julia (Target Class: 3)\n",
    "        - C++ (Target Class: 4)\n",
    "        - Python (Target Class: 5)\n",
    "    - Remove tags that won't be used for modeling (the 6 above) \n",
    "2. Body & Title (will I use Title in modeling?) \n",
    "    - Clean up body and titles:\n",
    "        - remove HTML tags & numbers \n",
    "3. MISC Cleaning\n",
    "    - Reset Index\n",
    "    - CreationDate column --> Datetimeformat"
   ]
  },
  {
   "cell_type": "code",
   "execution_count": 3,
   "metadata": {
    "ExecuteTime": {
     "end_time": "2020-03-10T02:55:14.788165Z",
     "start_time": "2020-03-10T02:54:45.617292Z"
    }
   },
   "outputs": [],
   "source": [
    "df = pd.read_csv('../data/weekly_combined2019.csv')"
   ]
  },
  {
   "cell_type": "code",
   "execution_count": 4,
   "metadata": {
    "ExecuteTime": {
     "end_time": "2020-03-10T02:55:17.701061Z",
     "start_time": "2020-03-10T02:55:17.687580Z"
    }
   },
   "outputs": [
    {
     "data": {
      "text/html": [
       "<div>\n",
       "<style scoped>\n",
       "    .dataframe tbody tr th:only-of-type {\n",
       "        vertical-align: middle;\n",
       "    }\n",
       "\n",
       "    .dataframe tbody tr th {\n",
       "        vertical-align: top;\n",
       "    }\n",
       "\n",
       "    .dataframe thead th {\n",
       "        text-align: right;\n",
       "    }\n",
       "</style>\n",
       "<table border=\"1\" class=\"dataframe\">\n",
       "  <thead>\n",
       "    <tr style=\"text-align: right;\">\n",
       "      <th></th>\n",
       "      <th>Id</th>\n",
       "      <th>CreationDate</th>\n",
       "      <th>Title</th>\n",
       "      <th>Body</th>\n",
       "      <th>Tags</th>\n",
       "      <th>ViewCount</th>\n",
       "      <th>AnswerCount</th>\n",
       "      <th>CommentCount</th>\n",
       "    </tr>\n",
       "  </thead>\n",
       "  <tbody>\n",
       "    <tr>\n",
       "      <th>0</th>\n",
       "      <td>53992215</td>\n",
       "      <td>2019-01-01 00:00:04</td>\n",
       "      <td>Using a ScheduledExecutorService to run a task...</td>\n",
       "      <td>&lt;p&gt;I am working on a program that will read da...</td>\n",
       "      <td>&lt;java&gt;&lt;executorservice&gt;&lt;java-threads&gt;</td>\n",
       "      <td>73</td>\n",
       "      <td>1</td>\n",
       "      <td>3</td>\n",
       "    </tr>\n",
       "    <tr>\n",
       "      <th>1</th>\n",
       "      <td>53992219</td>\n",
       "      <td>2019-01-01 00:01:55</td>\n",
       "      <td>How to programmatically change style sheet of ...</td>\n",
       "      <td>&lt;p&gt;I have so many buttons on a dialog and I wa...</td>\n",
       "      <td>&lt;c++&gt;&lt;qt&gt;&lt;qt5&gt;&lt;qtstylesheets&gt;&lt;qpushbutton&gt;</td>\n",
       "      <td>775</td>\n",
       "      <td>2</td>\n",
       "      <td>2</td>\n",
       "    </tr>\n",
       "    <tr>\n",
       "      <th>2</th>\n",
       "      <td>53992220</td>\n",
       "      <td>2019-01-01 00:02:08</td>\n",
       "      <td>Trying to put website into Maintenance Mode (3...</td>\n",
       "      <td>&lt;p&gt;I'm trying to put my webpage into Maintenan...</td>\n",
       "      <td>&lt;.htaccess&gt;</td>\n",
       "      <td>364</td>\n",
       "      <td>2</td>\n",
       "      <td>13</td>\n",
       "    </tr>\n",
       "    <tr>\n",
       "      <th>3</th>\n",
       "      <td>53992221</td>\n",
       "      <td>2019-01-01 00:02:27</td>\n",
       "      <td>Node.js Lambda Async return Undefined</td>\n",
       "      <td>&lt;p&gt;Simple call to ec2 Describing Security grou...</td>\n",
       "      <td>&lt;node.js&gt;&lt;lambda&gt;</td>\n",
       "      <td>423</td>\n",
       "      <td>3</td>\n",
       "      <td>3</td>\n",
       "    </tr>\n",
       "    <tr>\n",
       "      <th>4</th>\n",
       "      <td>53992223</td>\n",
       "      <td>2019-01-01 00:02:37</td>\n",
       "      <td>Unable to print a class list attribute using i...</td>\n",
       "      <td>&lt;p&gt;I am designing a deck class that has &lt;stron...</td>\n",
       "      <td>&lt;python&gt;&lt;python-3.x&gt;&lt;list&gt;&lt;class&gt;&lt;printing&gt;</td>\n",
       "      <td>40</td>\n",
       "      <td>2</td>\n",
       "      <td>0</td>\n",
       "    </tr>\n",
       "  </tbody>\n",
       "</table>\n",
       "</div>"
      ],
      "text/plain": [
       "         Id         CreationDate  \\\n",
       "0  53992215  2019-01-01 00:00:04   \n",
       "1  53992219  2019-01-01 00:01:55   \n",
       "2  53992220  2019-01-01 00:02:08   \n",
       "3  53992221  2019-01-01 00:02:27   \n",
       "4  53992223  2019-01-01 00:02:37   \n",
       "\n",
       "                                               Title  \\\n",
       "0  Using a ScheduledExecutorService to run a task...   \n",
       "1  How to programmatically change style sheet of ...   \n",
       "2  Trying to put website into Maintenance Mode (3...   \n",
       "3              Node.js Lambda Async return Undefined   \n",
       "4  Unable to print a class list attribute using i...   \n",
       "\n",
       "                                                Body  \\\n",
       "0  <p>I am working on a program that will read da...   \n",
       "1  <p>I have so many buttons on a dialog and I wa...   \n",
       "2  <p>I'm trying to put my webpage into Maintenan...   \n",
       "3  <p>Simple call to ec2 Describing Security grou...   \n",
       "4  <p>I am designing a deck class that has <stron...   \n",
       "\n",
       "                                          Tags  ViewCount  AnswerCount  \\\n",
       "0        <java><executorservice><java-threads>         73            1   \n",
       "1   <c++><qt><qt5><qtstylesheets><qpushbutton>        775            2   \n",
       "2                                  <.htaccess>        364            2   \n",
       "3                            <node.js><lambda>        423            3   \n",
       "4  <python><python-3.x><list><class><printing>         40            2   \n",
       "\n",
       "   CommentCount  \n",
       "0             3  \n",
       "1             2  \n",
       "2            13  \n",
       "3             3  \n",
       "4             0  "
      ]
     },
     "execution_count": 4,
     "metadata": {},
     "output_type": "execute_result"
    }
   ],
   "source": [
    "df.head()"
   ]
  },
  {
   "cell_type": "markdown",
   "metadata": {},
   "source": [
    "## Language Tags "
   ]
  },
  {
   "cell_type": "markdown",
   "metadata": {},
   "source": [
    "### Clean up tags"
   ]
  },
  {
   "cell_type": "code",
   "execution_count": 5,
   "metadata": {
    "ExecuteTime": {
     "end_time": "2020-03-10T02:55:21.374075Z",
     "start_time": "2020-03-10T02:55:21.369930Z"
    }
   },
   "outputs": [],
   "source": [
    "def tag_replace_split(tag):\n",
    "    '''\n",
    "    function to get rid of characters ('><, <, >') from tag column and replace with either space, or nothing \n",
    "    then put that new tag into list to be able to parse more easily for modeling  \n",
    "\n",
    "    '''\n",
    "    tag = tag.replace('><', ' ')\n",
    "    tag = tag.replace('<', '')\n",
    "    tag = tag.replace('>', '')\n",
    "    tag = tag.split()\n",
    "    \n",
    "    return tag "
   ]
  },
  {
   "cell_type": "code",
   "execution_count": 6,
   "metadata": {
    "ExecuteTime": {
     "end_time": "2020-03-10T02:55:28.181511Z",
     "start_time": "2020-03-10T02:55:23.768014Z"
    }
   },
   "outputs": [],
   "source": [
    "# Use \"tag_replace_split\" function to clean up original tags column  \n",
    "df['Tags'] = df['Tags'].map(lambda x: tag_replace_split(x))"
   ]
  },
  {
   "cell_type": "code",
   "execution_count": 7,
   "metadata": {
    "ExecuteTime": {
     "end_time": "2020-03-10T02:55:40.903139Z",
     "start_time": "2020-03-10T02:55:40.890506Z"
    }
   },
   "outputs": [
    {
     "data": {
      "text/html": [
       "<div>\n",
       "<style scoped>\n",
       "    .dataframe tbody tr th:only-of-type {\n",
       "        vertical-align: middle;\n",
       "    }\n",
       "\n",
       "    .dataframe tbody tr th {\n",
       "        vertical-align: top;\n",
       "    }\n",
       "\n",
       "    .dataframe thead th {\n",
       "        text-align: right;\n",
       "    }\n",
       "</style>\n",
       "<table border=\"1\" class=\"dataframe\">\n",
       "  <thead>\n",
       "    <tr style=\"text-align: right;\">\n",
       "      <th></th>\n",
       "      <th>Id</th>\n",
       "      <th>CreationDate</th>\n",
       "      <th>Title</th>\n",
       "      <th>Body</th>\n",
       "      <th>Tags</th>\n",
       "      <th>ViewCount</th>\n",
       "      <th>AnswerCount</th>\n",
       "      <th>CommentCount</th>\n",
       "    </tr>\n",
       "  </thead>\n",
       "  <tbody>\n",
       "    <tr>\n",
       "      <th>0</th>\n",
       "      <td>53992215</td>\n",
       "      <td>2019-01-01 00:00:04</td>\n",
       "      <td>Using a ScheduledExecutorService to run a task...</td>\n",
       "      <td>&lt;p&gt;I am working on a program that will read da...</td>\n",
       "      <td>[java, executorservice, java-threads]</td>\n",
       "      <td>73</td>\n",
       "      <td>1</td>\n",
       "      <td>3</td>\n",
       "    </tr>\n",
       "    <tr>\n",
       "      <th>1</th>\n",
       "      <td>53992219</td>\n",
       "      <td>2019-01-01 00:01:55</td>\n",
       "      <td>How to programmatically change style sheet of ...</td>\n",
       "      <td>&lt;p&gt;I have so many buttons on a dialog and I wa...</td>\n",
       "      <td>[c++, qt, qt5, qtstylesheets, qpushbutton]</td>\n",
       "      <td>775</td>\n",
       "      <td>2</td>\n",
       "      <td>2</td>\n",
       "    </tr>\n",
       "    <tr>\n",
       "      <th>2</th>\n",
       "      <td>53992220</td>\n",
       "      <td>2019-01-01 00:02:08</td>\n",
       "      <td>Trying to put website into Maintenance Mode (3...</td>\n",
       "      <td>&lt;p&gt;I'm trying to put my webpage into Maintenan...</td>\n",
       "      <td>[.htaccess]</td>\n",
       "      <td>364</td>\n",
       "      <td>2</td>\n",
       "      <td>13</td>\n",
       "    </tr>\n",
       "    <tr>\n",
       "      <th>3</th>\n",
       "      <td>53992221</td>\n",
       "      <td>2019-01-01 00:02:27</td>\n",
       "      <td>Node.js Lambda Async return Undefined</td>\n",
       "      <td>&lt;p&gt;Simple call to ec2 Describing Security grou...</td>\n",
       "      <td>[node.js, lambda]</td>\n",
       "      <td>423</td>\n",
       "      <td>3</td>\n",
       "      <td>3</td>\n",
       "    </tr>\n",
       "    <tr>\n",
       "      <th>4</th>\n",
       "      <td>53992223</td>\n",
       "      <td>2019-01-01 00:02:37</td>\n",
       "      <td>Unable to print a class list attribute using i...</td>\n",
       "      <td>&lt;p&gt;I am designing a deck class that has &lt;stron...</td>\n",
       "      <td>[python, python-3.x, list, class, printing]</td>\n",
       "      <td>40</td>\n",
       "      <td>2</td>\n",
       "      <td>0</td>\n",
       "    </tr>\n",
       "  </tbody>\n",
       "</table>\n",
       "</div>"
      ],
      "text/plain": [
       "         Id         CreationDate  \\\n",
       "0  53992215  2019-01-01 00:00:04   \n",
       "1  53992219  2019-01-01 00:01:55   \n",
       "2  53992220  2019-01-01 00:02:08   \n",
       "3  53992221  2019-01-01 00:02:27   \n",
       "4  53992223  2019-01-01 00:02:37   \n",
       "\n",
       "                                               Title  \\\n",
       "0  Using a ScheduledExecutorService to run a task...   \n",
       "1  How to programmatically change style sheet of ...   \n",
       "2  Trying to put website into Maintenance Mode (3...   \n",
       "3              Node.js Lambda Async return Undefined   \n",
       "4  Unable to print a class list attribute using i...   \n",
       "\n",
       "                                                Body  \\\n",
       "0  <p>I am working on a program that will read da...   \n",
       "1  <p>I have so many buttons on a dialog and I wa...   \n",
       "2  <p>I'm trying to put my webpage into Maintenan...   \n",
       "3  <p>Simple call to ec2 Describing Security grou...   \n",
       "4  <p>I am designing a deck class that has <stron...   \n",
       "\n",
       "                                          Tags  ViewCount  AnswerCount  \\\n",
       "0        [java, executorservice, java-threads]         73            1   \n",
       "1   [c++, qt, qt5, qtstylesheets, qpushbutton]        775            2   \n",
       "2                                  [.htaccess]        364            2   \n",
       "3                            [node.js, lambda]        423            3   \n",
       "4  [python, python-3.x, list, class, printing]         40            2   \n",
       "\n",
       "   CommentCount  \n",
       "0             3  \n",
       "1             2  \n",
       "2            13  \n",
       "3             3  \n",
       "4             0  "
      ]
     },
     "execution_count": 7,
     "metadata": {},
     "output_type": "execute_result"
    }
   ],
   "source": [
    "df.head()"
   ]
  },
  {
   "cell_type": "markdown",
   "metadata": {},
   "source": [
    "### Categorize Langauge Tags\n",
    "- categorizing and drop unnecesary rows with non-target tags"
   ]
  },
  {
   "cell_type": "markdown",
   "metadata": {},
   "source": [
    "#### Language Tag Sets"
   ]
  },
  {
   "cell_type": "code",
   "execution_count": 8,
   "metadata": {
    "ExecuteTime": {
     "end_time": "2020-03-10T02:59:25.070388Z",
     "start_time": "2020-03-10T02:59:25.064425Z"
    }
   },
   "outputs": [],
   "source": [
    "# Individual tag sets for each language I'm targeting \n",
    "# created target sets\n",
    "\n",
    "# SQL (target class: 0)\n",
    "sql_set = {'sql','bigquery-standard-sql','sqlparameters', 'sqlparameter', 'web-sql', 'sqlite3','sqlite', \n",
    "          'sql2016', 'sql-server-2016', 'sql-execution-plan','spark-sql','sql-order-by','sql-join',  \n",
    "          'sql-syntax','sql-statement','sql-query','mysql-query','orderby','sql-server','mysql'} \n",
    "\n",
    "# Scala (taget class: 1)\n",
    "scala_set = {'scala', 'scala-implicits', 'scala-generics'} \n",
    "\n",
    "# R (target class: 2)\n",
    "r_set = {'rstats', 'r', 'r-language', 'r-faq'}\n",
    "\n",
    "# Julia (target: 3)\n",
    "julia_set = {'julia-lang', 'julia', 'julialang'}\n",
    "\n",
    "# C++ (target: 4)\n",
    "cplus_set = {'c++', 'c++17', 'visual-c++'}\n",
    "\n",
    "# Python (target: 5)\n",
    "py_set = {'python', 'python3', 'python-3.7', 'python-3.x', 'pytorch', 'python-list', 'py3', 'ipython-notebook', \n",
    "          'python3', 'python-3.5.2' , 'python-2.7', 'python-3', 'python-bigquery', 'pythonic', 'py'}\n",
    "\n",
    "# includes all language tags \n",
    "# union of all sets \n",
    "master_set = (sql_set|scala_set|r_set|julia_set|cplus_set|py_set)\n",
    "\n",
    "# else : -1 \n",
    "\n",
    "all_sets = [sql_set, scala_set, r_set, julia_set, cplus_set, py_set]"
   ]
  },
  {
   "cell_type": "code",
   "execution_count": 9,
   "metadata": {
    "ExecuteTime": {
     "end_time": "2020-03-10T03:01:45.055679Z",
     "start_time": "2020-03-10T03:01:41.931936Z"
    }
   },
   "outputs": [],
   "source": [
    "# look through each row of tags and see if there's an intersection with tags and master set of languages \n",
    "# has to be a set to use .intersection \n",
    "df['target_tags'] = df['Tags'].apply(lambda tags: set(tags).intersection(master_set))"
   ]
  },
  {
   "cell_type": "code",
   "execution_count": 12,
   "metadata": {
    "ExecuteTime": {
     "end_time": "2020-03-10T03:02:20.405377Z",
     "start_time": "2020-03-10T03:02:20.392406Z"
    }
   },
   "outputs": [
    {
     "data": {
      "text/html": [
       "<div>\n",
       "<style scoped>\n",
       "    .dataframe tbody tr th:only-of-type {\n",
       "        vertical-align: middle;\n",
       "    }\n",
       "\n",
       "    .dataframe tbody tr th {\n",
       "        vertical-align: top;\n",
       "    }\n",
       "\n",
       "    .dataframe thead th {\n",
       "        text-align: right;\n",
       "    }\n",
       "</style>\n",
       "<table border=\"1\" class=\"dataframe\">\n",
       "  <thead>\n",
       "    <tr style=\"text-align: right;\">\n",
       "      <th></th>\n",
       "      <th>Id</th>\n",
       "      <th>CreationDate</th>\n",
       "      <th>Title</th>\n",
       "      <th>Body</th>\n",
       "      <th>Tags</th>\n",
       "      <th>ViewCount</th>\n",
       "      <th>AnswerCount</th>\n",
       "      <th>CommentCount</th>\n",
       "      <th>target_tags</th>\n",
       "    </tr>\n",
       "  </thead>\n",
       "  <tbody>\n",
       "    <tr>\n",
       "      <th>0</th>\n",
       "      <td>53992215</td>\n",
       "      <td>2019-01-01 00:00:04</td>\n",
       "      <td>Using a ScheduledExecutorService to run a task...</td>\n",
       "      <td>&lt;p&gt;I am working on a program that will read da...</td>\n",
       "      <td>[java, executorservice, java-threads]</td>\n",
       "      <td>73</td>\n",
       "      <td>1</td>\n",
       "      <td>3</td>\n",
       "      <td>{}</td>\n",
       "    </tr>\n",
       "    <tr>\n",
       "      <th>1</th>\n",
       "      <td>53992219</td>\n",
       "      <td>2019-01-01 00:01:55</td>\n",
       "      <td>How to programmatically change style sheet of ...</td>\n",
       "      <td>&lt;p&gt;I have so many buttons on a dialog and I wa...</td>\n",
       "      <td>[c++, qt, qt5, qtstylesheets, qpushbutton]</td>\n",
       "      <td>775</td>\n",
       "      <td>2</td>\n",
       "      <td>2</td>\n",
       "      <td>{c++}</td>\n",
       "    </tr>\n",
       "    <tr>\n",
       "      <th>2</th>\n",
       "      <td>53992220</td>\n",
       "      <td>2019-01-01 00:02:08</td>\n",
       "      <td>Trying to put website into Maintenance Mode (3...</td>\n",
       "      <td>&lt;p&gt;I'm trying to put my webpage into Maintenan...</td>\n",
       "      <td>[.htaccess]</td>\n",
       "      <td>364</td>\n",
       "      <td>2</td>\n",
       "      <td>13</td>\n",
       "      <td>{}</td>\n",
       "    </tr>\n",
       "    <tr>\n",
       "      <th>3</th>\n",
       "      <td>53992221</td>\n",
       "      <td>2019-01-01 00:02:27</td>\n",
       "      <td>Node.js Lambda Async return Undefined</td>\n",
       "      <td>&lt;p&gt;Simple call to ec2 Describing Security grou...</td>\n",
       "      <td>[node.js, lambda]</td>\n",
       "      <td>423</td>\n",
       "      <td>3</td>\n",
       "      <td>3</td>\n",
       "      <td>{}</td>\n",
       "    </tr>\n",
       "    <tr>\n",
       "      <th>4</th>\n",
       "      <td>53992223</td>\n",
       "      <td>2019-01-01 00:02:37</td>\n",
       "      <td>Unable to print a class list attribute using i...</td>\n",
       "      <td>&lt;p&gt;I am designing a deck class that has &lt;stron...</td>\n",
       "      <td>[python, python-3.x, list, class, printing]</td>\n",
       "      <td>40</td>\n",
       "      <td>2</td>\n",
       "      <td>0</td>\n",
       "      <td>{python-3.x, python}</td>\n",
       "    </tr>\n",
       "  </tbody>\n",
       "</table>\n",
       "</div>"
      ],
      "text/plain": [
       "         Id         CreationDate  \\\n",
       "0  53992215  2019-01-01 00:00:04   \n",
       "1  53992219  2019-01-01 00:01:55   \n",
       "2  53992220  2019-01-01 00:02:08   \n",
       "3  53992221  2019-01-01 00:02:27   \n",
       "4  53992223  2019-01-01 00:02:37   \n",
       "\n",
       "                                               Title  \\\n",
       "0  Using a ScheduledExecutorService to run a task...   \n",
       "1  How to programmatically change style sheet of ...   \n",
       "2  Trying to put website into Maintenance Mode (3...   \n",
       "3              Node.js Lambda Async return Undefined   \n",
       "4  Unable to print a class list attribute using i...   \n",
       "\n",
       "                                                Body  \\\n",
       "0  <p>I am working on a program that will read da...   \n",
       "1  <p>I have so many buttons on a dialog and I wa...   \n",
       "2  <p>I'm trying to put my webpage into Maintenan...   \n",
       "3  <p>Simple call to ec2 Describing Security grou...   \n",
       "4  <p>I am designing a deck class that has <stron...   \n",
       "\n",
       "                                          Tags  ViewCount  AnswerCount  \\\n",
       "0        [java, executorservice, java-threads]         73            1   \n",
       "1   [c++, qt, qt5, qtstylesheets, qpushbutton]        775            2   \n",
       "2                                  [.htaccess]        364            2   \n",
       "3                            [node.js, lambda]        423            3   \n",
       "4  [python, python-3.x, list, class, printing]         40            2   \n",
       "\n",
       "   CommentCount           target_tags  \n",
       "0             3                    {}  \n",
       "1             2                 {c++}  \n",
       "2            13                    {}  \n",
       "3             3                    {}  \n",
       "4             0  {python-3.x, python}  "
      ]
     },
     "execution_count": 12,
     "metadata": {},
     "output_type": "execute_result"
    }
   ],
   "source": [
    "df.head()"
   ]
  },
  {
   "cell_type": "code",
   "execution_count": 13,
   "metadata": {
    "ExecuteTime": {
     "end_time": "2020-03-10T03:02:44.471452Z",
     "start_time": "2020-03-10T03:02:44.468110Z"
    }
   },
   "outputs": [
    {
     "data": {
      "text/plain": [
       "(1878570, 9)"
      ]
     },
     "execution_count": 13,
     "metadata": {},
     "output_type": "execute_result"
    }
   ],
   "source": [
    "# Original \n",
    "df.shape"
   ]
  },
  {
   "cell_type": "code",
   "execution_count": 14,
   "metadata": {
    "ExecuteTime": {
     "end_time": "2020-03-10T03:03:07.510637Z",
     "start_time": "2020-03-10T03:03:05.916537Z"
    }
   },
   "outputs": [],
   "source": [
    "# drop rows that have empty sets for target_tags \n",
    "df.drop(df[df['target_tags'] == set({})].index, inplace = True)"
   ]
  },
  {
   "cell_type": "code",
   "execution_count": 15,
   "metadata": {
    "ExecuteTime": {
     "end_time": "2020-03-10T03:03:10.369225Z",
     "start_time": "2020-03-10T03:03:10.365295Z"
    }
   },
   "outputs": [
    {
     "data": {
      "text/plain": [
       "(465055, 9)"
      ]
     },
     "execution_count": 15,
     "metadata": {},
     "output_type": "execute_result"
    }
   ],
   "source": [
    "# New df with only target languages from sets created \n",
    "# loss about 25% of original \n",
    "df.shape"
   ]
  },
  {
   "cell_type": "code",
   "execution_count": 22,
   "metadata": {
    "ExecuteTime": {
     "end_time": "2020-03-10T03:07:55.445789Z",
     "start_time": "2020-03-10T03:07:55.441862Z"
    }
   },
   "outputs": [
    {
     "data": {
      "text/plain": [
       "24.755798293382732"
      ]
     },
     "execution_count": 22,
     "metadata": {},
     "output_type": "execute_result"
    }
   ],
   "source": [
    "(465055/1878570)*100"
   ]
  },
  {
   "cell_type": "markdown",
   "metadata": {},
   "source": [
    "#### Overlapping Target Classes"
   ]
  },
  {
   "cell_type": "code",
   "execution_count": 26,
   "metadata": {
    "ExecuteTime": {
     "end_time": "2020-03-10T03:10:20.617318Z",
     "start_time": "2020-03-10T03:10:20.319615Z"
    }
   },
   "outputs": [],
   "source": [
    "# use this column to check and see which languages are overlapping b/c can't use .unique on list \n",
    "df['overlap_tags'] = df['target_tags'].map(lambda tag: ' '.join(tag))"
   ]
  },
  {
   "cell_type": "code",
   "execution_count": 27,
   "metadata": {
    "ExecuteTime": {
     "end_time": "2020-03-10T03:10:39.320593Z",
     "start_time": "2020-03-10T03:10:39.230000Z"
    }
   },
   "outputs": [
    {
     "data": {
      "text/plain": [
       "array(['c++', 'python-3.x python', 'python', 'sql', 'r', 'sqlite',\n",
       "       'sql-server', 'mysql', 'python-3.x', 'scala', 'sql mysql',\n",
       "       'python-3.x python mysql', 'sql-server sql', 'python-2.7 python',\n",
       "       'pytorch', 'python sql mysql', 'sqlite python', 'pytorch python',\n",
       "       'python-2.7', 'visual-c++ c++', 'python mysql', 'python sql',\n",
       "       'c++ c++17', 'c++ mysql', 'python c++',\n",
       "       'python-3.x python-2.7 python', 'sqlite sql', 'visual-c++',\n",
       "       'sqlite sql c++', 'sql-server sql mysql', 'sql-order-by mysql',\n",
       "       'sql-server-2016 sql', 'julia', 'sql-order-by sql mysql',\n",
       "       'sql-server sql-server-2016', 'python-3.x sqlite',\n",
       "       'python-2.7 python mysql', 'sql-server sql-server-2016 sql',\n",
       "       'sqlite sql-server', 'sql-server sql-execution-plan sql',\n",
       "       'python-3.x sqlite python', 'python sql-server',\n",
       "       'sql-order-by sql', 'python-3.x sql-server', 'pytorch python-2.7',\n",
       "       'sql c++', 'sql-server-2016', 'r sql', 'python-3.x pytorch python',\n",
       "       'sql-order-by', 'sqlite c++', 'python-3.x python-2.7',\n",
       "       'visual-c++ c++ c++17', 'sql-server r sql', 'sql-order-by r',\n",
       "       'python-3.x sql', 'python r', 'python-3.x pytorch',\n",
       "       'python-3.7 python', 'python-2.7 c++', 'python-3.x mysql',\n",
       "       'sql-server r', 'python sql-server mysql', 'sql-server mysql',\n",
       "       'sql-server sql-order-by', 'bigquery-standard-sql sql',\n",
       "       'sql-server sql-order-by sql', 'python sql-server sql', 'r mysql',\n",
       "       'sql-server sql c++', 'sqlite python sql', 'python-3.x c++',\n",
       "       'c++17', 'r c++', 'python-3.x python sql-server sql',\n",
       "       'python-2.7 mysql', 'sql-execution-plan', 'c++17 c++',\n",
       "       'sqlite sql-order-by sql', 'sqlite mysql', 'python-3.x scala',\n",
       "       'scala sql', 'python-3.x python c++', 'python-2.7 python sqlite',\n",
       "       'python-3.x python-3.7 python', 'python-2.7 python-3.7 python',\n",
       "       'sqlite python r', 'python scala', 'python python-3.7',\n",
       "       'python-3.x python python-3.7', 'pytorch python-3.x', 'python-3.7',\n",
       "       'scala mysql', 'python-2.7 python c++', 'pytorch python-3.7',\n",
       "       'pytorch c++', 'sqlite r', 'python-3.x python r sql',\n",
       "       'python-3.x python sql', 'sql-server sql-server-2016 mysql',\n",
       "       'pytorch python-3.7 python', 'sql-server c++',\n",
       "       'python-2.7 python python-3.7', 'julia c++', 'visual-c++ sql',\n",
       "       'bigquery-standard-sql', 'python-3.x python sql-server',\n",
       "       'visual-c++ python c++', 'python-3.x julia',\n",
       "       'python-3.x python sql mysql', 'python-2.7 sqlite', 'python julia',\n",
       "       'sql-server sql-execution-plan', 'python-3.x python-3.7',\n",
       "       'python-3.x r', 'python-2.7 python sql', 'sqlite sql mysql',\n",
       "       'python r sql', 'visual-c++ python', 'sqlite sql-server sql',\n",
       "       'python-3.x sqlite python sql', 'pytorch python c++',\n",
       "       'sqlite sql-order-by', 'python-3.x python-2.7 python mysql',\n",
       "       'visual-c++ sql-server', 'python-3.x python r', 'r sql mysql',\n",
       "       'python scala mysql', 'sql-server-2016 r', 'visual-c++ c++17 c++',\n",
       "       'r julia', 'python-3.x sqlite sql', 'sqlite python mysql',\n",
       "       'python-2.7 python-3.7', 'sqlite web-sql',\n",
       "       'python-3.x python visual-c++', 'sqlite julia',\n",
       "       'sqlparameter mysql', 'python sql-server-2016',\n",
       "       'python python-3.7 c++', 'sqlite r sql',\n",
       "       'python-2.7 python sql mysql', 'pytorch python julia',\n",
       "       'sql-execution-plan mysql', 'python-3.x c++ python c++17',\n",
       "       'sqlite sql-server mysql',\n",
       "       'python-2.7 python-3.x python sql mysql',\n",
       "       'sqlite python sql mysql', 'python-3.x python-2.7 c++',\n",
       "       'python-3.7 sql', 'scala c++', 'scala sql-server sql',\n",
       "       'python-3.x python-2.7 python sqlite', 'web-sql',\n",
       "       'scala sql-server', 'python sql-server r',\n",
       "       'python-3.x sql-server sql', 'pytorch python-3.x python',\n",
       "       'python-3.x sql mysql', 'c++ sql-server sql mysql',\n",
       "       'sql-execution-plan sql', 'python-3.x python-2.7 sql-server',\n",
       "       'python-2.7 sql', 'visual-c++ mysql',\n",
       "       'python-3.x python-2.7 python pytorch', 'sqlite scala',\n",
       "       'sqlite python-3.7', 'pytorch python python-3.7',\n",
       "       'scala sql mysql', 'python-3.7 mysql', 'sqlparameter sql',\n",
       "       'visual-c++ c++17', 'python-3.x visual-c++',\n",
       "       'visual-c++ sqlite c++', 'c++ sql mysql', 'c++ python-3.7 python',\n",
       "       'bigquery-standard-sql sql-server sql', 'python-2.7 r',\n",
       "       'sql-server sqlparameter', 'scala r', 'python python-3.7 mysql',\n",
       "       'python-3.x python-2.7 python-3.7 python',\n",
       "       'python-2.7 python sqlite sql', 'pytorch python-2.7 python',\n",
       "       'visual-c++ sqlite sql-server c++', 'python-3.x visual-c++ c++',\n",
       "       'sql web-sql', 'python-3.x python scala',\n",
       "       'sql-server-2016 sql-execution-plan', 'python scala sql',\n",
       "       'bigquery-standard-sql sql-order-by',\n",
       "       'python-3.x sqlite python mysql', 'python-3.x python-2.7 python r',\n",
       "       'python-bigquery python', 'python-bigquery', 'sql-server r mysql',\n",
       "       'sql-server sql-server-2016 sql-execution-plan',\n",
       "       'python-3.x sql-server-2016', 'visual-c++ sql-server c++',\n",
       "       'sqlite python sql-server', 'r-faq r',\n",
       "       'python-3.x python-bigquery', 'python-bigquery sql mysql',\n",
       "       'bigquery-standard-sql sql-server mysql', 'c++ python c++17',\n",
       "       'python-bigquery python-2.7', 'sql-server sql-order-by mysql',\n",
       "       'sql-server sqlparameter sql', 'python-2.7 python sql-server',\n",
       "       'sqlite python c++', 'python-3.x python julia',\n",
       "       'python sql-server sql mysql', 'python-2.7 sql-server',\n",
       "       'bigquery-standard-sql mysql', 'sqlparameter',\n",
       "       'python-3.x python-2.7 python python-3.7', 'python-3.7 c++',\n",
       "       'python-3.x scala sql', 'visual-c++ r c++',\n",
       "       'python-bigquery python sql', 'bigquery-standard-sql sql mysql',\n",
       "       'python-3.x pytorch python python-3.7',\n",
       "       'python-3.x python-2.7 sqlite',\n",
       "       'python-3.x bigquery-standard-sql python-bigquery',\n",
       "       'visual-c++ sqlite', 'python-bigquery bigquery-standard-sql',\n",
       "       'python-2.7 sql-server sql', 'visual-c++ python-3.7',\n",
       "       'python-3.x scala mysql', 'visual-c++ sql-server sql',\n",
       "       'python-3.x sql-order-by mysql', 'scala sql-order-by',\n",
       "       'sqlite python sql-server sql', 'sqlite sql-server r sql',\n",
       "       'python sql-order-by', 'sqlite julia sql',\n",
       "       'sql-execution-plan sql mysql', 'python-3.x python-2.7 python sql',\n",
       "       'python-3.x scala sql-server', 'python-3.x python-2.7 mysql',\n",
       "       'c++ python sql mysql'], dtype=object)"
      ]
     },
     "execution_count": 27,
     "metadata": {},
     "output_type": "execute_result"
    }
   ],
   "source": [
    "# overlapping languagues: \n",
    "# Fair amount, will need to address this. \n",
    "# r & python \n",
    "# sql & python \n",
    "# r & sql\n",
    "# c ++ & sql \n",
    "# 'python-3.x scala sql-server'\n",
    "# 'python-3.x python-2.7 c++'\n",
    "# 'python-3.x python r sql'\n",
    "\n",
    "df['overlap_tags'].unique()"
   ]
  },
  {
   "cell_type": "code",
   "execution_count": 29,
   "metadata": {
    "ExecuteTime": {
     "end_time": "2020-03-10T03:18:15.773149Z",
     "start_time": "2020-03-10T03:18:15.768659Z"
    }
   },
   "outputs": [],
   "source": [
    "# If have time will come back and create functions to check for overlapping classes \n",
    "def check_2class(tags, class1, class2):\n",
    "    '''\n",
    "    make a function that would take a post's tags, and check \n",
    "    if the tags are in class1 and class2.\n",
    "    \n",
    "    If so, return the rows that satisfy that condition.\n",
    "    \n",
    "    (Then you can drop those rows --> do this outside the function)\n",
    "    '''\n",
    "    pass\n",
    "\n",
    "def check_3class(tags, class1, class2, class3):\n",
    "    pass\n",
    "\n",
    "def check_4class(tags, class1, class2, class3, class4):\n",
    "    pass\n",
    "\n",
    "def check_5class(tags, class1, class2, class3, class4, class5):\n",
    "    pass\n",
    "\n",
    "def check_6class(tags, class1, class2, class3, class4, class5, class6):\n",
    "    pass"
   ]
  },
  {
   "cell_type": "code",
   "execution_count": 30,
   "metadata": {
    "ExecuteTime": {
     "end_time": "2020-03-10T03:18:27.943795Z",
     "start_time": "2020-03-10T03:18:27.928529Z"
    }
   },
   "outputs": [
    {
     "data": {
      "text/html": [
       "<div>\n",
       "<style scoped>\n",
       "    .dataframe tbody tr th:only-of-type {\n",
       "        vertical-align: middle;\n",
       "    }\n",
       "\n",
       "    .dataframe tbody tr th {\n",
       "        vertical-align: top;\n",
       "    }\n",
       "\n",
       "    .dataframe thead th {\n",
       "        text-align: right;\n",
       "    }\n",
       "</style>\n",
       "<table border=\"1\" class=\"dataframe\">\n",
       "  <thead>\n",
       "    <tr style=\"text-align: right;\">\n",
       "      <th></th>\n",
       "      <th>Id</th>\n",
       "      <th>CreationDate</th>\n",
       "      <th>Title</th>\n",
       "      <th>Body</th>\n",
       "      <th>Tags</th>\n",
       "      <th>ViewCount</th>\n",
       "      <th>AnswerCount</th>\n",
       "      <th>CommentCount</th>\n",
       "      <th>target_tags</th>\n",
       "      <th>overlap_tags</th>\n",
       "    </tr>\n",
       "  </thead>\n",
       "  <tbody>\n",
       "    <tr>\n",
       "      <th>1</th>\n",
       "      <td>53992219</td>\n",
       "      <td>2019-01-01 00:01:55</td>\n",
       "      <td>How to programmatically change style sheet of ...</td>\n",
       "      <td>&lt;p&gt;I have so many buttons on a dialog and I wa...</td>\n",
       "      <td>[c++, qt, qt5, qtstylesheets, qpushbutton]</td>\n",
       "      <td>775</td>\n",
       "      <td>2</td>\n",
       "      <td>2</td>\n",
       "      <td>{c++}</td>\n",
       "      <td>c++</td>\n",
       "    </tr>\n",
       "    <tr>\n",
       "      <th>4</th>\n",
       "      <td>53992223</td>\n",
       "      <td>2019-01-01 00:02:37</td>\n",
       "      <td>Unable to print a class list attribute using i...</td>\n",
       "      <td>&lt;p&gt;I am designing a deck class that has &lt;stron...</td>\n",
       "      <td>[python, python-3.x, list, class, printing]</td>\n",
       "      <td>40</td>\n",
       "      <td>2</td>\n",
       "      <td>0</td>\n",
       "      <td>{python-3.x, python}</td>\n",
       "      <td>python-3.x python</td>\n",
       "    </tr>\n",
       "    <tr>\n",
       "      <th>8</th>\n",
       "      <td>53992234</td>\n",
       "      <td>2019-01-01 00:05:48</td>\n",
       "      <td>How to rearrange subplots so that one is under...</td>\n",
       "      <td>&lt;p&gt;I am trying to code two plots such that one...</td>\n",
       "      <td>[python, matplotlib, subplot]</td>\n",
       "      <td>519</td>\n",
       "      <td>1</td>\n",
       "      <td>1</td>\n",
       "      <td>{python}</td>\n",
       "      <td>python</td>\n",
       "    </tr>\n",
       "    <tr>\n",
       "      <th>10</th>\n",
       "      <td>53992248</td>\n",
       "      <td>2019-01-01 00:09:24</td>\n",
       "      <td>Function always returns 1</td>\n",
       "      <td>&lt;p&gt;I´m trying to write a simple branch predict...</td>\n",
       "      <td>[c++, function]</td>\n",
       "      <td>150</td>\n",
       "      <td>1</td>\n",
       "      <td>21</td>\n",
       "      <td>{c++}</td>\n",
       "      <td>c++</td>\n",
       "    </tr>\n",
       "    <tr>\n",
       "      <th>11</th>\n",
       "      <td>53992252</td>\n",
       "      <td>2019-01-01 00:11:20</td>\n",
       "      <td>possible to speed up this query?</td>\n",
       "      <td>&lt;p&gt;I have the following query which takes a li...</td>\n",
       "      <td>[sql, postgresql]</td>\n",
       "      <td>40</td>\n",
       "      <td>1</td>\n",
       "      <td>0</td>\n",
       "      <td>{sql}</td>\n",
       "      <td>sql</td>\n",
       "    </tr>\n",
       "  </tbody>\n",
       "</table>\n",
       "</div>"
      ],
      "text/plain": [
       "          Id         CreationDate  \\\n",
       "1   53992219  2019-01-01 00:01:55   \n",
       "4   53992223  2019-01-01 00:02:37   \n",
       "8   53992234  2019-01-01 00:05:48   \n",
       "10  53992248  2019-01-01 00:09:24   \n",
       "11  53992252  2019-01-01 00:11:20   \n",
       "\n",
       "                                                Title  \\\n",
       "1   How to programmatically change style sheet of ...   \n",
       "4   Unable to print a class list attribute using i...   \n",
       "8   How to rearrange subplots so that one is under...   \n",
       "10                          Function always returns 1   \n",
       "11                   possible to speed up this query?   \n",
       "\n",
       "                                                 Body  \\\n",
       "1   <p>I have so many buttons on a dialog and I wa...   \n",
       "4   <p>I am designing a deck class that has <stron...   \n",
       "8   <p>I am trying to code two plots such that one...   \n",
       "10  <p>I´m trying to write a simple branch predict...   \n",
       "11  <p>I have the following query which takes a li...   \n",
       "\n",
       "                                           Tags  ViewCount  AnswerCount  \\\n",
       "1    [c++, qt, qt5, qtstylesheets, qpushbutton]        775            2   \n",
       "4   [python, python-3.x, list, class, printing]         40            2   \n",
       "8                 [python, matplotlib, subplot]        519            1   \n",
       "10                              [c++, function]        150            1   \n",
       "11                            [sql, postgresql]         40            1   \n",
       "\n",
       "    CommentCount           target_tags       overlap_tags  \n",
       "1              2                 {c++}                c++  \n",
       "4              0  {python-3.x, python}  python-3.x python  \n",
       "8              1              {python}             python  \n",
       "10            21                 {c++}                c++  \n",
       "11             0                 {sql}                sql  "
      ]
     },
     "execution_count": 30,
     "metadata": {},
     "output_type": "execute_result"
    }
   ],
   "source": [
    "df.head()"
   ]
  },
  {
   "cell_type": "markdown",
   "metadata": {},
   "source": [
    "#### Create Target Classes\n",
    "\n",
    "- 0 = SQL  \n",
    "- 1 = Scala  \n",
    "- 2 = R \n",
    "- 3 = Julia  \n",
    "- 4 = C++  \n",
    "- 5 = Python "
   ]
  },
  {
   "cell_type": "code",
   "execution_count": 35,
   "metadata": {
    "ExecuteTime": {
     "end_time": "2020-03-10T03:21:30.656031Z",
     "start_time": "2020-03-10T03:21:30.652134Z"
    }
   },
   "outputs": [],
   "source": [
    "def assign_target(tags):\n",
    "    \"\"\"\n",
    "    Function to create target classes for my tags \n",
    "    \n",
    "    *Limitation*: uses first tag to assign the target. \n",
    "    If there are multiple langauges in the tags like SQL and Python, \n",
    "    will pick SQL since appears first. \n",
    "    \n",
    "    \"\"\"\n",
    "    for target_class, target_set in enumerate(all_sets):\n",
    "        for tag in tags.split():\n",
    "            if tag in target_set:\n",
    "                return target_class\n",
    "            else:\n",
    "                continue\n",
    "    return -1"
   ]
  },
  {
   "cell_type": "code",
   "execution_count": 37,
   "metadata": {
    "ExecuteTime": {
     "end_time": "2020-03-10T03:22:44.921268Z",
     "start_time": "2020-03-10T03:22:44.107042Z"
    }
   },
   "outputs": [
    {
     "data": {
      "text/html": [
       "<div>\n",
       "<style scoped>\n",
       "    .dataframe tbody tr th:only-of-type {\n",
       "        vertical-align: middle;\n",
       "    }\n",
       "\n",
       "    .dataframe tbody tr th {\n",
       "        vertical-align: top;\n",
       "    }\n",
       "\n",
       "    .dataframe thead th {\n",
       "        text-align: right;\n",
       "    }\n",
       "</style>\n",
       "<table border=\"1\" class=\"dataframe\">\n",
       "  <thead>\n",
       "    <tr style=\"text-align: right;\">\n",
       "      <th></th>\n",
       "      <th>Id</th>\n",
       "      <th>CreationDate</th>\n",
       "      <th>Title</th>\n",
       "      <th>Body</th>\n",
       "      <th>Tags</th>\n",
       "      <th>ViewCount</th>\n",
       "      <th>AnswerCount</th>\n",
       "      <th>CommentCount</th>\n",
       "      <th>target_tags</th>\n",
       "      <th>overlap_tags</th>\n",
       "      <th>target_class</th>\n",
       "    </tr>\n",
       "  </thead>\n",
       "  <tbody>\n",
       "    <tr>\n",
       "      <th>1</th>\n",
       "      <td>53992219</td>\n",
       "      <td>2019-01-01 00:01:55</td>\n",
       "      <td>How to programmatically change style sheet of ...</td>\n",
       "      <td>&lt;p&gt;I have so many buttons on a dialog and I wa...</td>\n",
       "      <td>[c++, qt, qt5, qtstylesheets, qpushbutton]</td>\n",
       "      <td>775</td>\n",
       "      <td>2</td>\n",
       "      <td>2</td>\n",
       "      <td>{c++}</td>\n",
       "      <td>c++</td>\n",
       "      <td>4</td>\n",
       "    </tr>\n",
       "    <tr>\n",
       "      <th>4</th>\n",
       "      <td>53992223</td>\n",
       "      <td>2019-01-01 00:02:37</td>\n",
       "      <td>Unable to print a class list attribute using i...</td>\n",
       "      <td>&lt;p&gt;I am designing a deck class that has &lt;stron...</td>\n",
       "      <td>[python, python-3.x, list, class, printing]</td>\n",
       "      <td>40</td>\n",
       "      <td>2</td>\n",
       "      <td>0</td>\n",
       "      <td>{python-3.x, python}</td>\n",
       "      <td>python-3.x python</td>\n",
       "      <td>5</td>\n",
       "    </tr>\n",
       "    <tr>\n",
       "      <th>8</th>\n",
       "      <td>53992234</td>\n",
       "      <td>2019-01-01 00:05:48</td>\n",
       "      <td>How to rearrange subplots so that one is under...</td>\n",
       "      <td>&lt;p&gt;I am trying to code two plots such that one...</td>\n",
       "      <td>[python, matplotlib, subplot]</td>\n",
       "      <td>519</td>\n",
       "      <td>1</td>\n",
       "      <td>1</td>\n",
       "      <td>{python}</td>\n",
       "      <td>python</td>\n",
       "      <td>5</td>\n",
       "    </tr>\n",
       "    <tr>\n",
       "      <th>10</th>\n",
       "      <td>53992248</td>\n",
       "      <td>2019-01-01 00:09:24</td>\n",
       "      <td>Function always returns 1</td>\n",
       "      <td>&lt;p&gt;I´m trying to write a simple branch predict...</td>\n",
       "      <td>[c++, function]</td>\n",
       "      <td>150</td>\n",
       "      <td>1</td>\n",
       "      <td>21</td>\n",
       "      <td>{c++}</td>\n",
       "      <td>c++</td>\n",
       "      <td>4</td>\n",
       "    </tr>\n",
       "    <tr>\n",
       "      <th>11</th>\n",
       "      <td>53992252</td>\n",
       "      <td>2019-01-01 00:11:20</td>\n",
       "      <td>possible to speed up this query?</td>\n",
       "      <td>&lt;p&gt;I have the following query which takes a li...</td>\n",
       "      <td>[sql, postgresql]</td>\n",
       "      <td>40</td>\n",
       "      <td>1</td>\n",
       "      <td>0</td>\n",
       "      <td>{sql}</td>\n",
       "      <td>sql</td>\n",
       "      <td>0</td>\n",
       "    </tr>\n",
       "  </tbody>\n",
       "</table>\n",
       "</div>"
      ],
      "text/plain": [
       "          Id         CreationDate  \\\n",
       "1   53992219  2019-01-01 00:01:55   \n",
       "4   53992223  2019-01-01 00:02:37   \n",
       "8   53992234  2019-01-01 00:05:48   \n",
       "10  53992248  2019-01-01 00:09:24   \n",
       "11  53992252  2019-01-01 00:11:20   \n",
       "\n",
       "                                                Title  \\\n",
       "1   How to programmatically change style sheet of ...   \n",
       "4   Unable to print a class list attribute using i...   \n",
       "8   How to rearrange subplots so that one is under...   \n",
       "10                          Function always returns 1   \n",
       "11                   possible to speed up this query?   \n",
       "\n",
       "                                                 Body  \\\n",
       "1   <p>I have so many buttons on a dialog and I wa...   \n",
       "4   <p>I am designing a deck class that has <stron...   \n",
       "8   <p>I am trying to code two plots such that one...   \n",
       "10  <p>I´m trying to write a simple branch predict...   \n",
       "11  <p>I have the following query which takes a li...   \n",
       "\n",
       "                                           Tags  ViewCount  AnswerCount  \\\n",
       "1    [c++, qt, qt5, qtstylesheets, qpushbutton]        775            2   \n",
       "4   [python, python-3.x, list, class, printing]         40            2   \n",
       "8                 [python, matplotlib, subplot]        519            1   \n",
       "10                              [c++, function]        150            1   \n",
       "11                            [sql, postgresql]         40            1   \n",
       "\n",
       "    CommentCount           target_tags       overlap_tags  target_class  \n",
       "1              2                 {c++}                c++             4  \n",
       "4              0  {python-3.x, python}  python-3.x python             5  \n",
       "8              1              {python}             python             5  \n",
       "10            21                 {c++}                c++             4  \n",
       "11             0                 {sql}                sql             0  "
      ]
     },
     "execution_count": 37,
     "metadata": {},
     "output_type": "execute_result"
    }
   ],
   "source": [
    "df['target_class'] =  df['overlap_tags'].map(assign_target)\n",
    "df.head()"
   ]
  },
  {
   "cell_type": "code",
   "execution_count": 38,
   "metadata": {
    "ExecuteTime": {
     "end_time": "2020-03-10T03:24:08.926983Z",
     "start_time": "2020-03-10T03:24:08.918705Z"
    }
   },
   "outputs": [
    {
     "data": {
      "text/plain": [
       "array([4, 5, 0, 2, 1, 3])"
      ]
     },
     "execution_count": 38,
     "metadata": {},
     "output_type": "execute_result"
    }
   ],
   "source": [
    "# no -1, so there aren't any extra classes \n",
    "df['target_class'].unique()"
   ]
  },
  {
   "cell_type": "markdown",
   "metadata": {},
   "source": [
    "#### Target Class Baseline "
   ]
  },
  {
   "cell_type": "code",
   "execution_count": 43,
   "metadata": {
    "ExecuteTime": {
     "end_time": "2020-03-10T03:25:29.878952Z",
     "start_time": "2020-03-10T03:25:29.739706Z"
    }
   },
   "outputs": [
    {
     "data": {
      "text/plain": [
       "5    0.552298\n",
       "0    0.211044\n",
       "2    0.110993\n",
       "4    0.103900\n",
       "1    0.019045\n",
       "3    0.002720\n",
       "Name: target_class, dtype: float64"
      ]
     },
     "execution_count": 43,
     "metadata": {},
     "output_type": "execute_result"
    }
   ],
   "source": [
    "df['target_class'].value_counts(normalize = True)"
   ]
  },
  {
   "cell_type": "markdown",
   "metadata": {},
   "source": [
    "## Body (and Title --TBD) Cleanup"
   ]
  },
  {
   "cell_type": "code",
   "execution_count": 45,
   "metadata": {
    "ExecuteTime": {
     "end_time": "2020-03-10T03:29:47.959438Z",
     "start_time": "2020-03-10T03:29:47.955648Z"
    }
   },
   "outputs": [],
   "source": [
    "def body_cleanup(raw_body):\n",
    "    '''\n",
    "    Function to convert original body to a string of words: \n",
    "    - remove HTML artifacts & numbers\n",
    "    - convert to lowercase then join as one string\n",
    "    '''\n",
    "    \n",
    "    # Remove HTML artifacts using BeautifulSoup \n",
    "    body_text = BeautifulSoup(raw_body).get_text()\n",
    "    \n",
    "    # Remove non-letters (returns only letters) -- Regex \n",
    "    letters_only = re.sub(\"[^a-zA-Z]\", \" \", body_text)\n",
    "    \n",
    "    # Convert to lower case, split into individual words (tokenize)\n",
    "    words = letters_only.lower().split()\n",
    "    \n",
    "    # Join the words back into one string separated by space, and return the result.\n",
    "    return(\" \".join(words))"
   ]
  },
  {
   "cell_type": "code",
   "execution_count": 46,
   "metadata": {
    "ExecuteTime": {
     "end_time": "2020-03-10T03:35:45.796506Z",
     "start_time": "2020-03-10T03:29:49.947216Z"
    }
   },
   "outputs": [],
   "source": [
    "# Execution time: 5m 56s \n",
    "df['body_clean'] = df['Body'].map(lambda x: body_cleanup(x))"
   ]
  },
  {
   "cell_type": "markdown",
   "metadata": {},
   "source": [
    "## MISC Cleaning "
   ]
  },
  {
   "cell_type": "markdown",
   "metadata": {},
   "source": [
    "### Reset Index"
   ]
  },
  {
   "cell_type": "code",
   "execution_count": 52,
   "metadata": {
    "ExecuteTime": {
     "end_time": "2020-03-10T03:38:10.827110Z",
     "start_time": "2020-03-10T03:38:10.801600Z"
    }
   },
   "outputs": [],
   "source": [
    "df.reset_index(inplace = True)"
   ]
  },
  {
   "cell_type": "markdown",
   "metadata": {},
   "source": [
    "### Check for nulls"
   ]
  },
  {
   "cell_type": "code",
   "execution_count": 63,
   "metadata": {
    "ExecuteTime": {
     "end_time": "2020-03-10T03:39:34.157210Z",
     "start_time": "2020-03-10T03:39:33.784209Z"
    }
   },
   "outputs": [
    {
     "data": {
      "text/plain": [
       "index           0\n",
       "Id              0\n",
       "CreationDate    0\n",
       "Title           0\n",
       "Body            0\n",
       "Tags            0\n",
       "ViewCount       0\n",
       "AnswerCount     0\n",
       "CommentCount    0\n",
       "target_tags     0\n",
       "overlap_tags    0\n",
       "target_class    0\n",
       "body_clean      0\n",
       "dtype: int64"
      ]
     },
     "execution_count": 63,
     "metadata": {},
     "output_type": "execute_result"
    }
   ],
   "source": [
    "df.isnull().sum()"
   ]
  },
  {
   "cell_type": "markdown",
   "metadata": {},
   "source": [
    "### Check Dtypes"
   ]
  },
  {
   "cell_type": "code",
   "execution_count": 64,
   "metadata": {
    "ExecuteTime": {
     "end_time": "2020-03-10T03:41:40.008318Z",
     "start_time": "2020-03-10T03:41:40.003197Z"
    }
   },
   "outputs": [
    {
     "data": {
      "text/plain": [
       "index            int64\n",
       "Id               int64\n",
       "CreationDate    object\n",
       "Title           object\n",
       "Body            object\n",
       "Tags            object\n",
       "ViewCount        int64\n",
       "AnswerCount      int64\n",
       "CommentCount     int64\n",
       "target_tags     object\n",
       "overlap_tags    object\n",
       "target_class     int64\n",
       "body_clean      object\n",
       "dtype: object"
      ]
     },
     "execution_count": 64,
     "metadata": {},
     "output_type": "execute_result"
    }
   ],
   "source": [
    "df.dtypes"
   ]
  },
  {
   "cell_type": "markdown",
   "metadata": {},
   "source": [
    "#### Datetime formatt "
   ]
  },
  {
   "cell_type": "code",
   "execution_count": 65,
   "metadata": {
    "ExecuteTime": {
     "end_time": "2020-03-10T03:41:50.550293Z",
     "start_time": "2020-03-10T03:41:50.377924Z"
    }
   },
   "outputs": [],
   "source": [
    "df['CreationDate']= pd.to_datetime(df['CreationDate']) "
   ]
  },
  {
   "cell_type": "markdown",
   "metadata": {},
   "source": [
    "# Save as clean_final.csv"
   ]
  },
  {
   "cell_type": "code",
   "execution_count": 67,
   "metadata": {
    "ExecuteTime": {
     "end_time": "2020-03-10T03:46:25.822060Z",
     "start_time": "2020-03-10T03:45:42.016866Z"
    }
   },
   "outputs": [],
   "source": [
    "df.to_csv('../data/clean_final.csv', index=False)"
   ]
  },
  {
   "cell_type": "code",
   "execution_count": 2,
   "metadata": {
    "ExecuteTime": {
     "end_time": "2020-03-11T01:47:46.335254Z",
     "start_time": "2020-03-11T01:47:46.204663Z"
    }
   },
   "outputs": [
    {
     "ename": "FileNotFoundError",
     "evalue": "[Errno 2] File b'../data/clean_final.csv' does not exist: b'../data/clean_final.csv'",
     "output_type": "error",
     "traceback": [
      "\u001b[0;31m---------------------------------------------------------------------------\u001b[0m",
      "\u001b[0;31mFileNotFoundError\u001b[0m                         Traceback (most recent call last)",
      "\u001b[0;32m<ipython-input-2-6ae25444c618>\u001b[0m in \u001b[0;36m<module>\u001b[0;34m\u001b[0m\n\u001b[0;32m----> 1\u001b[0;31m \u001b[0mdf\u001b[0m \u001b[0;34m=\u001b[0m \u001b[0mpd\u001b[0m\u001b[0;34m.\u001b[0m\u001b[0mread_csv\u001b[0m\u001b[0;34m(\u001b[0m\u001b[0;34m'../data/clean_final.csv'\u001b[0m\u001b[0;34m)\u001b[0m\u001b[0;34m\u001b[0m\u001b[0;34m\u001b[0m\u001b[0m\n\u001b[0m",
      "\u001b[0;32m/anaconda3/lib/python3.7/site-packages/pandas/io/parsers.py\u001b[0m in \u001b[0;36mparser_f\u001b[0;34m(filepath_or_buffer, sep, delimiter, header, names, index_col, usecols, squeeze, prefix, mangle_dupe_cols, dtype, engine, converters, true_values, false_values, skipinitialspace, skiprows, skipfooter, nrows, na_values, keep_default_na, na_filter, verbose, skip_blank_lines, parse_dates, infer_datetime_format, keep_date_col, date_parser, dayfirst, cache_dates, iterator, chunksize, compression, thousands, decimal, lineterminator, quotechar, quoting, doublequote, escapechar, comment, encoding, dialect, error_bad_lines, warn_bad_lines, delim_whitespace, low_memory, memory_map, float_precision)\u001b[0m\n\u001b[1;32m    683\u001b[0m         )\n\u001b[1;32m    684\u001b[0m \u001b[0;34m\u001b[0m\u001b[0m\n\u001b[0;32m--> 685\u001b[0;31m         \u001b[0;32mreturn\u001b[0m \u001b[0m_read\u001b[0m\u001b[0;34m(\u001b[0m\u001b[0mfilepath_or_buffer\u001b[0m\u001b[0;34m,\u001b[0m \u001b[0mkwds\u001b[0m\u001b[0;34m)\u001b[0m\u001b[0;34m\u001b[0m\u001b[0;34m\u001b[0m\u001b[0m\n\u001b[0m\u001b[1;32m    686\u001b[0m \u001b[0;34m\u001b[0m\u001b[0m\n\u001b[1;32m    687\u001b[0m     \u001b[0mparser_f\u001b[0m\u001b[0;34m.\u001b[0m\u001b[0m__name__\u001b[0m \u001b[0;34m=\u001b[0m \u001b[0mname\u001b[0m\u001b[0;34m\u001b[0m\u001b[0;34m\u001b[0m\u001b[0m\n",
      "\u001b[0;32m/anaconda3/lib/python3.7/site-packages/pandas/io/parsers.py\u001b[0m in \u001b[0;36m_read\u001b[0;34m(filepath_or_buffer, kwds)\u001b[0m\n\u001b[1;32m    455\u001b[0m \u001b[0;34m\u001b[0m\u001b[0m\n\u001b[1;32m    456\u001b[0m     \u001b[0;31m# Create the parser.\u001b[0m\u001b[0;34m\u001b[0m\u001b[0;34m\u001b[0m\u001b[0;34m\u001b[0m\u001b[0m\n\u001b[0;32m--> 457\u001b[0;31m     \u001b[0mparser\u001b[0m \u001b[0;34m=\u001b[0m \u001b[0mTextFileReader\u001b[0m\u001b[0;34m(\u001b[0m\u001b[0mfp_or_buf\u001b[0m\u001b[0;34m,\u001b[0m \u001b[0;34m**\u001b[0m\u001b[0mkwds\u001b[0m\u001b[0;34m)\u001b[0m\u001b[0;34m\u001b[0m\u001b[0;34m\u001b[0m\u001b[0m\n\u001b[0m\u001b[1;32m    458\u001b[0m \u001b[0;34m\u001b[0m\u001b[0m\n\u001b[1;32m    459\u001b[0m     \u001b[0;32mif\u001b[0m \u001b[0mchunksize\u001b[0m \u001b[0;32mor\u001b[0m \u001b[0miterator\u001b[0m\u001b[0;34m:\u001b[0m\u001b[0;34m\u001b[0m\u001b[0;34m\u001b[0m\u001b[0m\n",
      "\u001b[0;32m/anaconda3/lib/python3.7/site-packages/pandas/io/parsers.py\u001b[0m in \u001b[0;36m__init__\u001b[0;34m(self, f, engine, **kwds)\u001b[0m\n\u001b[1;32m    893\u001b[0m             \u001b[0mself\u001b[0m\u001b[0;34m.\u001b[0m\u001b[0moptions\u001b[0m\u001b[0;34m[\u001b[0m\u001b[0;34m\"has_index_names\"\u001b[0m\u001b[0;34m]\u001b[0m \u001b[0;34m=\u001b[0m \u001b[0mkwds\u001b[0m\u001b[0;34m[\u001b[0m\u001b[0;34m\"has_index_names\"\u001b[0m\u001b[0;34m]\u001b[0m\u001b[0;34m\u001b[0m\u001b[0;34m\u001b[0m\u001b[0m\n\u001b[1;32m    894\u001b[0m \u001b[0;34m\u001b[0m\u001b[0m\n\u001b[0;32m--> 895\u001b[0;31m         \u001b[0mself\u001b[0m\u001b[0;34m.\u001b[0m\u001b[0m_make_engine\u001b[0m\u001b[0;34m(\u001b[0m\u001b[0mself\u001b[0m\u001b[0;34m.\u001b[0m\u001b[0mengine\u001b[0m\u001b[0;34m)\u001b[0m\u001b[0;34m\u001b[0m\u001b[0;34m\u001b[0m\u001b[0m\n\u001b[0m\u001b[1;32m    896\u001b[0m \u001b[0;34m\u001b[0m\u001b[0m\n\u001b[1;32m    897\u001b[0m     \u001b[0;32mdef\u001b[0m \u001b[0mclose\u001b[0m\u001b[0;34m(\u001b[0m\u001b[0mself\u001b[0m\u001b[0;34m)\u001b[0m\u001b[0;34m:\u001b[0m\u001b[0;34m\u001b[0m\u001b[0;34m\u001b[0m\u001b[0m\n",
      "\u001b[0;32m/anaconda3/lib/python3.7/site-packages/pandas/io/parsers.py\u001b[0m in \u001b[0;36m_make_engine\u001b[0;34m(self, engine)\u001b[0m\n\u001b[1;32m   1133\u001b[0m     \u001b[0;32mdef\u001b[0m \u001b[0m_make_engine\u001b[0m\u001b[0;34m(\u001b[0m\u001b[0mself\u001b[0m\u001b[0;34m,\u001b[0m \u001b[0mengine\u001b[0m\u001b[0;34m=\u001b[0m\u001b[0;34m\"c\"\u001b[0m\u001b[0;34m)\u001b[0m\u001b[0;34m:\u001b[0m\u001b[0;34m\u001b[0m\u001b[0;34m\u001b[0m\u001b[0m\n\u001b[1;32m   1134\u001b[0m         \u001b[0;32mif\u001b[0m \u001b[0mengine\u001b[0m \u001b[0;34m==\u001b[0m \u001b[0;34m\"c\"\u001b[0m\u001b[0;34m:\u001b[0m\u001b[0;34m\u001b[0m\u001b[0;34m\u001b[0m\u001b[0m\n\u001b[0;32m-> 1135\u001b[0;31m             \u001b[0mself\u001b[0m\u001b[0;34m.\u001b[0m\u001b[0m_engine\u001b[0m \u001b[0;34m=\u001b[0m \u001b[0mCParserWrapper\u001b[0m\u001b[0;34m(\u001b[0m\u001b[0mself\u001b[0m\u001b[0;34m.\u001b[0m\u001b[0mf\u001b[0m\u001b[0;34m,\u001b[0m \u001b[0;34m**\u001b[0m\u001b[0mself\u001b[0m\u001b[0;34m.\u001b[0m\u001b[0moptions\u001b[0m\u001b[0;34m)\u001b[0m\u001b[0;34m\u001b[0m\u001b[0;34m\u001b[0m\u001b[0m\n\u001b[0m\u001b[1;32m   1136\u001b[0m         \u001b[0;32melse\u001b[0m\u001b[0;34m:\u001b[0m\u001b[0;34m\u001b[0m\u001b[0;34m\u001b[0m\u001b[0m\n\u001b[1;32m   1137\u001b[0m             \u001b[0;32mif\u001b[0m \u001b[0mengine\u001b[0m \u001b[0;34m==\u001b[0m \u001b[0;34m\"python\"\u001b[0m\u001b[0;34m:\u001b[0m\u001b[0;34m\u001b[0m\u001b[0;34m\u001b[0m\u001b[0m\n",
      "\u001b[0;32m/anaconda3/lib/python3.7/site-packages/pandas/io/parsers.py\u001b[0m in \u001b[0;36m__init__\u001b[0;34m(self, src, **kwds)\u001b[0m\n\u001b[1;32m   1915\u001b[0m         \u001b[0mkwds\u001b[0m\u001b[0;34m[\u001b[0m\u001b[0;34m\"usecols\"\u001b[0m\u001b[0;34m]\u001b[0m \u001b[0;34m=\u001b[0m \u001b[0mself\u001b[0m\u001b[0;34m.\u001b[0m\u001b[0musecols\u001b[0m\u001b[0;34m\u001b[0m\u001b[0;34m\u001b[0m\u001b[0m\n\u001b[1;32m   1916\u001b[0m \u001b[0;34m\u001b[0m\u001b[0m\n\u001b[0;32m-> 1917\u001b[0;31m         \u001b[0mself\u001b[0m\u001b[0;34m.\u001b[0m\u001b[0m_reader\u001b[0m \u001b[0;34m=\u001b[0m \u001b[0mparsers\u001b[0m\u001b[0;34m.\u001b[0m\u001b[0mTextReader\u001b[0m\u001b[0;34m(\u001b[0m\u001b[0msrc\u001b[0m\u001b[0;34m,\u001b[0m \u001b[0;34m**\u001b[0m\u001b[0mkwds\u001b[0m\u001b[0;34m)\u001b[0m\u001b[0;34m\u001b[0m\u001b[0;34m\u001b[0m\u001b[0m\n\u001b[0m\u001b[1;32m   1918\u001b[0m         \u001b[0mself\u001b[0m\u001b[0;34m.\u001b[0m\u001b[0munnamed_cols\u001b[0m \u001b[0;34m=\u001b[0m \u001b[0mself\u001b[0m\u001b[0;34m.\u001b[0m\u001b[0m_reader\u001b[0m\u001b[0;34m.\u001b[0m\u001b[0munnamed_cols\u001b[0m\u001b[0;34m\u001b[0m\u001b[0;34m\u001b[0m\u001b[0m\n\u001b[1;32m   1919\u001b[0m \u001b[0;34m\u001b[0m\u001b[0m\n",
      "\u001b[0;32mpandas/_libs/parsers.pyx\u001b[0m in \u001b[0;36mpandas._libs.parsers.TextReader.__cinit__\u001b[0;34m()\u001b[0m\n",
      "\u001b[0;32mpandas/_libs/parsers.pyx\u001b[0m in \u001b[0;36mpandas._libs.parsers.TextReader._setup_parser_source\u001b[0;34m()\u001b[0m\n",
      "\u001b[0;31mFileNotFoundError\u001b[0m: [Errno 2] File b'../data/clean_final.csv' does not exist: b'../data/clean_final.csv'"
     ]
    }
   ],
   "source": [
    "df = pd.read_csv('../data/clean_final.csv')"
   ]
  },
  {
   "cell_type": "code",
   "execution_count": 3,
   "metadata": {
    "ExecuteTime": {
     "end_time": "2020-03-11T01:47:56.386068Z",
     "start_time": "2020-03-11T01:47:56.380575Z"
    }
   },
   "outputs": [
    {
     "data": {
      "text/plain": [
       "'/Users/squirrelkisses/Desktop/general-assembly/projects/Stackoverflow-NLP/code'"
      ]
     },
     "execution_count": 3,
     "metadata": {},
     "output_type": "execute_result"
    }
   ],
   "source": [
    "pwd"
   ]
  },
  {
   "cell_type": "code",
   "execution_count": null,
   "metadata": {},
   "outputs": [],
   "source": []
  }
 ],
 "metadata": {
  "kernelspec": {
   "display_name": "Python 3",
   "language": "python",
   "name": "python3"
  },
  "language_info": {
   "codemirror_mode": {
    "name": "ipython",
    "version": 3
   },
   "file_extension": ".py",
   "mimetype": "text/x-python",
   "name": "python",
   "nbconvert_exporter": "python",
   "pygments_lexer": "ipython3",
   "version": "3.7.1"
  },
  "toc": {
   "base_numbering": 1,
   "nav_menu": {},
   "number_sections": true,
   "sideBar": true,
   "skip_h1_title": false,
   "title_cell": "Table of Contents",
   "title_sidebar": "Contents",
   "toc_cell": false,
   "toc_position": {
    "height": "calc(100% - 180px)",
    "left": "10px",
    "top": "150px",
    "width": "192.798px"
   },
   "toc_section_display": true,
   "toc_window_display": false
  },
  "varInspector": {
   "cols": {
    "lenName": 16,
    "lenType": 16,
    "lenVar": 40
   },
   "kernels_config": {
    "python": {
     "delete_cmd_postfix": "",
     "delete_cmd_prefix": "del ",
     "library": "var_list.py",
     "varRefreshCmd": "print(var_dic_list())"
    },
    "r": {
     "delete_cmd_postfix": ") ",
     "delete_cmd_prefix": "rm(",
     "library": "var_list.r",
     "varRefreshCmd": "cat(var_dic_list()) "
    }
   },
   "types_to_exclude": [
    "module",
    "function",
    "builtin_function_or_method",
    "instance",
    "_Feature"
   ],
   "window_display": false
  }
 },
 "nbformat": 4,
 "nbformat_minor": 2
}
