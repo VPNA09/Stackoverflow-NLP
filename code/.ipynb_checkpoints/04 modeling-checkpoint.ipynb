{
 "cells": [
  {
   "cell_type": "markdown",
   "metadata": {},
   "source": [
    "# Imports"
   ]
  },
  {
   "cell_type": "code",
   "execution_count": 1,
   "metadata": {
    "ExecuteTime": {
     "end_time": "2020-03-16T16:20:44.778975Z",
     "start_time": "2020-03-16T16:20:43.991458Z"
    }
   },
   "outputs": [],
   "source": [
    "import pandas as pd\n",
    "import numpy as np \n",
    "\n",
    "from sklearn.model_selection import train_test_split, GridSearchCV, cross_val_score\n",
    "from sklearn.pipeline import Pipeline\n",
    "\n",
    "from sklearn.linear_model import LogisticRegression\n",
    "from sklearn.tree import DecisionTreeClassifier\n",
    "from sklearn.ensemble import RandomForestClassifier, ExtraTreesClassifier\n",
    "from sklearn.feature_extraction.text import CountVectorizer, TfidfVectorizer\n",
    "\n",
    "\n",
    "# Which stop words do I want to use? -- for this project will use native sklearns \n",
    "from sklearn.feature_extraction import stop_words\n",
    "\n",
    "# import nltk\n",
    "# from nltk.corpus import stopwords\n",
    "\n",
    "np.random.seed(42)"
   ]
  },
  {
   "cell_type": "code",
   "execution_count": 2,
   "metadata": {
    "ExecuteTime": {
     "end_time": "2020-03-16T16:20:57.961922Z",
     "start_time": "2020-03-16T16:20:46.525142Z"
    },
    "scrolled": true
   },
   "outputs": [
    {
     "data": {
      "text/html": [
       "<div>\n",
       "<style scoped>\n",
       "    .dataframe tbody tr th:only-of-type {\n",
       "        vertical-align: middle;\n",
       "    }\n",
       "\n",
       "    .dataframe tbody tr th {\n",
       "        vertical-align: top;\n",
       "    }\n",
       "\n",
       "    .dataframe thead th {\n",
       "        text-align: right;\n",
       "    }\n",
       "</style>\n",
       "<table border=\"1\" class=\"dataframe\">\n",
       "  <thead>\n",
       "    <tr style=\"text-align: right;\">\n",
       "      <th></th>\n",
       "      <th>Id</th>\n",
       "      <th>CreationDate</th>\n",
       "      <th>Title</th>\n",
       "      <th>Body</th>\n",
       "      <th>Tags</th>\n",
       "      <th>ViewCount</th>\n",
       "      <th>AnswerCount</th>\n",
       "      <th>CommentCount</th>\n",
       "      <th>target_tags</th>\n",
       "      <th>overlap_tags</th>\n",
       "      <th>target_class</th>\n",
       "      <th>body_clean</th>\n",
       "    </tr>\n",
       "  </thead>\n",
       "  <tbody>\n",
       "    <tr>\n",
       "      <th>0</th>\n",
       "      <td>53992219</td>\n",
       "      <td>2019-01-01 00:01:55</td>\n",
       "      <td>How to programmatically change style sheet of ...</td>\n",
       "      <td>&lt;p&gt;I have so many buttons on a dialog and I wa...</td>\n",
       "      <td>['c++', 'qt', 'qt5', 'qtstylesheets', 'qpushbu...</td>\n",
       "      <td>775</td>\n",
       "      <td>2</td>\n",
       "      <td>2</td>\n",
       "      <td>{'c++'}</td>\n",
       "      <td>c++</td>\n",
       "      <td>4</td>\n",
       "      <td>i have so many buttons on a dialog and i want ...</td>\n",
       "    </tr>\n",
       "    <tr>\n",
       "      <th>1</th>\n",
       "      <td>53992223</td>\n",
       "      <td>2019-01-01 00:02:37</td>\n",
       "      <td>Unable to print a class list attribute using i...</td>\n",
       "      <td>&lt;p&gt;I am designing a deck class that has &lt;stron...</td>\n",
       "      <td>['python', 'python-3.x', 'list', 'class', 'pri...</td>\n",
       "      <td>40</td>\n",
       "      <td>2</td>\n",
       "      <td>0</td>\n",
       "      <td>{'python', 'python-3.x'}</td>\n",
       "      <td>python python-3.x</td>\n",
       "      <td>5</td>\n",
       "      <td>i am designing a deck class that has init meth...</td>\n",
       "    </tr>\n",
       "    <tr>\n",
       "      <th>2</th>\n",
       "      <td>53992234</td>\n",
       "      <td>2019-01-01 00:05:48</td>\n",
       "      <td>How to rearrange subplots so that one is under...</td>\n",
       "      <td>&lt;p&gt;I am trying to code two plots such that one...</td>\n",
       "      <td>['python', 'matplotlib', 'subplot']</td>\n",
       "      <td>519</td>\n",
       "      <td>1</td>\n",
       "      <td>1</td>\n",
       "      <td>{'python'}</td>\n",
       "      <td>python</td>\n",
       "      <td>5</td>\n",
       "      <td>i am trying to code two plots such that one pl...</td>\n",
       "    </tr>\n",
       "    <tr>\n",
       "      <th>3</th>\n",
       "      <td>53992248</td>\n",
       "      <td>2019-01-01 00:09:24</td>\n",
       "      <td>Function always returns 1</td>\n",
       "      <td>&lt;p&gt;I´m trying to write a simple branch predict...</td>\n",
       "      <td>['c++', 'function']</td>\n",
       "      <td>150</td>\n",
       "      <td>1</td>\n",
       "      <td>21</td>\n",
       "      <td>{'c++'}</td>\n",
       "      <td>c++</td>\n",
       "      <td>4</td>\n",
       "      <td>i m trying to write a simple branch predictor ...</td>\n",
       "    </tr>\n",
       "    <tr>\n",
       "      <th>4</th>\n",
       "      <td>53992252</td>\n",
       "      <td>2019-01-01 00:11:20</td>\n",
       "      <td>possible to speed up this query?</td>\n",
       "      <td>&lt;p&gt;I have the following query which takes a li...</td>\n",
       "      <td>['sql', 'postgresql']</td>\n",
       "      <td>40</td>\n",
       "      <td>1</td>\n",
       "      <td>0</td>\n",
       "      <td>{'sql'}</td>\n",
       "      <td>sql</td>\n",
       "      <td>0</td>\n",
       "      <td>i have the following query which takes a littl...</td>\n",
       "    </tr>\n",
       "  </tbody>\n",
       "</table>\n",
       "</div>"
      ],
      "text/plain": [
       "         Id         CreationDate  \\\n",
       "0  53992219  2019-01-01 00:01:55   \n",
       "1  53992223  2019-01-01 00:02:37   \n",
       "2  53992234  2019-01-01 00:05:48   \n",
       "3  53992248  2019-01-01 00:09:24   \n",
       "4  53992252  2019-01-01 00:11:20   \n",
       "\n",
       "                                               Title  \\\n",
       "0  How to programmatically change style sheet of ...   \n",
       "1  Unable to print a class list attribute using i...   \n",
       "2  How to rearrange subplots so that one is under...   \n",
       "3                          Function always returns 1   \n",
       "4                   possible to speed up this query?   \n",
       "\n",
       "                                                Body  \\\n",
       "0  <p>I have so many buttons on a dialog and I wa...   \n",
       "1  <p>I am designing a deck class that has <stron...   \n",
       "2  <p>I am trying to code two plots such that one...   \n",
       "3  <p>I´m trying to write a simple branch predict...   \n",
       "4  <p>I have the following query which takes a li...   \n",
       "\n",
       "                                                Tags  ViewCount  AnswerCount  \\\n",
       "0  ['c++', 'qt', 'qt5', 'qtstylesheets', 'qpushbu...        775            2   \n",
       "1  ['python', 'python-3.x', 'list', 'class', 'pri...         40            2   \n",
       "2                ['python', 'matplotlib', 'subplot']        519            1   \n",
       "3                                ['c++', 'function']        150            1   \n",
       "4                              ['sql', 'postgresql']         40            1   \n",
       "\n",
       "   CommentCount               target_tags       overlap_tags  target_class  \\\n",
       "0             2                   {'c++'}                c++             4   \n",
       "1             0  {'python', 'python-3.x'}  python python-3.x             5   \n",
       "2             1                {'python'}             python             5   \n",
       "3            21                   {'c++'}                c++             4   \n",
       "4             0                   {'sql'}                sql             0   \n",
       "\n",
       "                                          body_clean  \n",
       "0  i have so many buttons on a dialog and i want ...  \n",
       "1  i am designing a deck class that has init meth...  \n",
       "2  i am trying to code two plots such that one pl...  \n",
       "3  i m trying to write a simple branch predictor ...  \n",
       "4  i have the following query which takes a littl...  "
      ]
     },
     "execution_count": 2,
     "metadata": {},
     "output_type": "execute_result"
    }
   ],
   "source": [
    "df = pd.read_csv('../data/clean_final.csv')\n",
    "df.head()"
   ]
  },
  {
   "cell_type": "code",
   "execution_count": 3,
   "metadata": {
    "ExecuteTime": {
     "end_time": "2020-03-16T16:21:23.491473Z",
     "start_time": "2020-03-16T16:21:23.266472Z"
    }
   },
   "outputs": [
    {
     "data": {
      "text/plain": [
       "Id              0\n",
       "CreationDate    0\n",
       "Title           0\n",
       "Body            0\n",
       "Tags            0\n",
       "ViewCount       0\n",
       "AnswerCount     0\n",
       "CommentCount    0\n",
       "target_tags     0\n",
       "overlap_tags    0\n",
       "target_class    0\n",
       "body_clean      1\n",
       "dtype: int64"
      ]
     },
     "execution_count": 3,
     "metadata": {},
     "output_type": "execute_result"
    }
   ],
   "source": [
    "df.isnull().sum()"
   ]
  },
  {
   "cell_type": "code",
   "execution_count": 4,
   "metadata": {
    "ExecuteTime": {
     "end_time": "2020-03-16T16:21:24.927950Z",
     "start_time": "2020-03-16T16:21:24.857561Z"
    }
   },
   "outputs": [
    {
     "data": {
      "text/html": [
       "<div>\n",
       "<style scoped>\n",
       "    .dataframe tbody tr th:only-of-type {\n",
       "        vertical-align: middle;\n",
       "    }\n",
       "\n",
       "    .dataframe tbody tr th {\n",
       "        vertical-align: top;\n",
       "    }\n",
       "\n",
       "    .dataframe thead th {\n",
       "        text-align: right;\n",
       "    }\n",
       "</style>\n",
       "<table border=\"1\" class=\"dataframe\">\n",
       "  <thead>\n",
       "    <tr style=\"text-align: right;\">\n",
       "      <th></th>\n",
       "      <th>Id</th>\n",
       "      <th>CreationDate</th>\n",
       "      <th>Title</th>\n",
       "      <th>Body</th>\n",
       "      <th>Tags</th>\n",
       "      <th>ViewCount</th>\n",
       "      <th>AnswerCount</th>\n",
       "      <th>CommentCount</th>\n",
       "      <th>target_tags</th>\n",
       "      <th>overlap_tags</th>\n",
       "      <th>target_class</th>\n",
       "      <th>body_clean</th>\n",
       "    </tr>\n",
       "  </thead>\n",
       "  <tbody>\n",
       "    <tr>\n",
       "      <th>91170</th>\n",
       "      <td>55234780</td>\n",
       "      <td>2019-03-19 06:21:07</td>\n",
       "      <td>1st data is officeIn and 2nd data is OfficeOut...</td>\n",
       "      <td>&lt;p&gt;&lt;a href=\"https://i.stack.imgur.com/P3SNS.pn...</td>\n",
       "      <td>['mysql', 'sql']</td>\n",
       "      <td>26</td>\n",
       "      <td>1</td>\n",
       "      <td>0</td>\n",
       "      <td>{'mysql', 'sql'}</td>\n",
       "      <td>mysql sql</td>\n",
       "      <td>0</td>\n",
       "      <td>NaN</td>\n",
       "    </tr>\n",
       "  </tbody>\n",
       "</table>\n",
       "</div>"
      ],
      "text/plain": [
       "             Id         CreationDate  \\\n",
       "91170  55234780  2019-03-19 06:21:07   \n",
       "\n",
       "                                                   Title  \\\n",
       "91170  1st data is officeIn and 2nd data is OfficeOut...   \n",
       "\n",
       "                                                    Body              Tags  \\\n",
       "91170  <p><a href=\"https://i.stack.imgur.com/P3SNS.pn...  ['mysql', 'sql']   \n",
       "\n",
       "       ViewCount  AnswerCount  CommentCount       target_tags overlap_tags  \\\n",
       "91170         26            1             0  {'mysql', 'sql'}    mysql sql   \n",
       "\n",
       "       target_class body_clean  \n",
       "91170             0        NaN  "
      ]
     },
     "execution_count": 4,
     "metadata": {},
     "output_type": "execute_result"
    }
   ],
   "source": [
    "df[df['body_clean'].isnull()]"
   ]
  },
  {
   "cell_type": "code",
   "execution_count": 5,
   "metadata": {
    "ExecuteTime": {
     "end_time": "2020-03-16T16:21:25.983777Z",
     "start_time": "2020-03-16T16:21:25.951491Z"
    }
   },
   "outputs": [
    {
     "data": {
      "text/plain": [
       "'<p><a href=\"https://i.stack.imgur.com/P3SNS.png\" rel=\"nofollow noreferrer\"><img src=\"https://i.stack.imgur.com/P3SNS.png\" alt=\"enter image description here\"></a></p>\\n\\n<pre><code>1476    5   2019-03-18 09:35:06.000\\n1487    5   2019-03-18 13:19:53.000\\n1488    5   2019-03-18 13:37:40.000\\n1495    5   2019-03-18 15:09:38.000\\n1497    5   2019-03-18 15:18:26.000\\n1503    5   2019-03-18 17:34:46.000\\n1504    5   2019-03-18 17:48:23.000\\n1511    5   2019-03-18 19:14:51.000\\n</code></pre>\\n'"
      ]
     },
     "execution_count": 5,
     "metadata": {},
     "output_type": "execute_result"
    }
   ],
   "source": [
    "df.loc[91170, 'Body']"
   ]
  },
  {
   "cell_type": "code",
   "execution_count": 6,
   "metadata": {
    "ExecuteTime": {
     "end_time": "2020-03-16T16:21:26.530337Z",
     "start_time": "2020-03-16T16:21:26.208190Z"
    }
   },
   "outputs": [],
   "source": [
    "# drop row with missing value in 'body_clean' (technically any missing values)\n",
    "df = df.dropna()"
   ]
  },
  {
   "cell_type": "code",
   "execution_count": 7,
   "metadata": {
    "ExecuteTime": {
     "end_time": "2020-03-16T16:21:27.822621Z",
     "start_time": "2020-03-16T16:21:27.594074Z"
    }
   },
   "outputs": [
    {
     "data": {
      "text/plain": [
       "Id              0\n",
       "CreationDate    0\n",
       "Title           0\n",
       "Body            0\n",
       "Tags            0\n",
       "ViewCount       0\n",
       "AnswerCount     0\n",
       "CommentCount    0\n",
       "target_tags     0\n",
       "overlap_tags    0\n",
       "target_class    0\n",
       "body_clean      0\n",
       "dtype: int64"
      ]
     },
     "execution_count": 7,
     "metadata": {},
     "output_type": "execute_result"
    }
   ],
   "source": [
    "df.isnull().sum()"
   ]
  },
  {
   "cell_type": "markdown",
   "metadata": {},
   "source": [
    "# Modeling "
   ]
  },
  {
   "cell_type": "markdown",
   "metadata": {},
   "source": [
    "## Model Prep "
   ]
  },
  {
   "cell_type": "code",
   "execution_count": 8,
   "metadata": {
    "ExecuteTime": {
     "end_time": "2020-03-16T16:21:29.691846Z",
     "start_time": "2020-03-16T16:21:29.688739Z"
    }
   },
   "outputs": [],
   "source": [
    "X = df['body_clean']\n",
    "y = df['target_class']"
   ]
  },
  {
   "cell_type": "markdown",
   "metadata": {},
   "source": [
    "Target Tags: \n",
    "- 0 =  SQL\n",
    "- 1 = Scala\n",
    "- 2 = R\n",
    "- 3 = Julia\n",
    "- 4 = C++\n",
    "- 5 = Python"
   ]
  },
  {
   "cell_type": "markdown",
   "metadata": {},
   "source": [
    "### Basline Accuracies "
   ]
  },
  {
   "cell_type": "code",
   "execution_count": 9,
   "metadata": {
    "ExecuteTime": {
     "end_time": "2020-03-16T16:21:33.490108Z",
     "start_time": "2020-03-16T16:21:33.401277Z"
    }
   },
   "outputs": [
    {
     "data": {
      "text/plain": [
       "5    0.552299\n",
       "0    0.211042\n",
       "2    0.110994\n",
       "4    0.103900\n",
       "1    0.019045\n",
       "3    0.002720\n",
       "Name: target_class, dtype: float64"
      ]
     },
     "execution_count": 9,
     "metadata": {},
     "output_type": "execute_result"
    }
   ],
   "source": [
    "y.value_counts(normalize = True)"
   ]
  },
  {
   "cell_type": "code",
   "execution_count": 10,
   "metadata": {
    "ExecuteTime": {
     "end_time": "2020-03-16T16:21:36.391396Z",
     "start_time": "2020-03-16T16:21:36.137071Z"
    }
   },
   "outputs": [],
   "source": [
    "X_train,X_test, y_train, y_test = train_test_split(X,\n",
    "                                                   y,\n",
    "                                                   test_size = 0.25,\n",
    "                                                   stratify = y,\n",
    "                                                   random_state = 42)"
   ]
  },
  {
   "cell_type": "markdown",
   "metadata": {},
   "source": [
    "### CountVectorizer + Logistic Regression: \n",
    "#### Create Pipeline and Gridsearch"
   ]
  },
  {
   "cell_type": "code",
   "execution_count": 11,
   "metadata": {
    "ExecuteTime": {
     "end_time": "2020-03-16T16:21:39.708599Z",
     "start_time": "2020-03-16T16:21:39.704689Z"
    }
   },
   "outputs": [],
   "source": [
    "# CountVectorizer Pipeline:\n",
    "# 1. CountVectorizer Instance (transformer)\n",
    "# 2. LogisticRegression Instance (estimator)\n",
    "\n",
    "max_iterations = 2_000\n",
    "\n",
    "pipe_cvec = Pipeline([\n",
    "    ('cvec',CountVectorizer()),        \n",
    "    ('lr',LogisticRegression(max_iter = max_iterations,           # To help mitigate convergence warnings\n",
    "                             solver = 'lbfgs',                    # turns off future warnings \n",
    "                             multi_class = 'multinomial'))        # mitigates future warnings  \n",
    "])"
   ]
  },
  {
   "cell_type": "code",
   "execution_count": 12,
   "metadata": {
    "ExecuteTime": {
     "end_time": "2020-03-16T16:21:45.297545Z",
     "start_time": "2020-03-16T16:21:45.293906Z"
    }
   },
   "outputs": [],
   "source": [
    "# param grid \n",
    "\n",
    "pipe_cvec_params = {\n",
    "    'cvec__max_features': [400,600],           # was initially [100, 500]  --> increased [400,600]\n",
    "    'cvec__ngram_range': [(1,2)],              # got rid of (1,1) -- only using (1,2) for now \n",
    "    'cvec__stop_words' : ['english']           # can consider adding to stop words dictionary \n",
    "    # can decide if I want to use these hyperparameters 'max_df=1.0' and 'min_df=1' for CVEC params \n",
    "    \n",
    "}"
   ]
  },
  {
   "cell_type": "code",
   "execution_count": 13,
   "metadata": {
    "ExecuteTime": {
     "end_time": "2020-03-16T16:21:53.369620Z",
     "start_time": "2020-03-16T16:21:53.366488Z"
    }
   },
   "outputs": [],
   "source": [
    "# Instantiate CountVectorizer GridSearchCV\n",
    "gs_cvec = GridSearchCV(pipe_cvec,\n",
    "                       param_grid = pipe_cvec_params,\n",
    "                       cv = 3)"
   ]
  },
  {
   "cell_type": "code",
   "execution_count": 14,
   "metadata": {
    "ExecuteTime": {
     "end_time": "2020-03-16T17:08:22.089861Z",
     "start_time": "2020-03-16T16:21:56.949267Z"
    }
   },
   "outputs": [
    {
     "data": {
      "text/plain": [
       "GridSearchCV(cv=3, error_score='raise-deprecating',\n",
       "       estimator=Pipeline(memory=None,\n",
       "     steps=[('cvec', CountVectorizer(analyzer='word', binary=False, decode_error='strict',\n",
       "        dtype=<class 'numpy.int64'>, encoding='utf-8', input='content',\n",
       "        lowercase=True, max_df=1.0, max_features=None, min_df=1,\n",
       "        ngram_range=(1, 1), preprocessor=None, stop_words=None,\n",
       "        strip...enalty='l2', random_state=None, solver='lbfgs',\n",
       "          tol=0.0001, verbose=0, warm_start=False))]),\n",
       "       fit_params=None, iid='warn', n_jobs=None,\n",
       "       param_grid={'cvec__max_features': [400, 600], 'cvec__ngram_range': [(1, 2)], 'cvec__stop_words': ['english']},\n",
       "       pre_dispatch='2*n_jobs', refit=True, return_train_score='warn',\n",
       "       scoring=None, verbose=0)"
      ]
     },
     "execution_count": 14,
     "metadata": {},
     "output_type": "execute_result"
    }
   ],
   "source": [
    "# Fit GridSearch(CVEC) to training data.\n",
    "gs_cvec.fit(X_train,y_train)"
   ]
  },
  {
   "cell_type": "code",
   "execution_count": 15,
   "metadata": {
    "ExecuteTime": {
     "end_time": "2020-03-16T17:08:43.442278Z",
     "start_time": "2020-03-16T17:08:43.438649Z"
    }
   },
   "outputs": [
    {
     "data": {
      "text/plain": [
       "{'cvec__max_features': 600,\n",
       " 'cvec__ngram_range': (1, 2),\n",
       " 'cvec__stop_words': 'english'}"
      ]
     },
     "execution_count": 15,
     "metadata": {},
     "output_type": "execute_result"
    }
   ],
   "source": [
    "gs_cvec.best_params_"
   ]
  },
  {
   "cell_type": "code",
   "execution_count": 16,
   "metadata": {
    "ExecuteTime": {
     "end_time": "2020-03-16T17:08:46.669321Z",
     "start_time": "2020-03-16T17:08:46.666886Z"
    }
   },
   "outputs": [],
   "source": [
    "# save best model \n",
    "gs_cvec_model = gs_cvec.best_estimator_"
   ]
  },
  {
   "cell_type": "code",
   "execution_count": 17,
   "metadata": {
    "ExecuteTime": {
     "end_time": "2020-03-16T17:10:08.248408Z",
     "start_time": "2020-03-16T17:08:49.324032Z"
    }
   },
   "outputs": [
    {
     "data": {
      "text/plain": [
       "0.8996387511109837"
      ]
     },
     "execution_count": 17,
     "metadata": {},
     "output_type": "execute_result"
    }
   ],
   "source": [
    "# CountVectorize Accuracy on training \n",
    "gs_cvec_model.score(X_train,y_train)"
   ]
  },
  {
   "cell_type": "code",
   "execution_count": 18,
   "metadata": {
    "ExecuteTime": {
     "end_time": "2020-03-16T17:12:16.492013Z",
     "start_time": "2020-03-16T17:11:49.680954Z"
    }
   },
   "outputs": [
    {
     "data": {
      "text/plain": [
       "0.8967608202022982"
      ]
     },
     "execution_count": 18,
     "metadata": {},
     "output_type": "execute_result"
    }
   ],
   "source": [
    "# CountVectorize Accuracy on testing\n",
    "gs_cvec_model.score(X_test,y_test)"
   ]
  },
  {
   "cell_type": "code",
   "execution_count": 19,
   "metadata": {
    "ExecuteTime": {
     "end_time": "2020-03-16T17:14:37.739903Z",
     "start_time": "2020-03-16T17:14:37.736192Z"
    }
   },
   "outputs": [
    {
     "data": {
      "text/plain": [
       "0.0028779309086854887"
      ]
     },
     "execution_count": 19,
     "metadata": {},
     "output_type": "execute_result"
    }
   ],
   "source": [
    "# Training - Testing \n",
    "0.8996387511109837- 0.8967608202022982"
   ]
  },
  {
   "cell_type": "markdown",
   "metadata": {},
   "source": [
    "### TFIDFVectorizer + Logistic Regression: \n",
    "#### Create Pipeline and Gridsearch"
   ]
  },
  {
   "cell_type": "code",
   "execution_count": 20,
   "metadata": {
    "ExecuteTime": {
     "end_time": "2020-03-16T17:14:48.632280Z",
     "start_time": "2020-03-16T17:14:48.628583Z"
    }
   },
   "outputs": [],
   "source": [
    "# TFIDF Vectorizer Pipeline:\n",
    "# 1. TFIDF Instance (transformer)\n",
    "# 2. LogisticRegression Instance (estimator)\n",
    "\n",
    "max_iterations = 2_000\n",
    "\n",
    "pipe_tvec = Pipeline([\n",
    "    ('tvec',TfidfVectorizer()),        \n",
    "    ('lr',LogisticRegression(max_iter = max_iterations,           # To help mitigate convergence warnings\n",
    "                             solver = 'lbfgs',                    # turns off future warnings \n",
    "                             multi_class = 'multinomial'))        # mitigates future warnings  \n",
    "])"
   ]
  },
  {
   "cell_type": "code",
   "execution_count": 21,
   "metadata": {
    "ExecuteTime": {
     "end_time": "2020-03-16T17:14:53.951576Z",
     "start_time": "2020-03-16T17:14:53.948498Z"
    }
   },
   "outputs": [],
   "source": [
    "# max_features = [800,1000] --> decreased accuracy \n",
    "# TFIDF param grid \n",
    "\n",
    "pipe_tvec_params = {\n",
    "    'tvec__max_features': [600, 800],          # was initially [100, 500]  --> increased [400,600] --> [600,800]--> [800,1000] \n",
    "    'tvec__ngram_range': [(1,2)],              # got rid of (1,1) -- only using (1,2) for now \n",
    "    'tvec__stop_words' : ['english']           # can consider adding to stop words dictionary \n",
    "}"
   ]
  },
  {
   "cell_type": "code",
   "execution_count": 22,
   "metadata": {
    "ExecuteTime": {
     "end_time": "2020-03-16T17:15:45.941419Z",
     "start_time": "2020-03-16T17:15:45.938776Z"
    }
   },
   "outputs": [],
   "source": [
    "# Instantiate TFIDF GridSearchCV\n",
    "gs_tvec = GridSearchCV(pipe_tvec,\n",
    "                       param_grid = pipe_tvec_params,\n",
    "                       cv = 3)"
   ]
  },
  {
   "cell_type": "code",
   "execution_count": 23,
   "metadata": {
    "ExecuteTime": {
     "end_time": "2020-03-16T17:43:50.845771Z",
     "start_time": "2020-03-16T17:15:51.921818Z"
    }
   },
   "outputs": [
    {
     "data": {
      "text/plain": [
       "GridSearchCV(cv=3, error_score='raise-deprecating',\n",
       "       estimator=Pipeline(memory=None,\n",
       "     steps=[('tvec', TfidfVectorizer(analyzer='word', binary=False, decode_error='strict',\n",
       "        dtype=<class 'numpy.float64'>, encoding='utf-8', input='content',\n",
       "        lowercase=True, max_df=1.0, max_features=None, min_df=1,\n",
       "        ngram_range=(1, 1), norm='l2', preprocessor=None, smooth_idf=True,\n",
       "...enalty='l2', random_state=None, solver='lbfgs',\n",
       "          tol=0.0001, verbose=0, warm_start=False))]),\n",
       "       fit_params=None, iid='warn', n_jobs=None,\n",
       "       param_grid={'tvec__max_features': [600, 800], 'tvec__ngram_range': [(1, 2)], 'tvec__stop_words': ['english']},\n",
       "       pre_dispatch='2*n_jobs', refit=True, return_train_score='warn',\n",
       "       scoring=None, verbose=0)"
      ]
     },
     "execution_count": 23,
     "metadata": {},
     "output_type": "execute_result"
    }
   ],
   "source": [
    "# Fit GridSearch(TVEC) to training data.\n",
    "gs_tvec.fit(X_train,y_train)"
   ]
  },
  {
   "cell_type": "code",
   "execution_count": 24,
   "metadata": {
    "ExecuteTime": {
     "end_time": "2020-03-16T17:48:04.955509Z",
     "start_time": "2020-03-16T17:48:04.951416Z"
    }
   },
   "outputs": [
    {
     "data": {
      "text/plain": [
       "{'tvec__max_features': 800,\n",
       " 'tvec__ngram_range': (1, 2),\n",
       " 'tvec__stop_words': 'english'}"
      ]
     },
     "execution_count": 24,
     "metadata": {},
     "output_type": "execute_result"
    }
   ],
   "source": [
    "gs_tvec.best_params_"
   ]
  },
  {
   "cell_type": "code",
   "execution_count": 25,
   "metadata": {
    "ExecuteTime": {
     "end_time": "2020-03-16T17:48:23.914494Z",
     "start_time": "2020-03-16T17:48:23.911844Z"
    }
   },
   "outputs": [],
   "source": [
    "# save best model \n",
    "gs_tvec_model = gs_tvec.best_estimator_"
   ]
  },
  {
   "cell_type": "code",
   "execution_count": 26,
   "metadata": {
    "ExecuteTime": {
     "end_time": "2020-03-16T17:49:47.618327Z",
     "start_time": "2020-03-16T17:48:27.598823Z"
    }
   },
   "outputs": [
    {
     "data": {
      "text/plain": [
       "0.9142865334441928"
      ]
     },
     "execution_count": 26,
     "metadata": {},
     "output_type": "execute_result"
    }
   ],
   "source": [
    "# TFIDF Accuracy on training \n",
    "gs_tvec_model.score(X_train,y_train)"
   ]
  },
  {
   "cell_type": "code",
   "execution_count": 27,
   "metadata": {
    "ExecuteTime": {
     "end_time": "2020-03-16T17:55:52.911264Z",
     "start_time": "2020-03-16T17:55:28.162592Z"
    }
   },
   "outputs": [
    {
     "data": {
      "text/plain": [
       "0.9124750567673571"
      ]
     },
     "execution_count": 27,
     "metadata": {},
     "output_type": "execute_result"
    }
   ],
   "source": [
    "# TFIDF Accuracy on testing\n",
    "gs_tvec_model.score(X_test,y_test)"
   ]
  },
  {
   "cell_type": "code",
   "execution_count": 28,
   "metadata": {
    "ExecuteTime": {
     "end_time": "2020-03-16T17:55:54.562436Z",
     "start_time": "2020-03-16T17:55:54.558619Z"
    }
   },
   "outputs": [
    {
     "data": {
      "text/plain": [
       "0.0018114766768356771"
      ]
     },
     "execution_count": 28,
     "metadata": {},
     "output_type": "execute_result"
    }
   ],
   "source": [
    "0.9142865334441928 - 0.9124750567673571"
   ]
  },
  {
   "cell_type": "markdown",
   "metadata": {},
   "source": [
    "#### Results -- Best\n",
    "- Best model: \n",
    "    - Highest accuracy\n",
    "    - Not overfit "
   ]
  },
  {
   "cell_type": "markdown",
   "metadata": {},
   "source": [
    "### TFIDFVectorizer + Decision Trees: \n",
    "- Can look into better hyperparameters\n",
    "#### Create Pipeline and Gridsearch"
   ]
  },
  {
   "cell_type": "code",
   "execution_count": 29,
   "metadata": {
    "ExecuteTime": {
     "end_time": "2020-03-16T17:56:21.963258Z",
     "start_time": "2020-03-16T17:56:21.959761Z"
    }
   },
   "outputs": [],
   "source": [
    "# TFIDF Vectorizer Pipeline:\n",
    "# 1. TFIDF Instance (transformer)\n",
    "# 2. Decision Tree Classifer (estimator)\n",
    "\n",
    "rt_pipe_tvec = Pipeline([\n",
    "                    ('tvec', TfidfVectorizer()),     \n",
    "                    ('rt', DecisionTreeClassifier(random_state = 42))\n",
    "                                 \n",
    "])"
   ]
  },
  {
   "cell_type": "code",
   "execution_count": 30,
   "metadata": {
    "ExecuteTime": {
     "end_time": "2020-03-16T17:56:31.139042Z",
     "start_time": "2020-03-16T17:56:31.135190Z"
    }
   },
   "outputs": [],
   "source": [
    "# Setting up Decision Tree (rt) & tvec params\n",
    "rt_tvec_params = {\n",
    "    'tvec__max_features':[600],              # \n",
    "    'tvec__ngram_range': [(1, 2)],\n",
    "    'tvec__stop_words': ['english'],\n",
    "    'rt__max_depth': [5,10],                 # [3,4,5,6,7]\n",
    "    'rt__min_samples_split': [7,15],         # [7,15,30]  \n",
    "    'rt__min_samples_leaf': [3,10]           # [ 3, 4, 5,6] \n",
    " \n",
    "}"
   ]
  },
  {
   "cell_type": "code",
   "execution_count": 31,
   "metadata": {
    "ExecuteTime": {
     "end_time": "2020-03-16T17:56:34.112789Z",
     "start_time": "2020-03-16T17:56:34.109824Z"
    }
   },
   "outputs": [],
   "source": [
    "# Decision Tree and TVEC Gridsearch\n",
    "gs_rt_tvec = GridSearchCV(rt_pipe_tvec, \n",
    "                          param_grid = rt_tvec_params,\n",
    "                          cv = 3)"
   ]
  },
  {
   "cell_type": "code",
   "execution_count": 32,
   "metadata": {
    "ExecuteTime": {
     "end_time": "2020-03-16T19:18:27.392381Z",
     "start_time": "2020-03-16T17:56:38.845619Z"
    }
   },
   "outputs": [
    {
     "data": {
      "text/plain": [
       "GridSearchCV(cv=3, error_score='raise-deprecating',\n",
       "       estimator=Pipeline(memory=None,\n",
       "     steps=[('tvec', TfidfVectorizer(analyzer='word', binary=False, decode_error='strict',\n",
       "        dtype=<class 'numpy.float64'>, encoding='utf-8', input='content',\n",
       "        lowercase=True, max_df=1.0, max_features=None, min_df=1,\n",
       "        ngram_range=(1, 1), norm='l2', preprocessor=None, smooth_idf=True,\n",
       "...        min_weight_fraction_leaf=0.0, presort=False, random_state=42,\n",
       "            splitter='best'))]),\n",
       "       fit_params=None, iid='warn', n_jobs=None,\n",
       "       param_grid={'tvec__max_features': [600], 'tvec__ngram_range': [(1, 2)], 'tvec__stop_words': ['english'], 'rt__max_depth': [5, 10], 'rt__min_samples_split': [7, 15], 'rt__min_samples_leaf': [3, 10]},\n",
       "       pre_dispatch='2*n_jobs', refit=True, return_train_score='warn',\n",
       "       scoring=None, verbose=0)"
      ]
     },
     "execution_count": 32,
     "metadata": {},
     "output_type": "execute_result"
    }
   ],
   "source": [
    "gs_rt_tvec.fit(X_train,y_train)"
   ]
  },
  {
   "cell_type": "code",
   "execution_count": 33,
   "metadata": {
    "ExecuteTime": {
     "end_time": "2020-03-16T19:24:43.463900Z",
     "start_time": "2020-03-16T19:24:43.459459Z"
    }
   },
   "outputs": [
    {
     "data": {
      "text/plain": [
       "{'rt__max_depth': 10,\n",
       " 'rt__min_samples_leaf': 3,\n",
       " 'rt__min_samples_split': 15,\n",
       " 'tvec__max_features': 600,\n",
       " 'tvec__ngram_range': (1, 2),\n",
       " 'tvec__stop_words': 'english'}"
      ]
     },
     "execution_count": 33,
     "metadata": {},
     "output_type": "execute_result"
    }
   ],
   "source": [
    "gs_rt_tvec.best_params_"
   ]
  },
  {
   "cell_type": "code",
   "execution_count": 34,
   "metadata": {
    "ExecuteTime": {
     "end_time": "2020-03-16T19:24:49.731810Z",
     "start_time": "2020-03-16T19:24:49.728912Z"
    }
   },
   "outputs": [],
   "source": [
    "# save best model \n",
    "gs_rt_tvec_model = gs_rt_tvec.best_estimator_"
   ]
  },
  {
   "cell_type": "code",
   "execution_count": 35,
   "metadata": {
    "ExecuteTime": {
     "end_time": "2020-03-16T19:26:11.556006Z",
     "start_time": "2020-03-16T19:24:51.760913Z"
    }
   },
   "outputs": [
    {
     "data": {
      "text/plain": [
       "0.829909114366811"
      ]
     },
     "execution_count": 35,
     "metadata": {},
     "output_type": "execute_result"
    }
   ],
   "source": [
    "# Accuracy on training \n",
    "gs_rt_tvec_model.score(X_train,y_train)"
   ]
  },
  {
   "cell_type": "code",
   "execution_count": 36,
   "metadata": {
    "ExecuteTime": {
     "end_time": "2020-03-16T19:27:36.766660Z",
     "start_time": "2020-03-16T19:27:10.439875Z"
    }
   },
   "outputs": [
    {
     "data": {
      "text/plain": [
       "0.8246060689465354"
      ]
     },
     "execution_count": 36,
     "metadata": {},
     "output_type": "execute_result"
    }
   ],
   "source": [
    "# Accuracy on testing\n",
    "gs_rt_tvec_model.score(X_test,y_test)"
   ]
  },
  {
   "cell_type": "code",
   "execution_count": 37,
   "metadata": {
    "ExecuteTime": {
     "end_time": "2020-03-16T19:28:30.332868Z",
     "start_time": "2020-03-16T19:28:30.329249Z"
    }
   },
   "outputs": [
    {
     "data": {
      "text/plain": [
       "0.005303045420275598"
      ]
     },
     "execution_count": 37,
     "metadata": {},
     "output_type": "execute_result"
    }
   ],
   "source": [
    "0.829909114366811 - 0.8246060689465354"
   ]
  },
  {
   "cell_type": "markdown",
   "metadata": {},
   "source": [
    "#### Results\n",
    "- Not overfit, but accuracy isn't as high as the TFDIF-Logisitc Regression model"
   ]
  },
  {
   "cell_type": "markdown",
   "metadata": {},
   "source": [
    "# Future Modeling "
   ]
  },
  {
   "cell_type": "markdown",
   "metadata": {},
   "source": [
    "### TFIDFVectorizer + Random Forest: \n",
    "- Need to revisit this in the future:\n",
    "    - fitting a random forest is taking too long to fit\n",
    "        - Since I am going to revist Random Forest modeling, I will keep in my notebook for future use. \n",
    "\n",
    "#### Create Pipeline and Gridsearch"
   ]
  },
  {
   "cell_type": "code",
   "execution_count": null,
   "metadata": {
    "ExecuteTime": {
     "end_time": "2020-03-14T19:49:53.936257Z",
     "start_time": "2020-03-14T19:49:53.933031Z"
    }
   },
   "outputs": [],
   "source": [
    "# TFIDF Vectorizer Pipeline:\n",
    "# 1. TFIDF Instance (transformer)\n",
    "# 2. Random Forest Classifier Instance (estimator)\n",
    "\n",
    "rf_pipe_tvec = Pipeline([\n",
    "                    ('tvec', TfidfVectorizer()),        \n",
    "                    ('rf', RandomForestClassifier(random_state = 42))\n",
    "                                 \n",
    "])"
   ]
  },
  {
   "cell_type": "code",
   "execution_count": null,
   "metadata": {
    "ExecuteTime": {
     "end_time": "2020-03-14T00:28:51.129722Z",
     "start_time": "2020-03-14T00:28:51.125396Z"
    }
   },
   "outputs": [],
   "source": [
    "# If the above doesn't work try this way to set up params:\n",
    "# Setting up randomforest & tvec params\n",
    "rf_tvec_params = {\n",
    "    'tvec__max_features':[600],                      # vary max features [600,800,1000]\n",
    "    'tvec__ngram_range': [(1, 2)],                \n",
    "    'tvec__stop_words': ['english'],\n",
    "    'rf__n_estimators': [100], # [5,6,10,100]  \n",
    "    'rf__max_depth': [3,5],      # [3,4,5]\n",
    "    'rf__max_features': [3, 4] # [None, 3, 4]  , None = Bagging \n",
    " \n",
    "\n",
    "#  'rf__min_samples_split': [100],\n",
    "#  'rf__max_leaf_nodes': [None]\n",
    "}"
   ]
  },
  {
   "cell_type": "code",
   "execution_count": null,
   "metadata": {
    "ExecuteTime": {
     "end_time": "2020-03-14T00:28:53.056320Z",
     "start_time": "2020-03-14T00:28:53.053548Z"
    }
   },
   "outputs": [],
   "source": [
    "# # Random Forest and TVEC Gridsearch\n",
    "gs_rf_tvec = GridSearchCV(rf_pipe_tvec, \n",
    "                          param_grid = rf_tvec_params,\n",
    "                          cv = 3)"
   ]
  },
  {
   "cell_type": "code",
   "execution_count": null,
   "metadata": {
    "ExecuteTime": {
     "end_time": "2020-03-14T02:54:48.615589Z",
     "start_time": "2020-03-14T00:28:54.158201Z"
    }
   },
   "outputs": [],
   "source": [
    "# Fit GridSearch to training data.\n",
    "# TOOK OVER 3 hours, and still didn't fit...look at params, use less hyper parameters for first run\n",
    "# see if that speeds up the fitting process. \n",
    "\n",
    "gs_rf_tvec.fit(X_train,y_train)"
   ]
  },
  {
   "cell_type": "code",
   "execution_count": null,
   "metadata": {},
   "outputs": [],
   "source": [
    "gs_rf_tvec.best_params_"
   ]
  },
  {
   "cell_type": "code",
   "execution_count": null,
   "metadata": {},
   "outputs": [],
   "source": [
    "# save best model \n",
    "gs_rf_tvec_model = gs_rf_tvec.best_estimator_"
   ]
  },
  {
   "cell_type": "code",
   "execution_count": null,
   "metadata": {},
   "outputs": [],
   "source": [
    "# Accuracy on training \n",
    "gs_rf_tvec_model.score(X_train,y_train)"
   ]
  },
  {
   "cell_type": "code",
   "execution_count": null,
   "metadata": {},
   "outputs": [],
   "source": [
    "# Accuracy on testing\n",
    "gs_rf_tvec_model.score(X_test,y_test)"
   ]
  }
 ],
 "metadata": {
  "kernelspec": {
   "display_name": "Python 3",
   "language": "python",
   "name": "python3"
  },
  "language_info": {
   "codemirror_mode": {
    "name": "ipython",
    "version": 3
   },
   "file_extension": ".py",
   "mimetype": "text/x-python",
   "name": "python",
   "nbconvert_exporter": "python",
   "pygments_lexer": "ipython3",
   "version": "3.7.1"
  },
  "toc": {
   "base_numbering": 1,
   "nav_menu": {},
   "number_sections": true,
   "sideBar": true,
   "skip_h1_title": false,
   "title_cell": "Table of Contents",
   "title_sidebar": "Contents",
   "toc_cell": false,
   "toc_position": {
    "height": "calc(100% - 180px)",
    "left": "10px",
    "top": "150px",
    "width": "165px"
   },
   "toc_section_display": true,
   "toc_window_display": true
  },
  "varInspector": {
   "cols": {
    "lenName": 16,
    "lenType": 16,
    "lenVar": 40
   },
   "kernels_config": {
    "python": {
     "delete_cmd_postfix": "",
     "delete_cmd_prefix": "del ",
     "library": "var_list.py",
     "varRefreshCmd": "print(var_dic_list())"
    },
    "r": {
     "delete_cmd_postfix": ") ",
     "delete_cmd_prefix": "rm(",
     "library": "var_list.r",
     "varRefreshCmd": "cat(var_dic_list()) "
    }
   },
   "types_to_exclude": [
    "module",
    "function",
    "builtin_function_or_method",
    "instance",
    "_Feature"
   ],
   "window_display": false
  }
 },
 "nbformat": 4,
 "nbformat_minor": 2
}
