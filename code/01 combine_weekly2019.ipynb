{
 "cells": [
  {
   "cell_type": "code",
   "execution_count": 1,
   "metadata": {
    "ExecuteTime": {
     "end_time": "2020-03-11T16:26:16.843669Z",
     "start_time": "2020-03-11T16:26:16.550232Z"
    }
   },
   "outputs": [],
   "source": [
    "# Imports \n",
    "import pandas as pd"
   ]
  },
  {
   "cell_type": "markdown",
   "metadata": {
    "ExecuteTime": {
     "end_time": "2020-03-10T01:09:55.858511Z",
     "start_time": "2020-03-10T01:09:55.518424Z"
    }
   },
   "source": [
    "Query used to get weekly data from [Stackoverflow Query](https://data.stackexchange.com/stackoverflow/query/edit/1205218)\n",
    "\n",
    "```SQL\n",
    "SELECT Id, CreationDate, Title, Body, Tags, ViewCount, AnswerCount, CommentCount\n",
    "FROM Posts\n",
    "WHERE (CreationDate BETWEEN '2019-01-14' AND '2019-01-20') AND Tags IS NOT NULL\n",
    "ORDER BY CreationDate ASC\n",
    "```"
   ]
  },
  {
   "cell_type": "markdown",
   "metadata": {},
   "source": [
    "# Notebook Overview: \n",
    "- Combine weekly .csv's into a combined .csv for the year of 2019 \n",
    "- The following are links to the zipped versions of the weekly .csv files:\n",
    "    - [Weeks 1 - 20](https://drive.google.com/open?id=1uttbh17hfhnfMLqnajbw3yX7LC27yQFY)\n",
    "    - [Weeks 21-40](https://drive.google.com/open?id=1Isrpl4XX-Sv3CDmI2eNI26fX8Hu98mt4)\n",
    "    - [Weeks 41-52](https://drive.google.com/open?id=15FEnPmx_LaP9_xpxB3zz6BMqFDgTbVc6)\n",
    "- [Combined 2019 data (zipped):](https://drive.google.com/open?id=1ZQHpysA5m8aL3bbMEiUJLdHmVDhZmaBq)\n",
    " "
   ]
  },
  {
   "cell_type": "markdown",
   "metadata": {},
   "source": [
    "## Function"
   ]
  },
  {
   "cell_type": "code",
   "execution_count": 4,
   "metadata": {
    "ExecuteTime": {
     "end_time": "2020-03-11T16:32:13.968118Z",
     "start_time": "2020-03-11T16:32:13.964048Z"
    }
   },
   "outputs": [],
   "source": [
    "def combine_weekly(n_weeks = 52):\n",
    "    '''\n",
    "    Function to combine weekly .csv files into \n",
    "    one combined .csv file\n",
    "    \n",
    "    Note: For the function to work you will need to download the  \n",
    "    individual .csv files (linked above) and follow the listed \n",
    "    file path: \n",
    "    '../data/individual_weekly/[week#.csv]'\n",
    "    \n",
    "    '''\n",
    "    start = 1 \n",
    "    weekly_list = []\n",
    "    \n",
    "    for i in range(start, n_weeks + 1):\n",
    "        week_i = pd.read_csv(f'../data/individual_weekly/week{i}.csv')\n",
    "        weekly_list.append(week_i)\n",
    "    \n",
    "    combined_csv = pd.concat(weekly_list)\n",
    "    return combined_csv  "
   ]
  },
  {
   "cell_type": "code",
   "execution_count": 5,
   "metadata": {
    "ExecuteTime": {
     "end_time": "2020-03-11T16:32:49.230440Z",
     "start_time": "2020-03-11T16:32:16.236274Z"
    }
   },
   "outputs": [],
   "source": [
    "combined_csv = combine_weekly(n_weeks = 52)"
   ]
  },
  {
   "cell_type": "code",
   "execution_count": 6,
   "metadata": {
    "ExecuteTime": {
     "end_time": "2020-03-11T16:33:06.296637Z",
     "start_time": "2020-03-11T16:33:06.278417Z"
    }
   },
   "outputs": [
    {
     "data": {
      "text/html": [
       "<div>\n",
       "<style scoped>\n",
       "    .dataframe tbody tr th:only-of-type {\n",
       "        vertical-align: middle;\n",
       "    }\n",
       "\n",
       "    .dataframe tbody tr th {\n",
       "        vertical-align: top;\n",
       "    }\n",
       "\n",
       "    .dataframe thead th {\n",
       "        text-align: right;\n",
       "    }\n",
       "</style>\n",
       "<table border=\"1\" class=\"dataframe\">\n",
       "  <thead>\n",
       "    <tr style=\"text-align: right;\">\n",
       "      <th></th>\n",
       "      <th>Id</th>\n",
       "      <th>CreationDate</th>\n",
       "      <th>Title</th>\n",
       "      <th>Body</th>\n",
       "      <th>Tags</th>\n",
       "      <th>ViewCount</th>\n",
       "      <th>AnswerCount</th>\n",
       "      <th>CommentCount</th>\n",
       "    </tr>\n",
       "  </thead>\n",
       "  <tbody>\n",
       "    <tr>\n",
       "      <th>0</th>\n",
       "      <td>53992215</td>\n",
       "      <td>2019-01-01 00:00:04</td>\n",
       "      <td>Using a ScheduledExecutorService to run a task...</td>\n",
       "      <td>&lt;p&gt;I am working on a program that will read da...</td>\n",
       "      <td>&lt;java&gt;&lt;executorservice&gt;&lt;java-threads&gt;</td>\n",
       "      <td>73</td>\n",
       "      <td>1</td>\n",
       "      <td>3</td>\n",
       "    </tr>\n",
       "    <tr>\n",
       "      <th>1</th>\n",
       "      <td>53992219</td>\n",
       "      <td>2019-01-01 00:01:55</td>\n",
       "      <td>How to programmatically change style sheet of ...</td>\n",
       "      <td>&lt;p&gt;I have so many buttons on a dialog and I wa...</td>\n",
       "      <td>&lt;c++&gt;&lt;qt&gt;&lt;qt5&gt;&lt;qtstylesheets&gt;&lt;qpushbutton&gt;</td>\n",
       "      <td>775</td>\n",
       "      <td>2</td>\n",
       "      <td>2</td>\n",
       "    </tr>\n",
       "    <tr>\n",
       "      <th>2</th>\n",
       "      <td>53992220</td>\n",
       "      <td>2019-01-01 00:02:08</td>\n",
       "      <td>Trying to put website into Maintenance Mode (3...</td>\n",
       "      <td>&lt;p&gt;I'm trying to put my webpage into Maintenan...</td>\n",
       "      <td>&lt;.htaccess&gt;</td>\n",
       "      <td>364</td>\n",
       "      <td>2</td>\n",
       "      <td>13</td>\n",
       "    </tr>\n",
       "    <tr>\n",
       "      <th>3</th>\n",
       "      <td>53992221</td>\n",
       "      <td>2019-01-01 00:02:27</td>\n",
       "      <td>Node.js Lambda Async return Undefined</td>\n",
       "      <td>&lt;p&gt;Simple call to ec2 Describing Security grou...</td>\n",
       "      <td>&lt;node.js&gt;&lt;lambda&gt;</td>\n",
       "      <td>423</td>\n",
       "      <td>3</td>\n",
       "      <td>3</td>\n",
       "    </tr>\n",
       "    <tr>\n",
       "      <th>4</th>\n",
       "      <td>53992223</td>\n",
       "      <td>2019-01-01 00:02:37</td>\n",
       "      <td>Unable to print a class list attribute using i...</td>\n",
       "      <td>&lt;p&gt;I am designing a deck class that has &lt;stron...</td>\n",
       "      <td>&lt;python&gt;&lt;python-3.x&gt;&lt;list&gt;&lt;class&gt;&lt;printing&gt;</td>\n",
       "      <td>40</td>\n",
       "      <td>2</td>\n",
       "      <td>0</td>\n",
       "    </tr>\n",
       "  </tbody>\n",
       "</table>\n",
       "</div>"
      ],
      "text/plain": [
       "         Id         CreationDate  \\\n",
       "0  53992215  2019-01-01 00:00:04   \n",
       "1  53992219  2019-01-01 00:01:55   \n",
       "2  53992220  2019-01-01 00:02:08   \n",
       "3  53992221  2019-01-01 00:02:27   \n",
       "4  53992223  2019-01-01 00:02:37   \n",
       "\n",
       "                                               Title  \\\n",
       "0  Using a ScheduledExecutorService to run a task...   \n",
       "1  How to programmatically change style sheet of ...   \n",
       "2  Trying to put website into Maintenance Mode (3...   \n",
       "3              Node.js Lambda Async return Undefined   \n",
       "4  Unable to print a class list attribute using i...   \n",
       "\n",
       "                                                Body  \\\n",
       "0  <p>I am working on a program that will read da...   \n",
       "1  <p>I have so many buttons on a dialog and I wa...   \n",
       "2  <p>I'm trying to put my webpage into Maintenan...   \n",
       "3  <p>Simple call to ec2 Describing Security grou...   \n",
       "4  <p>I am designing a deck class that has <stron...   \n",
       "\n",
       "                                          Tags  ViewCount  AnswerCount  \\\n",
       "0        <java><executorservice><java-threads>         73            1   \n",
       "1   <c++><qt><qt5><qtstylesheets><qpushbutton>        775            2   \n",
       "2                                  <.htaccess>        364            2   \n",
       "3                            <node.js><lambda>        423            3   \n",
       "4  <python><python-3.x><list><class><printing>         40            2   \n",
       "\n",
       "   CommentCount  \n",
       "0             3  \n",
       "1             2  \n",
       "2            13  \n",
       "3             3  \n",
       "4             0  "
      ]
     },
     "execution_count": 6,
     "metadata": {},
     "output_type": "execute_result"
    }
   ],
   "source": [
    "combined_csv.head()"
   ]
  },
  {
   "cell_type": "code",
   "execution_count": 7,
   "metadata": {
    "ExecuteTime": {
     "end_time": "2020-03-11T16:33:25.329781Z",
     "start_time": "2020-03-11T16:33:25.318885Z"
    }
   },
   "outputs": [
    {
     "data": {
      "text/html": [
       "<div>\n",
       "<style scoped>\n",
       "    .dataframe tbody tr th:only-of-type {\n",
       "        vertical-align: middle;\n",
       "    }\n",
       "\n",
       "    .dataframe tbody tr th {\n",
       "        vertical-align: top;\n",
       "    }\n",
       "\n",
       "    .dataframe thead th {\n",
       "        text-align: right;\n",
       "    }\n",
       "</style>\n",
       "<table border=\"1\" class=\"dataframe\">\n",
       "  <thead>\n",
       "    <tr style=\"text-align: right;\">\n",
       "      <th></th>\n",
       "      <th>Id</th>\n",
       "      <th>CreationDate</th>\n",
       "      <th>Title</th>\n",
       "      <th>Body</th>\n",
       "      <th>Tags</th>\n",
       "      <th>ViewCount</th>\n",
       "      <th>AnswerCount</th>\n",
       "      <th>CommentCount</th>\n",
       "    </tr>\n",
       "  </thead>\n",
       "  <tbody>\n",
       "    <tr>\n",
       "      <th>32608</th>\n",
       "      <td>59538122</td>\n",
       "      <td>2019-12-30 23:58:11</td>\n",
       "      <td>Bootstrap - Nav bar not working correctly</td>\n",
       "      <td>&lt;p&gt;In my project, I implement bootstrap. I als...</td>\n",
       "      <td>&lt;html&gt;&lt;twitter-bootstrap&gt;&lt;bootstrap-4&gt;</td>\n",
       "      <td>33</td>\n",
       "      <td>0</td>\n",
       "      <td>9</td>\n",
       "    </tr>\n",
       "    <tr>\n",
       "      <th>32609</th>\n",
       "      <td>59538123</td>\n",
       "      <td>2019-12-30 23:58:19</td>\n",
       "      <td>DOMXpath query returns nothing and I can't fin...</td>\n",
       "      <td>&lt;p&gt;I have the following content in a wordpress...</td>\n",
       "      <td>&lt;php&gt;&lt;html&gt;&lt;wordpress&gt;&lt;dom&gt;&lt;xpath&gt;</td>\n",
       "      <td>36</td>\n",
       "      <td>1</td>\n",
       "      <td>0</td>\n",
       "    </tr>\n",
       "    <tr>\n",
       "      <th>32610</th>\n",
       "      <td>59538126</td>\n",
       "      <td>2019-12-30 23:58:27</td>\n",
       "      <td>Excel Formula to sum 12 most recent cells</td>\n",
       "      <td>&lt;p&gt;I have an Excel formula question that I was...</td>\n",
       "      <td>&lt;excel&gt;&lt;excel-formula&gt;&lt;sum&gt;</td>\n",
       "      <td>71</td>\n",
       "      <td>3</td>\n",
       "      <td>4</td>\n",
       "    </tr>\n",
       "    <tr>\n",
       "      <th>32611</th>\n",
       "      <td>59538127</td>\n",
       "      <td>2019-12-30 23:58:30</td>\n",
       "      <td>How do I divide my screen in 2 equal parts usi...</td>\n",
       "      <td>&lt;p&gt;I would like to divide my screen in two hal...</td>\n",
       "      <td>&lt;android&gt;&lt;android-constraintlayout&gt;</td>\n",
       "      <td>50</td>\n",
       "      <td>1</td>\n",
       "      <td>1</td>\n",
       "    </tr>\n",
       "    <tr>\n",
       "      <th>32612</th>\n",
       "      <td>59538132</td>\n",
       "      <td>2019-12-30 23:59:28</td>\n",
       "      <td>HttpContext is NULL when running web app in IIS</td>\n",
       "      <td>&lt;p&gt;I have two application, both running on the...</td>\n",
       "      <td>&lt;asp.net-core&gt;&lt;iis&gt;&lt;identityserver4&gt;&lt;blazor-se...</td>\n",
       "      <td>159</td>\n",
       "      <td>1</td>\n",
       "      <td>3</td>\n",
       "    </tr>\n",
       "  </tbody>\n",
       "</table>\n",
       "</div>"
      ],
      "text/plain": [
       "             Id         CreationDate  \\\n",
       "32608  59538122  2019-12-30 23:58:11   \n",
       "32609  59538123  2019-12-30 23:58:19   \n",
       "32610  59538126  2019-12-30 23:58:27   \n",
       "32611  59538127  2019-12-30 23:58:30   \n",
       "32612  59538132  2019-12-30 23:59:28   \n",
       "\n",
       "                                                   Title  \\\n",
       "32608          Bootstrap - Nav bar not working correctly   \n",
       "32609  DOMXpath query returns nothing and I can't fin...   \n",
       "32610          Excel Formula to sum 12 most recent cells   \n",
       "32611  How do I divide my screen in 2 equal parts usi...   \n",
       "32612    HttpContext is NULL when running web app in IIS   \n",
       "\n",
       "                                                    Body  \\\n",
       "32608  <p>In my project, I implement bootstrap. I als...   \n",
       "32609  <p>I have the following content in a wordpress...   \n",
       "32610  <p>I have an Excel formula question that I was...   \n",
       "32611  <p>I would like to divide my screen in two hal...   \n",
       "32612  <p>I have two application, both running on the...   \n",
       "\n",
       "                                                    Tags  ViewCount  \\\n",
       "32608             <html><twitter-bootstrap><bootstrap-4>         33   \n",
       "32609                 <php><html><wordpress><dom><xpath>         36   \n",
       "32610                        <excel><excel-formula><sum>         71   \n",
       "32611                <android><android-constraintlayout>         50   \n",
       "32612  <asp.net-core><iis><identityserver4><blazor-se...        159   \n",
       "\n",
       "       AnswerCount  CommentCount  \n",
       "32608            0             9  \n",
       "32609            1             0  \n",
       "32610            3             4  \n",
       "32611            1             1  \n",
       "32612            1             3  "
      ]
     },
     "execution_count": 7,
     "metadata": {},
     "output_type": "execute_result"
    }
   ],
   "source": [
    "combined_csv.tail()"
   ]
  },
  {
   "cell_type": "code",
   "execution_count": 8,
   "metadata": {
    "ExecuteTime": {
     "end_time": "2020-03-11T16:33:33.121132Z",
     "start_time": "2020-03-11T16:33:33.116857Z"
    }
   },
   "outputs": [
    {
     "data": {
      "text/plain": [
       "(1878570, 8)"
      ]
     },
     "execution_count": 8,
     "metadata": {},
     "output_type": "execute_result"
    }
   ],
   "source": [
    "combined_csv.shape"
   ]
  },
  {
   "cell_type": "code",
   "execution_count": 9,
   "metadata": {
    "ExecuteTime": {
     "end_time": "2020-03-11T16:36:28.534331Z",
     "start_time": "2020-03-11T16:35:01.792361Z"
    }
   },
   "outputs": [],
   "source": [
    "# Save combined csv to data folder \n",
    "# will use this file in the next notbook: 02 preprocessing_cleaning \n",
    "combined_csv.to_csv('../data/weekly_combined2019.csv', index=False)"
   ]
  }
 ],
 "metadata": {
  "kernelspec": {
   "display_name": "Python 3",
   "language": "python",
   "name": "python3"
  },
  "language_info": {
   "codemirror_mode": {
    "name": "ipython",
    "version": 3
   },
   "file_extension": ".py",
   "mimetype": "text/x-python",
   "name": "python",
   "nbconvert_exporter": "python",
   "pygments_lexer": "ipython3",
   "version": "3.7.1"
  },
  "toc": {
   "base_numbering": 1,
   "nav_menu": {},
   "number_sections": true,
   "sideBar": true,
   "skip_h1_title": false,
   "title_cell": "Table of Contents",
   "title_sidebar": "Contents",
   "toc_cell": false,
   "toc_position": {},
   "toc_section_display": true,
   "toc_window_display": false
  },
  "varInspector": {
   "cols": {
    "lenName": 16,
    "lenType": 16,
    "lenVar": 40
   },
   "kernels_config": {
    "python": {
     "delete_cmd_postfix": "",
     "delete_cmd_prefix": "del ",
     "library": "var_list.py",
     "varRefreshCmd": "print(var_dic_list())"
    },
    "r": {
     "delete_cmd_postfix": ") ",
     "delete_cmd_prefix": "rm(",
     "library": "var_list.r",
     "varRefreshCmd": "cat(var_dic_list()) "
    }
   },
   "types_to_exclude": [
    "module",
    "function",
    "builtin_function_or_method",
    "instance",
    "_Feature"
   ],
   "window_display": false
  }
 },
 "nbformat": 4,
 "nbformat_minor": 2
}
